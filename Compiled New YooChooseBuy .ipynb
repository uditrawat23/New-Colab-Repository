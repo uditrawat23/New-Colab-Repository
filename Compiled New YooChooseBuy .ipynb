{
  "nbformat": 4,
  "nbformat_minor": 0,
  "metadata": {
    "kernelspec": {
      "display_name": "Python 3",
      "language": "python",
      "name": "python3"
    },
    "language_info": {
      "codemirror_mode": {
        "name": "ipython",
        "version": 3
      },
      "file_extension": ".py",
      "mimetype": "text/x-python",
      "name": "python",
      "nbconvert_exporter": "python",
      "pygments_lexer": "ipython3",
      "version": "3.6.6"
    },
    "colab": {
      "name": "YooChooseBuy.ipynb",
      "provenance": []
    },
    "accelerator": "GPU"
  },
  "cells": [
    {
      "cell_type": "code",
      "metadata": {
        "id": "6H7xeIkQm0sf",
        "colab_type": "code",
        "colab": {
          "base_uri": "https://localhost:8080/",
          "height": 124
        },
        "outputId": "99e54ed7-144c-4e0a-dde5-a2e5294a6447"
      },
      "source": [
        "from google.colab import drive\n",
        "drive.mount('/content/drive')"
      ],
      "execution_count": null,
      "outputs": [
        {
          "output_type": "stream",
          "text": [
            "Go to this URL in a browser: https://accounts.google.com/o/oauth2/auth?client_id=947318989803-6bn6qk8qdgf4n4g3pfee6491hc0brc4i.apps.googleusercontent.com&redirect_uri=urn%3aietf%3awg%3aoauth%3a2.0%3aoob&response_type=code&scope=email%20https%3a%2f%2fwww.googleapis.com%2fauth%2fdocs.test%20https%3a%2f%2fwww.googleapis.com%2fauth%2fdrive%20https%3a%2f%2fwww.googleapis.com%2fauth%2fdrive.photos.readonly%20https%3a%2f%2fwww.googleapis.com%2fauth%2fpeopleapi.readonly\n",
            "\n",
            "Enter your authorization code:\n",
            "··········\n",
            "Mounted at /content/drive\n"
          ],
          "name": "stdout"
        }
      ]
    },
    {
      "cell_type": "code",
      "metadata": {
        "id": "G6QtpdhJGuJR",
        "colab_type": "code",
        "colab": {}
      },
      "source": [
        "# import numpy as np\n",
        "# import pandas as pd"
      ],
      "execution_count": null,
      "outputs": []
    },
    {
      "cell_type": "code",
      "metadata": {
        "id": "R9fDTJXNGym4",
        "colab_type": "code",
        "colab": {
          "base_uri": "https://localhost:8080/",
          "height": 381
        },
        "outputId": "713fe829-aff2-4626-f654-4ba0502e0eb1"
      },
      "source": [
        "# pd.read_csv('/content/drive/My Drive/1 Data/yoochoose_click_binary_100000_sess.dataset')"
      ],
      "execution_count": null,
      "outputs": [
        {
          "output_type": "error",
          "ename": "UnicodeDecodeError",
          "evalue": "ignored",
          "traceback": [
            "\u001b[0;31m---------------------------------------------------------------------------\u001b[0m",
            "\u001b[0;31mUnicodeDecodeError\u001b[0m                        Traceback (most recent call last)",
            "\u001b[0;32m<ipython-input-4-e3b7a830ad5b>\u001b[0m in \u001b[0;36m<module>\u001b[0;34m()\u001b[0m\n\u001b[0;32m----> 1\u001b[0;31m \u001b[0mpd\u001b[0m\u001b[0;34m.\u001b[0m\u001b[0mread_csv\u001b[0m\u001b[0;34m(\u001b[0m\u001b[0;34m'/content/drive/My Drive/1 Data/yoochoose_click_binary_100000_sess.dataset'\u001b[0m\u001b[0;34m)\u001b[0m\u001b[0;34m\u001b[0m\u001b[0;34m\u001b[0m\u001b[0m\n\u001b[0m",
            "\u001b[0;32m/usr/local/lib/python3.6/dist-packages/pandas/io/parsers.py\u001b[0m in \u001b[0;36mparser_f\u001b[0;34m(filepath_or_buffer, sep, delimiter, header, names, index_col, usecols, squeeze, prefix, mangle_dupe_cols, dtype, engine, converters, true_values, false_values, skipinitialspace, skiprows, skipfooter, nrows, na_values, keep_default_na, na_filter, verbose, skip_blank_lines, parse_dates, infer_datetime_format, keep_date_col, date_parser, dayfirst, cache_dates, iterator, chunksize, compression, thousands, decimal, lineterminator, quotechar, quoting, doublequote, escapechar, comment, encoding, dialect, error_bad_lines, warn_bad_lines, delim_whitespace, low_memory, memory_map, float_precision)\u001b[0m\n\u001b[1;32m    674\u001b[0m         )\n\u001b[1;32m    675\u001b[0m \u001b[0;34m\u001b[0m\u001b[0m\n\u001b[0;32m--> 676\u001b[0;31m         \u001b[0;32mreturn\u001b[0m \u001b[0m_read\u001b[0m\u001b[0;34m(\u001b[0m\u001b[0mfilepath_or_buffer\u001b[0m\u001b[0;34m,\u001b[0m \u001b[0mkwds\u001b[0m\u001b[0;34m)\u001b[0m\u001b[0;34m\u001b[0m\u001b[0;34m\u001b[0m\u001b[0m\n\u001b[0m\u001b[1;32m    677\u001b[0m \u001b[0;34m\u001b[0m\u001b[0m\n\u001b[1;32m    678\u001b[0m     \u001b[0mparser_f\u001b[0m\u001b[0;34m.\u001b[0m\u001b[0m__name__\u001b[0m \u001b[0;34m=\u001b[0m \u001b[0mname\u001b[0m\u001b[0;34m\u001b[0m\u001b[0;34m\u001b[0m\u001b[0m\n",
            "\u001b[0;32m/usr/local/lib/python3.6/dist-packages/pandas/io/parsers.py\u001b[0m in \u001b[0;36m_read\u001b[0;34m(filepath_or_buffer, kwds)\u001b[0m\n\u001b[1;32m    446\u001b[0m \u001b[0;34m\u001b[0m\u001b[0m\n\u001b[1;32m    447\u001b[0m     \u001b[0;31m# Create the parser.\u001b[0m\u001b[0;34m\u001b[0m\u001b[0;34m\u001b[0m\u001b[0;34m\u001b[0m\u001b[0m\n\u001b[0;32m--> 448\u001b[0;31m     \u001b[0mparser\u001b[0m \u001b[0;34m=\u001b[0m \u001b[0mTextFileReader\u001b[0m\u001b[0;34m(\u001b[0m\u001b[0mfp_or_buf\u001b[0m\u001b[0;34m,\u001b[0m \u001b[0;34m**\u001b[0m\u001b[0mkwds\u001b[0m\u001b[0;34m)\u001b[0m\u001b[0;34m\u001b[0m\u001b[0;34m\u001b[0m\u001b[0m\n\u001b[0m\u001b[1;32m    449\u001b[0m \u001b[0;34m\u001b[0m\u001b[0m\n\u001b[1;32m    450\u001b[0m     \u001b[0;32mif\u001b[0m \u001b[0mchunksize\u001b[0m \u001b[0;32mor\u001b[0m \u001b[0miterator\u001b[0m\u001b[0;34m:\u001b[0m\u001b[0;34m\u001b[0m\u001b[0;34m\u001b[0m\u001b[0m\n",
            "\u001b[0;32m/usr/local/lib/python3.6/dist-packages/pandas/io/parsers.py\u001b[0m in \u001b[0;36m__init__\u001b[0;34m(self, f, engine, **kwds)\u001b[0m\n\u001b[1;32m    878\u001b[0m             \u001b[0mself\u001b[0m\u001b[0;34m.\u001b[0m\u001b[0moptions\u001b[0m\u001b[0;34m[\u001b[0m\u001b[0;34m\"has_index_names\"\u001b[0m\u001b[0;34m]\u001b[0m \u001b[0;34m=\u001b[0m \u001b[0mkwds\u001b[0m\u001b[0;34m[\u001b[0m\u001b[0;34m\"has_index_names\"\u001b[0m\u001b[0;34m]\u001b[0m\u001b[0;34m\u001b[0m\u001b[0;34m\u001b[0m\u001b[0m\n\u001b[1;32m    879\u001b[0m \u001b[0;34m\u001b[0m\u001b[0m\n\u001b[0;32m--> 880\u001b[0;31m         \u001b[0mself\u001b[0m\u001b[0;34m.\u001b[0m\u001b[0m_make_engine\u001b[0m\u001b[0;34m(\u001b[0m\u001b[0mself\u001b[0m\u001b[0;34m.\u001b[0m\u001b[0mengine\u001b[0m\u001b[0;34m)\u001b[0m\u001b[0;34m\u001b[0m\u001b[0;34m\u001b[0m\u001b[0m\n\u001b[0m\u001b[1;32m    881\u001b[0m \u001b[0;34m\u001b[0m\u001b[0m\n\u001b[1;32m    882\u001b[0m     \u001b[0;32mdef\u001b[0m \u001b[0mclose\u001b[0m\u001b[0;34m(\u001b[0m\u001b[0mself\u001b[0m\u001b[0;34m)\u001b[0m\u001b[0;34m:\u001b[0m\u001b[0;34m\u001b[0m\u001b[0;34m\u001b[0m\u001b[0m\n",
            "\u001b[0;32m/usr/local/lib/python3.6/dist-packages/pandas/io/parsers.py\u001b[0m in \u001b[0;36m_make_engine\u001b[0;34m(self, engine)\u001b[0m\n\u001b[1;32m   1112\u001b[0m     \u001b[0;32mdef\u001b[0m \u001b[0m_make_engine\u001b[0m\u001b[0;34m(\u001b[0m\u001b[0mself\u001b[0m\u001b[0;34m,\u001b[0m \u001b[0mengine\u001b[0m\u001b[0;34m=\u001b[0m\u001b[0;34m\"c\"\u001b[0m\u001b[0;34m)\u001b[0m\u001b[0;34m:\u001b[0m\u001b[0;34m\u001b[0m\u001b[0;34m\u001b[0m\u001b[0m\n\u001b[1;32m   1113\u001b[0m         \u001b[0;32mif\u001b[0m \u001b[0mengine\u001b[0m \u001b[0;34m==\u001b[0m \u001b[0;34m\"c\"\u001b[0m\u001b[0;34m:\u001b[0m\u001b[0;34m\u001b[0m\u001b[0;34m\u001b[0m\u001b[0m\n\u001b[0;32m-> 1114\u001b[0;31m             \u001b[0mself\u001b[0m\u001b[0;34m.\u001b[0m\u001b[0m_engine\u001b[0m \u001b[0;34m=\u001b[0m \u001b[0mCParserWrapper\u001b[0m\u001b[0;34m(\u001b[0m\u001b[0mself\u001b[0m\u001b[0;34m.\u001b[0m\u001b[0mf\u001b[0m\u001b[0;34m,\u001b[0m \u001b[0;34m**\u001b[0m\u001b[0mself\u001b[0m\u001b[0;34m.\u001b[0m\u001b[0moptions\u001b[0m\u001b[0;34m)\u001b[0m\u001b[0;34m\u001b[0m\u001b[0;34m\u001b[0m\u001b[0m\n\u001b[0m\u001b[1;32m   1115\u001b[0m         \u001b[0;32melse\u001b[0m\u001b[0;34m:\u001b[0m\u001b[0;34m\u001b[0m\u001b[0;34m\u001b[0m\u001b[0m\n\u001b[1;32m   1116\u001b[0m             \u001b[0;32mif\u001b[0m \u001b[0mengine\u001b[0m \u001b[0;34m==\u001b[0m \u001b[0;34m\"python\"\u001b[0m\u001b[0;34m:\u001b[0m\u001b[0;34m\u001b[0m\u001b[0;34m\u001b[0m\u001b[0m\n",
            "\u001b[0;32m/usr/local/lib/python3.6/dist-packages/pandas/io/parsers.py\u001b[0m in \u001b[0;36m__init__\u001b[0;34m(self, src, **kwds)\u001b[0m\n\u001b[1;32m   1889\u001b[0m         \u001b[0mkwds\u001b[0m\u001b[0;34m[\u001b[0m\u001b[0;34m\"usecols\"\u001b[0m\u001b[0;34m]\u001b[0m \u001b[0;34m=\u001b[0m \u001b[0mself\u001b[0m\u001b[0;34m.\u001b[0m\u001b[0musecols\u001b[0m\u001b[0;34m\u001b[0m\u001b[0;34m\u001b[0m\u001b[0m\n\u001b[1;32m   1890\u001b[0m \u001b[0;34m\u001b[0m\u001b[0m\n\u001b[0;32m-> 1891\u001b[0;31m         \u001b[0mself\u001b[0m\u001b[0;34m.\u001b[0m\u001b[0m_reader\u001b[0m \u001b[0;34m=\u001b[0m \u001b[0mparsers\u001b[0m\u001b[0;34m.\u001b[0m\u001b[0mTextReader\u001b[0m\u001b[0;34m(\u001b[0m\u001b[0msrc\u001b[0m\u001b[0;34m,\u001b[0m \u001b[0;34m**\u001b[0m\u001b[0mkwds\u001b[0m\u001b[0;34m)\u001b[0m\u001b[0;34m\u001b[0m\u001b[0;34m\u001b[0m\u001b[0m\n\u001b[0m\u001b[1;32m   1892\u001b[0m         \u001b[0mself\u001b[0m\u001b[0;34m.\u001b[0m\u001b[0munnamed_cols\u001b[0m \u001b[0;34m=\u001b[0m \u001b[0mself\u001b[0m\u001b[0;34m.\u001b[0m\u001b[0m_reader\u001b[0m\u001b[0;34m.\u001b[0m\u001b[0munnamed_cols\u001b[0m\u001b[0;34m\u001b[0m\u001b[0;34m\u001b[0m\u001b[0m\n\u001b[1;32m   1893\u001b[0m \u001b[0;34m\u001b[0m\u001b[0m\n",
            "\u001b[0;32mpandas/_libs/parsers.pyx\u001b[0m in \u001b[0;36mpandas._libs.parsers.TextReader.__cinit__\u001b[0;34m()\u001b[0m\n",
            "\u001b[0;32mpandas/_libs/parsers.pyx\u001b[0m in \u001b[0;36mpandas._libs.parsers.TextReader._get_header\u001b[0;34m()\u001b[0m\n",
            "\u001b[0;31mUnicodeDecodeError\u001b[0m: 'utf-8' codec can't decode byte 0x80 in position 0: invalid start byte"
          ]
        }
      ]
    },
    {
      "cell_type": "code",
      "metadata": {
        "id": "uXTAK2BEnHeo",
        "colab_type": "code",
        "colab": {
          "base_uri": "https://localhost:8080/",
          "height": 1000
        },
        "outputId": "3f0f5dbe-cf59-4c96-a615-8f4ffec16336"
      },
      "source": [
        "!pip install torch-geometric \\\n",
        "  torch-sparse==latest+cu101 \\\n",
        "  torch-scatter==latest+cu101 \\\n",
        "  torch-cluster==latest+cu101 \\\n",
        "  -f https://pytorch-geometric.com/whl/torch-1.5.0.html"
      ],
      "execution_count": null,
      "outputs": [
        {
          "output_type": "stream",
          "text": [
            "Looking in links: https://pytorch-geometric.com/whl/torch-1.5.0.html\n",
            "Collecting torch-geometric\n",
            "\u001b[?25l  Downloading https://files.pythonhosted.org/packages/f5/f2/26359fb7b50d54924ddd23778d4830b2653df9ffe72f85caad2b829dc778/torch_geometric-1.5.0.tar.gz (153kB)\n",
            "\u001b[K     |████████████████████████████████| 153kB 2.8MB/s \n",
            "\u001b[?25hCollecting torch-sparse==latest+cu101\n",
            "\u001b[?25l  Downloading https://pytorch-geometric.com/whl/torch-1.5.0/torch_sparse-latest%2Bcu101-cp36-cp36m-linux_x86_64.whl (21.6MB)\n",
            "\u001b[K     |████████████████████████████████| 21.6MB 1.2MB/s \n",
            "\u001b[?25hCollecting torch-scatter==latest+cu101\n",
            "\u001b[?25l  Downloading https://pytorch-geometric.com/whl/torch-1.5.0/torch_scatter-latest%2Bcu101-cp36-cp36m-linux_x86_64.whl (12.2MB)\n",
            "\u001b[K     |████████████████████████████████| 12.3MB 249kB/s \n",
            "\u001b[?25hCollecting torch-cluster==latest+cu101\n",
            "\u001b[?25l  Downloading https://pytorch-geometric.com/whl/torch-1.5.0/torch_cluster-latest%2Bcu101-cp36-cp36m-linux_x86_64.whl (18.2MB)\n",
            "\u001b[K     |████████████████████████████████| 18.2MB 168kB/s \n",
            "\u001b[?25hRequirement already satisfied: torch in /usr/local/lib/python3.6/dist-packages (from torch-geometric) (1.5.0+cu101)\n",
            "Requirement already satisfied: numpy in /usr/local/lib/python3.6/dist-packages (from torch-geometric) (1.18.5)\n",
            "Requirement already satisfied: tqdm in /usr/local/lib/python3.6/dist-packages (from torch-geometric) (4.41.1)\n",
            "Requirement already satisfied: scipy in /usr/local/lib/python3.6/dist-packages (from torch-geometric) (1.4.1)\n",
            "Requirement already satisfied: networkx in /usr/local/lib/python3.6/dist-packages (from torch-geometric) (2.4)\n",
            "Requirement already satisfied: scikit-learn in /usr/local/lib/python3.6/dist-packages (from torch-geometric) (0.22.2.post1)\n",
            "Requirement already satisfied: numba in /usr/local/lib/python3.6/dist-packages (from torch-geometric) (0.48.0)\n",
            "Requirement already satisfied: requests in /usr/local/lib/python3.6/dist-packages (from torch-geometric) (2.23.0)\n",
            "Collecting plyfile\n",
            "  Downloading https://files.pythonhosted.org/packages/93/c8/cf47848cd4d661850e4a8e7f0fc4f7298515e06d0da7255ed08e5312d4aa/plyfile-0.7.2-py3-none-any.whl\n",
            "Requirement already satisfied: pandas in /usr/local/lib/python3.6/dist-packages (from torch-geometric) (1.0.4)\n",
            "Collecting rdflib\n",
            "\u001b[?25l  Downloading https://files.pythonhosted.org/packages/d0/6b/6454aa1db753c0f8bc265a5bd5c10b5721a4bb24160fb4faf758cf6be8a1/rdflib-5.0.0-py3-none-any.whl (231kB)\n",
            "\u001b[K     |████████████████████████████████| 235kB 7.9MB/s \n",
            "\u001b[?25hRequirement already satisfied: h5py in /usr/local/lib/python3.6/dist-packages (from torch-geometric) (2.10.0)\n",
            "Requirement already satisfied: googledrivedownloader in /usr/local/lib/python3.6/dist-packages (from torch-geometric) (0.4)\n",
            "Collecting ase\n",
            "\u001b[?25l  Downloading https://files.pythonhosted.org/packages/d0/70/a8b1a7831193aa228defd805891c534d3e4717c8988147522e673458ddce/ase-3.19.1-py3-none-any.whl (2.1MB)\n",
            "\u001b[K     |████████████████████████████████| 2.1MB 11.4MB/s \n",
            "\u001b[?25hRequirement already satisfied: future in /usr/local/lib/python3.6/dist-packages (from torch->torch-geometric) (0.16.0)\n",
            "Requirement already satisfied: decorator>=4.3.0 in /usr/local/lib/python3.6/dist-packages (from networkx->torch-geometric) (4.4.2)\n",
            "Requirement already satisfied: joblib>=0.11 in /usr/local/lib/python3.6/dist-packages (from scikit-learn->torch-geometric) (0.15.1)\n",
            "Requirement already satisfied: llvmlite<0.32.0,>=0.31.0dev0 in /usr/local/lib/python3.6/dist-packages (from numba->torch-geometric) (0.31.0)\n",
            "Requirement already satisfied: setuptools in /usr/local/lib/python3.6/dist-packages (from numba->torch-geometric) (47.1.1)\n",
            "Requirement already satisfied: urllib3!=1.25.0,!=1.25.1,<1.26,>=1.21.1 in /usr/local/lib/python3.6/dist-packages (from requests->torch-geometric) (1.24.3)\n",
            "Requirement already satisfied: idna<3,>=2.5 in /usr/local/lib/python3.6/dist-packages (from requests->torch-geometric) (2.9)\n",
            "Requirement already satisfied: chardet<4,>=3.0.2 in /usr/local/lib/python3.6/dist-packages (from requests->torch-geometric) (3.0.4)\n",
            "Requirement already satisfied: certifi>=2017.4.17 in /usr/local/lib/python3.6/dist-packages (from requests->torch-geometric) (2020.4.5.1)\n",
            "Requirement already satisfied: python-dateutil>=2.6.1 in /usr/local/lib/python3.6/dist-packages (from pandas->torch-geometric) (2.8.1)\n",
            "Requirement already satisfied: pytz>=2017.2 in /usr/local/lib/python3.6/dist-packages (from pandas->torch-geometric) (2018.9)\n",
            "Requirement already satisfied: six in /usr/local/lib/python3.6/dist-packages (from rdflib->torch-geometric) (1.12.0)\n",
            "Requirement already satisfied: pyparsing in /usr/local/lib/python3.6/dist-packages (from rdflib->torch-geometric) (2.4.7)\n",
            "Collecting isodate\n",
            "\u001b[?25l  Downloading https://files.pythonhosted.org/packages/9b/9f/b36f7774ff5ea8e428fdcfc4bb332c39ee5b9362ddd3d40d9516a55221b2/isodate-0.6.0-py2.py3-none-any.whl (45kB)\n",
            "\u001b[K     |████████████████████████████████| 51kB 6.4MB/s \n",
            "\u001b[?25hRequirement already satisfied: matplotlib in /usr/local/lib/python3.6/dist-packages (from ase->torch-geometric) (3.2.1)\n",
            "Requirement already satisfied: kiwisolver>=1.0.1 in /usr/local/lib/python3.6/dist-packages (from matplotlib->ase->torch-geometric) (1.2.0)\n",
            "Requirement already satisfied: cycler>=0.10 in /usr/local/lib/python3.6/dist-packages (from matplotlib->ase->torch-geometric) (0.10.0)\n",
            "Building wheels for collected packages: torch-geometric\n",
            "  Building wheel for torch-geometric (setup.py) ... \u001b[?25l\u001b[?25hdone\n",
            "  Created wheel for torch-geometric: filename=torch_geometric-1.5.0-cp36-none-any.whl size=267918 sha256=7f17d8102cb513836afda599154f4bf07c37f6e4384c2bc3ba819b8574e87609\n",
            "  Stored in directory: /root/.cache/pip/wheels/ec/51/31/5786f2ac419ee312f22d4d2877da05f20e7f2d430e22917daf\n",
            "Successfully built torch-geometric\n",
            "Installing collected packages: plyfile, isodate, rdflib, ase, torch-geometric, torch-sparse, torch-scatter, torch-cluster\n",
            "Successfully installed ase-3.19.1 isodate-0.6.0 plyfile-0.7.2 rdflib-5.0.0 torch-cluster-1.5.4 torch-geometric-1.5.0 torch-scatter-2.0.4 torch-sparse-0.6.5\n"
          ],
          "name": "stdout"
        }
      ]
    },
    {
      "cell_type": "code",
      "metadata": {
        "id": "Q6_yYEbolde7",
        "colab_type": "code",
        "colab": {}
      },
      "source": [
        "import numpy as np\n",
        "import pandas as pd\n",
        "import pickle\n",
        "import csv\n",
        "import os\n",
        "import torch\n",
        "from torch_geometric.data import Data\n",
        "from tqdm import tqdm\n",
        "np.random.seed(42)"
      ],
      "execution_count": null,
      "outputs": []
    },
    {
      "cell_type": "code",
      "metadata": {
        "id": "w7UFCJjqnSO7",
        "colab_type": "code",
        "colab": {
          "base_uri": "https://localhost:8080/",
          "height": 183
        },
        "outputId": "4d57ed49-3c9c-4ab7-8b9d-bf5e355afa46"
      },
      "source": [
        "import os\n",
        "os.chdir('/content/drive/My Drive/RecSys')"
      ],
      "execution_count": null,
      "outputs": [
        {
          "output_type": "error",
          "ename": "FileNotFoundError",
          "evalue": "ignored",
          "traceback": [
            "\u001b[0;31m---------------------------------------------------------------------------\u001b[0m",
            "\u001b[0;31mFileNotFoundError\u001b[0m                         Traceback (most recent call last)",
            "\u001b[0;32m<ipython-input-5-35fa82bd0072>\u001b[0m in \u001b[0;36m<module>\u001b[0;34m()\u001b[0m\n\u001b[1;32m      1\u001b[0m \u001b[0;32mimport\u001b[0m \u001b[0mos\u001b[0m\u001b[0;34m\u001b[0m\u001b[0;34m\u001b[0m\u001b[0m\n\u001b[0;32m----> 2\u001b[0;31m \u001b[0mos\u001b[0m\u001b[0;34m.\u001b[0m\u001b[0mchdir\u001b[0m\u001b[0;34m(\u001b[0m\u001b[0;34m'/content/drive/My Drive/RecSys'\u001b[0m\u001b[0;34m)\u001b[0m\u001b[0;34m\u001b[0m\u001b[0;34m\u001b[0m\u001b[0m\n\u001b[0m",
            "\u001b[0;31mFileNotFoundError\u001b[0m: [Errno 2] No such file or directory: '/content/drive/My Drive/RecSys'"
          ]
        }
      ]
    },
    {
      "cell_type": "code",
      "metadata": {
        "id": "EbuFpFwTnShy",
        "colab_type": "code",
        "colab": {
          "base_uri": "https://localhost:8080/",
          "height": 104
        },
        "outputId": "9de5e624-8559-4d78-f803-632d673c773c"
      },
      "source": [
        "os.listdir('/content/drive/My Drive/1_RecSys')"
      ],
      "execution_count": null,
      "outputs": [
        {
          "output_type": "execute_result",
          "data": {
            "text/plain": [
              "['yoochoose-buys.dat',\n",
              " 'yoochoose-clicks.dat',\n",
              " 'yoochoose-test.dat',\n",
              " '.ipynb_checkpoints',\n",
              " 'yoochoose_click_binary_100000_sess.dataset']"
            ]
          },
          "metadata": {
            "tags": []
          },
          "execution_count": 7
        }
      ]
    },
    {
      "cell_type": "code",
      "metadata": {
        "id": "NIEj2YVMnSsK",
        "colab_type": "code",
        "colab": {}
      },
      "source": [
        "# df = pd.read_csv('/content/drive/My Drive/RecSys/yoochoose_click_binary_100000_sess.dataset', header=None)\n",
        "# df\n",
        "# df.columns=['session_id','timestamp','item_id','category']"
      ],
      "execution_count": null,
      "outputs": []
    },
    {
      "cell_type": "code",
      "metadata": {
        "id": "peEY1j6b6Kt-",
        "colab_type": "code",
        "colab": {
          "base_uri": "https://localhost:8080/",
          "height": 72
        },
        "outputId": "44f72d77-a59a-495d-bd0f-c7a948dd2bae"
      },
      "source": [
        "df = pd.read_csv('/content/drive/My Drive/1_RecSys/yoochoose-clicks.dat', header=None)\n",
        "# df\n",
        "df.columns=['session_id','timestamp','item_id','category']"
      ],
      "execution_count": null,
      "outputs": [
        {
          "output_type": "stream",
          "text": [
            "/usr/local/lib/python3.6/dist-packages/IPython/core/interactiveshell.py:2718: DtypeWarning: Columns (3) have mixed types.Specify dtype option on import or set low_memory=False.\n",
            "  interactivity=interactivity, compiler=compiler, result=result)\n"
          ],
          "name": "stderr"
        }
      ]
    },
    {
      "cell_type": "code",
      "metadata": {
        "id": "BRtLLV7zldfM",
        "colab_type": "code",
        "colab": {
          "base_uri": "https://localhost:8080/",
          "height": 202
        },
        "outputId": "83bc60e5-3195-46c1-9bba-dafcddf87ec9"
      },
      "source": [
        "df.head()"
      ],
      "execution_count": null,
      "outputs": [
        {
          "output_type": "execute_result",
          "data": {
            "text/html": [
              "<div>\n",
              "<style scoped>\n",
              "    .dataframe tbody tr th:only-of-type {\n",
              "        vertical-align: middle;\n",
              "    }\n",
              "\n",
              "    .dataframe tbody tr th {\n",
              "        vertical-align: top;\n",
              "    }\n",
              "\n",
              "    .dataframe thead th {\n",
              "        text-align: right;\n",
              "    }\n",
              "</style>\n",
              "<table border=\"1\" class=\"dataframe\">\n",
              "  <thead>\n",
              "    <tr style=\"text-align: right;\">\n",
              "      <th></th>\n",
              "      <th>session_id</th>\n",
              "      <th>timestamp</th>\n",
              "      <th>item_id</th>\n",
              "      <th>category</th>\n",
              "    </tr>\n",
              "  </thead>\n",
              "  <tbody>\n",
              "    <tr>\n",
              "      <th>0</th>\n",
              "      <td>1</td>\n",
              "      <td>2014-04-07T10:51:09.277Z</td>\n",
              "      <td>214536502</td>\n",
              "      <td>0</td>\n",
              "    </tr>\n",
              "    <tr>\n",
              "      <th>1</th>\n",
              "      <td>1</td>\n",
              "      <td>2014-04-07T10:54:09.868Z</td>\n",
              "      <td>214536500</td>\n",
              "      <td>0</td>\n",
              "    </tr>\n",
              "    <tr>\n",
              "      <th>2</th>\n",
              "      <td>1</td>\n",
              "      <td>2014-04-07T10:54:46.998Z</td>\n",
              "      <td>214536506</td>\n",
              "      <td>0</td>\n",
              "    </tr>\n",
              "    <tr>\n",
              "      <th>3</th>\n",
              "      <td>1</td>\n",
              "      <td>2014-04-07T10:57:00.306Z</td>\n",
              "      <td>214577561</td>\n",
              "      <td>0</td>\n",
              "    </tr>\n",
              "    <tr>\n",
              "      <th>4</th>\n",
              "      <td>2</td>\n",
              "      <td>2014-04-07T13:56:37.614Z</td>\n",
              "      <td>214662742</td>\n",
              "      <td>0</td>\n",
              "    </tr>\n",
              "  </tbody>\n",
              "</table>\n",
              "</div>"
            ],
            "text/plain": [
              "   session_id                 timestamp    item_id category\n",
              "0           1  2014-04-07T10:51:09.277Z  214536502        0\n",
              "1           1  2014-04-07T10:54:09.868Z  214536500        0\n",
              "2           1  2014-04-07T10:54:46.998Z  214536506        0\n",
              "3           1  2014-04-07T10:57:00.306Z  214577561        0\n",
              "4           2  2014-04-07T13:56:37.614Z  214662742        0"
            ]
          },
          "metadata": {
            "tags": []
          },
          "execution_count": 9
        }
      ]
    },
    {
      "cell_type": "code",
      "metadata": {
        "id": "Ed8yDvaQaxHR",
        "colab_type": "code",
        "colab": {
          "base_uri": "https://localhost:8080/",
          "height": 35
        },
        "outputId": "55b45492-5a87-4321-8904-daf6f02e1ac3"
      },
      "source": [
        "df['session_id'].min(),df['session_id'].max()"
      ],
      "execution_count": null,
      "outputs": [
        {
          "output_type": "execute_result",
          "data": {
            "text/plain": [
              "(1, 11562161)"
            ]
          },
          "metadata": {
            "tags": []
          },
          "execution_count": 10
        }
      ]
    },
    {
      "cell_type": "code",
      "metadata": {
        "id": "J_BWSD9pnlk1",
        "colab_type": "code",
        "colab": {
          "base_uri": "https://localhost:8080/",
          "height": 35
        },
        "outputId": "51de0d95-bc02-41de-a5b5-e31bd46dc7b6"
      },
      "source": [
        "df.shape"
      ],
      "execution_count": null,
      "outputs": [
        {
          "output_type": "execute_result",
          "data": {
            "text/plain": [
              "(33003944, 4)"
            ]
          },
          "metadata": {
            "tags": []
          },
          "execution_count": 11
        }
      ]
    },
    {
      "cell_type": "code",
      "metadata": {
        "id": "0bQ0N5lXldfT",
        "colab_type": "code",
        "colab": {
          "base_uri": "https://localhost:8080/",
          "height": 202
        },
        "outputId": "2dc4e611-2ed7-4d56-ae69-3b030a8c0add"
      },
      "source": [
        "buy_df = pd.read_csv('/content/drive/My Drive/1_RecSys/yoochoose-buys.dat', header=None)\n",
        "buy_df.columns=['session_id','timestamp','item_id','price','quantity']\n",
        "buy_df.head()"
      ],
      "execution_count": null,
      "outputs": [
        {
          "output_type": "execute_result",
          "data": {
            "text/html": [
              "<div>\n",
              "<style scoped>\n",
              "    .dataframe tbody tr th:only-of-type {\n",
              "        vertical-align: middle;\n",
              "    }\n",
              "\n",
              "    .dataframe tbody tr th {\n",
              "        vertical-align: top;\n",
              "    }\n",
              "\n",
              "    .dataframe thead th {\n",
              "        text-align: right;\n",
              "    }\n",
              "</style>\n",
              "<table border=\"1\" class=\"dataframe\">\n",
              "  <thead>\n",
              "    <tr style=\"text-align: right;\">\n",
              "      <th></th>\n",
              "      <th>session_id</th>\n",
              "      <th>timestamp</th>\n",
              "      <th>item_id</th>\n",
              "      <th>price</th>\n",
              "      <th>quantity</th>\n",
              "    </tr>\n",
              "  </thead>\n",
              "  <tbody>\n",
              "    <tr>\n",
              "      <th>0</th>\n",
              "      <td>420374</td>\n",
              "      <td>2014-04-06T18:44:58.314Z</td>\n",
              "      <td>214537888</td>\n",
              "      <td>12462</td>\n",
              "      <td>1</td>\n",
              "    </tr>\n",
              "    <tr>\n",
              "      <th>1</th>\n",
              "      <td>420374</td>\n",
              "      <td>2014-04-06T18:44:58.325Z</td>\n",
              "      <td>214537850</td>\n",
              "      <td>10471</td>\n",
              "      <td>1</td>\n",
              "    </tr>\n",
              "    <tr>\n",
              "      <th>2</th>\n",
              "      <td>281626</td>\n",
              "      <td>2014-04-06T09:40:13.032Z</td>\n",
              "      <td>214535653</td>\n",
              "      <td>1883</td>\n",
              "      <td>1</td>\n",
              "    </tr>\n",
              "    <tr>\n",
              "      <th>3</th>\n",
              "      <td>420368</td>\n",
              "      <td>2014-04-04T06:13:28.848Z</td>\n",
              "      <td>214530572</td>\n",
              "      <td>6073</td>\n",
              "      <td>1</td>\n",
              "    </tr>\n",
              "    <tr>\n",
              "      <th>4</th>\n",
              "      <td>420368</td>\n",
              "      <td>2014-04-04T06:13:28.858Z</td>\n",
              "      <td>214835025</td>\n",
              "      <td>2617</td>\n",
              "      <td>1</td>\n",
              "    </tr>\n",
              "  </tbody>\n",
              "</table>\n",
              "</div>"
            ],
            "text/plain": [
              "   session_id                 timestamp    item_id  price  quantity\n",
              "0      420374  2014-04-06T18:44:58.314Z  214537888  12462         1\n",
              "1      420374  2014-04-06T18:44:58.325Z  214537850  10471         1\n",
              "2      281626  2014-04-06T09:40:13.032Z  214535653   1883         1\n",
              "3      420368  2014-04-04T06:13:28.848Z  214530572   6073         1\n",
              "4      420368  2014-04-04T06:13:28.858Z  214835025   2617         1"
            ]
          },
          "metadata": {
            "tags": []
          },
          "execution_count": 12
        }
      ]
    },
    {
      "cell_type": "code",
      "metadata": {
        "id": "cMPbYDaInziB",
        "colab_type": "code",
        "colab": {
          "base_uri": "https://localhost:8080/",
          "height": 35
        },
        "outputId": "1d8d1b94-7b08-4334-f828-3a1a22897ab3"
      },
      "source": [
        "buy_df.shape"
      ],
      "execution_count": null,
      "outputs": [
        {
          "output_type": "execute_result",
          "data": {
            "text/plain": [
              "(1150753, 5)"
            ]
          },
          "metadata": {
            "tags": []
          },
          "execution_count": 13
        }
      ]
    },
    {
      "cell_type": "code",
      "metadata": {
        "id": "b6x9Ofnan4_7",
        "colab_type": "code",
        "colab": {
          "base_uri": "https://localhost:8080/",
          "height": 35
        },
        "outputId": "ff403884-871b-4056-fb61-89d11ba5d59f"
      },
      "source": [
        "buy_df['session_id'].min(),buy_df['session_id'].max()"
      ],
      "execution_count": null,
      "outputs": [
        {
          "output_type": "execute_result",
          "data": {
            "text/plain": [
              "(11, 11562121)"
            ]
          },
          "metadata": {
            "tags": []
          },
          "execution_count": 14
        }
      ]
    },
    {
      "cell_type": "code",
      "metadata": {
        "id": "Q5-YZB6In-Oq",
        "colab_type": "code",
        "colab": {
          "base_uri": "https://localhost:8080/",
          "height": 325
        },
        "outputId": "d3e133b3-614e-4b4e-8436-aac0a258e1e7"
      },
      "source": [
        "df [df['session_id'] == 281626]"
      ],
      "execution_count": null,
      "outputs": [
        {
          "output_type": "execute_result",
          "data": {
            "text/html": [
              "<div>\n",
              "<style scoped>\n",
              "    .dataframe tbody tr th:only-of-type {\n",
              "        vertical-align: middle;\n",
              "    }\n",
              "\n",
              "    .dataframe tbody tr th {\n",
              "        vertical-align: top;\n",
              "    }\n",
              "\n",
              "    .dataframe thead th {\n",
              "        text-align: right;\n",
              "    }\n",
              "</style>\n",
              "<table border=\"1\" class=\"dataframe\">\n",
              "  <thead>\n",
              "    <tr style=\"text-align: right;\">\n",
              "      <th></th>\n",
              "      <th>session_id</th>\n",
              "      <th>timestamp</th>\n",
              "      <th>item_id</th>\n",
              "      <th>category</th>\n",
              "    </tr>\n",
              "  </thead>\n",
              "  <tbody>\n",
              "    <tr>\n",
              "      <th>824193</th>\n",
              "      <td>281626</td>\n",
              "      <td>2014-04-06T09:20:42.331Z</td>\n",
              "      <td>214535653</td>\n",
              "      <td>0</td>\n",
              "    </tr>\n",
              "    <tr>\n",
              "      <th>824194</th>\n",
              "      <td>281626</td>\n",
              "      <td>2014-04-06T09:22:05.402Z</td>\n",
              "      <td>214819357</td>\n",
              "      <td>0</td>\n",
              "    </tr>\n",
              "    <tr>\n",
              "      <th>824195</th>\n",
              "      <td>281626</td>\n",
              "      <td>2014-04-06T09:22:58.720Z</td>\n",
              "      <td>214535653</td>\n",
              "      <td>0</td>\n",
              "    </tr>\n",
              "    <tr>\n",
              "      <th>824196</th>\n",
              "      <td>281626</td>\n",
              "      <td>2014-04-06T09:23:15.534Z</td>\n",
              "      <td>214535653</td>\n",
              "      <td>0</td>\n",
              "    </tr>\n",
              "    <tr>\n",
              "      <th>824197</th>\n",
              "      <td>281626</td>\n",
              "      <td>2014-04-06T09:24:16.421Z</td>\n",
              "      <td>214821277</td>\n",
              "      <td>0</td>\n",
              "    </tr>\n",
              "    <tr>\n",
              "      <th>824198</th>\n",
              "      <td>281626</td>\n",
              "      <td>2014-04-06T09:26:07.764Z</td>\n",
              "      <td>214684513</td>\n",
              "      <td>0</td>\n",
              "    </tr>\n",
              "    <tr>\n",
              "      <th>824199</th>\n",
              "      <td>281626</td>\n",
              "      <td>2014-04-06T09:28:15.255Z</td>\n",
              "      <td>214535681</td>\n",
              "      <td>0</td>\n",
              "    </tr>\n",
              "    <tr>\n",
              "      <th>824200</th>\n",
              "      <td>281626</td>\n",
              "      <td>2014-04-06T09:29:00.938Z</td>\n",
              "      <td>214552370</td>\n",
              "      <td>0</td>\n",
              "    </tr>\n",
              "    <tr>\n",
              "      <th>824201</th>\n",
              "      <td>281626</td>\n",
              "      <td>2014-04-06T09:31:52.830Z</td>\n",
              "      <td>214698577</td>\n",
              "      <td>0</td>\n",
              "    </tr>\n",
              "  </tbody>\n",
              "</table>\n",
              "</div>"
            ],
            "text/plain": [
              "        session_id                 timestamp    item_id category\n",
              "824193      281626  2014-04-06T09:20:42.331Z  214535653        0\n",
              "824194      281626  2014-04-06T09:22:05.402Z  214819357        0\n",
              "824195      281626  2014-04-06T09:22:58.720Z  214535653        0\n",
              "824196      281626  2014-04-06T09:23:15.534Z  214535653        0\n",
              "824197      281626  2014-04-06T09:24:16.421Z  214821277        0\n",
              "824198      281626  2014-04-06T09:26:07.764Z  214684513        0\n",
              "824199      281626  2014-04-06T09:28:15.255Z  214535681        0\n",
              "824200      281626  2014-04-06T09:29:00.938Z  214552370        0\n",
              "824201      281626  2014-04-06T09:31:52.830Z  214698577        0"
            ]
          },
          "metadata": {
            "tags": []
          },
          "execution_count": 15
        }
      ]
    },
    {
      "cell_type": "code",
      "metadata": {
        "id": "KPqG_00MZmuG",
        "colab_type": "code",
        "colab": {
          "base_uri": "https://localhost:8080/",
          "height": 243
        },
        "outputId": "1a8f7de8-3d75-4dbd-9a1c-97aed98a0957"
      },
      "source": [
        "df.groupby('session_id')['item_id'].size()"
      ],
      "execution_count": null,
      "outputs": [
        {
          "output_type": "execute_result",
          "data": {
            "text/plain": [
              "session_id\n",
              "1           4\n",
              "2           6\n",
              "3           3\n",
              "4           2\n",
              "6           2\n",
              "           ..\n",
              "11562156    2\n",
              "11562157    2\n",
              "11562158    3\n",
              "11562159    1\n",
              "11562161    1\n",
              "Name: item_id, Length: 9249729, dtype: int64"
            ]
          },
          "metadata": {
            "tags": []
          },
          "execution_count": 16
        }
      ]
    },
    {
      "cell_type": "code",
      "metadata": {
        "id": "n8sDtwJuoFOJ",
        "colab_type": "code",
        "colab": {
          "base_uri": "https://localhost:8080/",
          "height": 69
        },
        "outputId": "94d3a5a5-c0d6-4ac8-c62b-d51990c82c94"
      },
      "source": [
        "df['valid_session'] = df.session_id.map(df.groupby('session_id')['item_id'].size() > 2)\n",
        "df['valid_session'].value_counts()"
      ],
      "execution_count": null,
      "outputs": [
        {
          "output_type": "execute_result",
          "data": {
            "text/plain": [
              "True     24628059\n",
              "False     8375885\n",
              "Name: valid_session, dtype: int64"
            ]
          },
          "metadata": {
            "tags": []
          },
          "execution_count": 17
        }
      ]
    },
    {
      "cell_type": "code",
      "metadata": {
        "id": "PDDVkMBxnlSk",
        "colab_type": "code",
        "colab": {
          "base_uri": "https://localhost:8080/",
          "height": 35
        },
        "outputId": "4f477fb6-3597-4e2e-e8da-d43588948511"
      },
      "source": [
        "df.loc[df.valid_session].shape"
      ],
      "execution_count": null,
      "outputs": [
        {
          "output_type": "execute_result",
          "data": {
            "text/plain": [
              "(24628059, 5)"
            ]
          },
          "metadata": {
            "tags": []
          },
          "execution_count": 18
        }
      ]
    },
    {
      "cell_type": "code",
      "metadata": {
        "id": "cgYodg0HldfZ",
        "colab_type": "code",
        "colab": {
          "base_uri": "https://localhost:8080/",
          "height": 35
        },
        "outputId": "305e8fbf-6b05-48ed-f6cb-236c378b53a6"
      },
      "source": [
        "# filter out item session with length > 2\n",
        "df['valid_session'] = df.session_id.map(df.groupby('session_id')['item_id'].size() > 2)\n",
        "df = df.loc[df.valid_session].drop('valid_session',axis=1)\n",
        "df.shape"
      ],
      "execution_count": null,
      "outputs": [
        {
          "output_type": "execute_result",
          "data": {
            "text/plain": [
              "(24628059, 4)"
            ]
          },
          "metadata": {
            "tags": []
          },
          "execution_count": 19
        }
      ]
    },
    {
      "cell_type": "code",
      "metadata": {
        "id": "WsiFfZ8Qic-e",
        "colab_type": "code",
        "colab": {
          "base_uri": "https://localhost:8080/",
          "height": 49
        },
        "outputId": "661b92c3-e91a-4e00-ff47-798bf0534c84"
      },
      "source": [
        "df [df['session_id'] == 4726778]"
      ],
      "execution_count": null,
      "outputs": [
        {
          "output_type": "execute_result",
          "data": {
            "text/html": [
              "<div>\n",
              "<style scoped>\n",
              "    .dataframe tbody tr th:only-of-type {\n",
              "        vertical-align: middle;\n",
              "    }\n",
              "\n",
              "    .dataframe tbody tr th {\n",
              "        vertical-align: top;\n",
              "    }\n",
              "\n",
              "    .dataframe thead th {\n",
              "        text-align: right;\n",
              "    }\n",
              "</style>\n",
              "<table border=\"1\" class=\"dataframe\">\n",
              "  <thead>\n",
              "    <tr style=\"text-align: right;\">\n",
              "      <th></th>\n",
              "      <th>session_id</th>\n",
              "      <th>timestamp</th>\n",
              "      <th>item_id</th>\n",
              "      <th>category</th>\n",
              "    </tr>\n",
              "  </thead>\n",
              "  <tbody>\n",
              "  </tbody>\n",
              "</table>\n",
              "</div>"
            ],
            "text/plain": [
              "Empty DataFrame\n",
              "Columns: [session_id, timestamp, item_id, category]\n",
              "Index: []"
            ]
          },
          "metadata": {
            "tags": []
          },
          "execution_count": 20
        }
      ]
    },
    {
      "cell_type": "code",
      "metadata": {
        "id": "7_gO0VMU1TGb",
        "colab_type": "code",
        "colab": {
          "base_uri": "https://localhost:8080/",
          "height": 104
        },
        "outputId": "e6478a8f-19eb-4b5d-fc66-b0f644f92b20"
      },
      "source": [
        "df.nunique()"
      ],
      "execution_count": null,
      "outputs": [
        {
          "output_type": "execute_result",
          "data": {
            "text/plain": [
              "session_id     4431931\n",
              "timestamp     24590089\n",
              "item_id          48255\n",
              "category           331\n",
              "dtype: int64"
            ]
          },
          "metadata": {
            "tags": []
          },
          "execution_count": 21
        }
      ]
    },
    {
      "cell_type": "code",
      "metadata": {
        "scrolled": true,
        "id": "EZnEzDCgldfe",
        "colab_type": "code",
        "colab": {
          "base_uri": "https://localhost:8080/",
          "height": 104
        },
        "outputId": "39a8c334-f870-41fa-c0fb-7deabd877975"
      },
      "source": [
        "# #randomly sample a couple of them\n",
        "sampled_session_id = np.random.choice(df.session_id.unique(), 100000, replace=False)\n",
        "df = df.loc[df.session_id.isin(sampled_session_id)]\n",
        "df.nunique()"
      ],
      "execution_count": null,
      "outputs": [
        {
          "output_type": "execute_result",
          "data": {
            "text/plain": [
              "session_id    100000\n",
              "timestamp     555860\n",
              "item_id        22875\n",
              "category         136\n",
              "dtype: int64"
            ]
          },
          "metadata": {
            "tags": []
          },
          "execution_count": 22
        }
      ]
    },
    {
      "cell_type": "code",
      "metadata": {
        "id": "ZUNPuKXtldfj",
        "colab_type": "code",
        "colab": {
          "base_uri": "https://localhost:8080/",
          "height": 35
        },
        "outputId": "f4cbe63d-2fb3-4b37-cf0e-c4bf3d90d431"
      },
      "source": [
        "# average length of session \n",
        "df.groupby('session_id')['item_id'].size().mean()"
      ],
      "execution_count": null,
      "outputs": [
        {
          "output_type": "execute_result",
          "data": {
            "text/plain": [
              "5.5589"
            ]
          },
          "metadata": {
            "tags": []
          },
          "execution_count": 23
        }
      ]
    },
    {
      "cell_type": "code",
      "metadata": {
        "id": "OoCbk-rlldfp",
        "colab_type": "code",
        "colab": {
          "base_uri": "https://localhost:8080/",
          "height": 202
        },
        "outputId": "5296f56e-ceb9-45f3-dc81-c870c46fecbc"
      },
      "source": [
        "from sklearn.preprocessing import LabelEncoder\n",
        "\n",
        "item_encoder = LabelEncoder()\n",
        "category_encoder = LabelEncoder()\n",
        "df['item_id'] = item_encoder.fit_transform(df.item_id )\n",
        "df['category']= category_encoder.fit_transform(df.category.apply(str))\n",
        "df.head()"
      ],
      "execution_count": null,
      "outputs": [
        {
          "output_type": "execute_result",
          "data": {
            "text/html": [
              "<div>\n",
              "<style scoped>\n",
              "    .dataframe tbody tr th:only-of-type {\n",
              "        vertical-align: middle;\n",
              "    }\n",
              "\n",
              "    .dataframe tbody tr th {\n",
              "        vertical-align: top;\n",
              "    }\n",
              "\n",
              "    .dataframe thead th {\n",
              "        text-align: right;\n",
              "    }\n",
              "</style>\n",
              "<table border=\"1\" class=\"dataframe\">\n",
              "  <thead>\n",
              "    <tr style=\"text-align: right;\">\n",
              "      <th></th>\n",
              "      <th>session_id</th>\n",
              "      <th>timestamp</th>\n",
              "      <th>item_id</th>\n",
              "      <th>category</th>\n",
              "    </tr>\n",
              "  </thead>\n",
              "  <tbody>\n",
              "    <tr>\n",
              "      <th>341</th>\n",
              "      <td>108</td>\n",
              "      <td>2014-04-03T11:29:34.491Z</td>\n",
              "      <td>5446</td>\n",
              "      <td>0</td>\n",
              "    </tr>\n",
              "    <tr>\n",
              "      <th>342</th>\n",
              "      <td>108</td>\n",
              "      <td>2014-04-03T11:30:31.064Z</td>\n",
              "      <td>5447</td>\n",
              "      <td>0</td>\n",
              "    </tr>\n",
              "    <tr>\n",
              "      <th>343</th>\n",
              "      <td>108</td>\n",
              "      <td>2014-04-03T11:31:36.145Z</td>\n",
              "      <td>5447</td>\n",
              "      <td>0</td>\n",
              "    </tr>\n",
              "    <tr>\n",
              "      <th>616</th>\n",
              "      <td>194</td>\n",
              "      <td>2014-04-04T14:29:16.071Z</td>\n",
              "      <td>15871</td>\n",
              "      <td>0</td>\n",
              "    </tr>\n",
              "    <tr>\n",
              "      <th>617</th>\n",
              "      <td>194</td>\n",
              "      <td>2014-04-04T14:29:47.845Z</td>\n",
              "      <td>15871</td>\n",
              "      <td>0</td>\n",
              "    </tr>\n",
              "  </tbody>\n",
              "</table>\n",
              "</div>"
            ],
            "text/plain": [
              "     session_id                 timestamp  item_id  category\n",
              "341         108  2014-04-03T11:29:34.491Z     5446         0\n",
              "342         108  2014-04-03T11:30:31.064Z     5447         0\n",
              "343         108  2014-04-03T11:31:36.145Z     5447         0\n",
              "616         194  2014-04-04T14:29:16.071Z    15871         0\n",
              "617         194  2014-04-04T14:29:47.845Z    15871         0"
            ]
          },
          "metadata": {
            "tags": []
          },
          "execution_count": 24
        }
      ]
    },
    {
      "cell_type": "code",
      "metadata": {
        "id": "L7fB0UZq1kvR",
        "colab_type": "code",
        "colab": {
          "base_uri": "https://localhost:8080/",
          "height": 35
        },
        "outputId": "dc946c2e-145c-4c43-997f-f6b9501234df"
      },
      "source": [
        "df['item_id'].min(),df['item_id'].max()"
      ],
      "execution_count": null,
      "outputs": [
        {
          "output_type": "execute_result",
          "data": {
            "text/plain": [
              "(0, 22874)"
            ]
          },
          "metadata": {
            "tags": []
          },
          "execution_count": 25
        }
      ]
    },
    {
      "cell_type": "code",
      "metadata": {
        "scrolled": true,
        "id": "TMPJkr-1ldft",
        "colab_type": "code",
        "colab": {
          "base_uri": "https://localhost:8080/",
          "height": 202
        },
        "outputId": "e04954e3-9367-4f1a-c3d9-d97b4ce0c7e5"
      },
      "source": [
        "#  check there is any buy event for a given session\n",
        "buy_df = buy_df.loc[buy_df.session_id.isin(df.session_id)]\n",
        "buy_df['item_id'] = item_encoder.transform(buy_df.item_id)\n",
        "buy_df.head()"
      ],
      "execution_count": null,
      "outputs": [
        {
          "output_type": "execute_result",
          "data": {
            "text/html": [
              "<div>\n",
              "<style scoped>\n",
              "    .dataframe tbody tr th:only-of-type {\n",
              "        vertical-align: middle;\n",
              "    }\n",
              "\n",
              "    .dataframe tbody tr th {\n",
              "        vertical-align: top;\n",
              "    }\n",
              "\n",
              "    .dataframe thead th {\n",
              "        text-align: right;\n",
              "    }\n",
              "</style>\n",
              "<table border=\"1\" class=\"dataframe\">\n",
              "  <thead>\n",
              "    <tr style=\"text-align: right;\">\n",
              "      <th></th>\n",
              "      <th>session_id</th>\n",
              "      <th>timestamp</th>\n",
              "      <th>item_id</th>\n",
              "      <th>price</th>\n",
              "      <th>quantity</th>\n",
              "    </tr>\n",
              "  </thead>\n",
              "  <tbody>\n",
              "    <tr>\n",
              "      <th>101</th>\n",
              "      <td>420508</td>\n",
              "      <td>2014-04-07T15:37:26.815Z</td>\n",
              "      <td>10020</td>\n",
              "      <td>1046</td>\n",
              "      <td>1</td>\n",
              "    </tr>\n",
              "    <tr>\n",
              "      <th>102</th>\n",
              "      <td>420508</td>\n",
              "      <td>2014-04-07T15:37:26.896Z</td>\n",
              "      <td>7907</td>\n",
              "      <td>1570</td>\n",
              "      <td>1</td>\n",
              "    </tr>\n",
              "    <tr>\n",
              "      <th>103</th>\n",
              "      <td>420508</td>\n",
              "      <td>2014-04-07T15:37:26.950Z</td>\n",
              "      <td>15606</td>\n",
              "      <td>627</td>\n",
              "      <td>1</td>\n",
              "    </tr>\n",
              "    <tr>\n",
              "      <th>106</th>\n",
              "      <td>281747</td>\n",
              "      <td>2014-04-06T10:32:23.948Z</td>\n",
              "      <td>16075</td>\n",
              "      <td>523</td>\n",
              "      <td>2</td>\n",
              "    </tr>\n",
              "    <tr>\n",
              "      <th>107</th>\n",
              "      <td>281747</td>\n",
              "      <td>2014-04-06T10:32:23.984Z</td>\n",
              "      <td>16075</td>\n",
              "      <td>523</td>\n",
              "      <td>1</td>\n",
              "    </tr>\n",
              "  </tbody>\n",
              "</table>\n",
              "</div>"
            ],
            "text/plain": [
              "     session_id                 timestamp  item_id  price  quantity\n",
              "101      420508  2014-04-07T15:37:26.815Z    10020   1046         1\n",
              "102      420508  2014-04-07T15:37:26.896Z     7907   1570         1\n",
              "103      420508  2014-04-07T15:37:26.950Z    15606    627         1\n",
              "106      281747  2014-04-06T10:32:23.948Z    16075    523         2\n",
              "107      281747  2014-04-06T10:32:23.984Z    16075    523         1"
            ]
          },
          "metadata": {
            "tags": []
          },
          "execution_count": 26
        }
      ]
    },
    {
      "cell_type": "code",
      "metadata": {
        "id": "k8tFXtTF1vjx",
        "colab_type": "code",
        "colab": {
          "base_uri": "https://localhost:8080/",
          "height": 35
        },
        "outputId": "28d79602-8efe-4f4c-d3ce-7e32956fa5b1"
      },
      "source": [
        "buy_df['session_id'].min(),buy_df['session_id'].max()"
      ],
      "execution_count": null,
      "outputs": [
        {
          "output_type": "execute_result",
          "data": {
            "text/plain": [
              "(664, 11561264)"
            ]
          },
          "metadata": {
            "tags": []
          },
          "execution_count": 27
        }
      ]
    },
    {
      "cell_type": "code",
      "metadata": {
        "id": "IHy3kDyW10Et",
        "colab_type": "code",
        "colab": {
          "base_uri": "https://localhost:8080/",
          "height": 35
        },
        "outputId": "1048dede-e1ba-4088-86d0-a36dc2a2a7bf"
      },
      "source": [
        "buy_df['item_id'].min(),buy_df['item_id'].max()"
      ],
      "execution_count": null,
      "outputs": [
        {
          "output_type": "execute_result",
          "data": {
            "text/plain": [
              "(0, 22874)"
            ]
          },
          "metadata": {
            "tags": []
          },
          "execution_count": 28
        }
      ]
    },
    {
      "cell_type": "code",
      "metadata": {
        "id": "LIp0aY4EldgA",
        "colab_type": "code",
        "colab": {
          "base_uri": "https://localhost:8080/",
          "height": 1000
        },
        "outputId": "89669395-fd1e-4439-ae9e-8b2b9ac53e89"
      },
      "source": [
        "buy_item_dict = dict(buy_df.groupby('session_id')['item_id'].apply(list))\n",
        "buy_item_dict"
      ],
      "execution_count": null,
      "outputs": [
        {
          "output_type": "execute_result",
          "data": {
            "text/plain": [
              "{664: [7370],\n",
              " 3074: [16928, 13598, 11040, 11040],\n",
              " 3852: [10119],\n",
              " 4436: [1057],\n",
              " 4759: [15490, 15717],\n",
              " 4982: [9725, 10495],\n",
              " 6223: [4810],\n",
              " 6839: [4665],\n",
              " 10836: [15658, 2136],\n",
              " 12593: [5822],\n",
              " 12874: [13835, 13826],\n",
              " 13159: [4806],\n",
              " 13332: [15530],\n",
              " 13726: [9367],\n",
              " 14314: [13862, 15596, 15526, 15714],\n",
              " 14819: [15719, 15493],\n",
              " 18166: [7034],\n",
              " 18577: [7486],\n",
              " 18744: [50],\n",
              " 21441: [269],\n",
              " 22427: [16103, 16088],\n",
              " 23912: [13831],\n",
              " 25232: [10435],\n",
              " 26399: [16117, 16155, 16112, 16145, 16277, 16143, 17974],\n",
              " 27157: [12373, 17125],\n",
              " 27814: [8985],\n",
              " 28444: [4814],\n",
              " 29269: [15666],\n",
              " 30136: [12175, 12925, 12904, 14183],\n",
              " 30416: [12672],\n",
              " 31394: [13831],\n",
              " 34594: [15824, 3479, 12876, 12874, 12876, 14185],\n",
              " 34787: [13862, 13827],\n",
              " 35436: [15720, 15438],\n",
              " 35903: [15588, 14698],\n",
              " 38431: [15823, 15872],\n",
              " 39811: [15823, 15827],\n",
              " 41699: [13837],\n",
              " 42681: [18395, 16075],\n",
              " 44522: [5446],\n",
              " 45246: [15669, 15659],\n",
              " 45301: [16091, 16110],\n",
              " 46324: [5573],\n",
              " 46489: [1397],\n",
              " 47369: [9352],\n",
              " 51357: [16079],\n",
              " 51544: [15823, 15825, 16075],\n",
              " 51772: [16075, 16052, 16026],\n",
              " 52164: [15596, 15524],\n",
              " 53476: [167],\n",
              " 53976: [15827, 15823],\n",
              " 54169: [15513, 15720],\n",
              " 54807: [15669],\n",
              " 56414: [13891],\n",
              " 57128: [16075, 15823],\n",
              " 59013: [14690],\n",
              " 59756: [8331],\n",
              " 60524: [18264, 17976, 18424, 17974, 3480, 11666],\n",
              " 60999: [16076, 15825],\n",
              " 61868: [2408, 6300],\n",
              " 63334: [14498, 14498],\n",
              " 64253: [15535, 16075],\n",
              " 65071: [15669, 14135, 14185],\n",
              " 69871: [15605, 15606, 14399],\n",
              " 71478: [16362, 16030, 16031],\n",
              " 72772: [15826],\n",
              " 73206: [4814, 4834],\n",
              " 73473: [16896],\n",
              " 73986: [12885],\n",
              " 75451: [13829, 8017, 13601],\n",
              " 75814: [14046],\n",
              " 76606: [10188, 16146, 16145, 17143],\n",
              " 79177: [4814, 5822, 16103, 12901],\n",
              " 79298: [1326],\n",
              " 79326: [10248, 16362],\n",
              " 80404: [350],\n",
              " 81699: [16356, 15543, 15810],\n",
              " 82056: [10119, 957],\n",
              " 85031: [12482],\n",
              " 85543: [12381],\n",
              " 85778: [11334],\n",
              " 86762: [13193],\n",
              " 88529: [15829, 15829],\n",
              " 89621: [13826, 13826],\n",
              " 89752: [15826, 15823],\n",
              " 90551: [15826],\n",
              " 91802: [2485],\n",
              " 93167: [18395],\n",
              " 93288: [3930, 8549, 2920, 413],\n",
              " 93767: [14305, 19156, 19407, 14009],\n",
              " 98044: [15658, 15659, 15658, 15659],\n",
              " 101083: [18395],\n",
              " 101799: [15539, 16356, 18527, 27, 12177, 7003],\n",
              " 102328: [18395, 16035],\n",
              " 103563: [13862],\n",
              " 103808: [16035, 16129],\n",
              " 104433: [18504],\n",
              " 105521: [13849, 13828],\n",
              " 105869: [13848, 13848],\n",
              " 109477: [16025, 7350],\n",
              " 110102: [4998, 4998],\n",
              " 110794: [12375],\n",
              " 111327: [12751],\n",
              " 112347: [14213, 15513, 15378],\n",
              " 112654: [16438],\n",
              " 117724: [16928, 16929],\n",
              " 117768: [9680],\n",
              " 120052: [16050, 16129, 16056, 15824],\n",
              " 120882: [15826, 15823, 15825],\n",
              " 120913: [16035, 15825, 16076],\n",
              " 121068: [13847],\n",
              " 121143: [10170],\n",
              " 121344: [1214],\n",
              " 122206: [15827, 15826],\n",
              " 123721: [15662, 15661],\n",
              " 124086: [6386],\n",
              " 124227: [10119, 10119],\n",
              " 125127: [15823, 15825],\n",
              " 125616: [15669, 15659],\n",
              " 126351: [11136],\n",
              " 127773: [18600, 18395, 18395, 18600],\n",
              " 129689: [5842],\n",
              " 129791: [4950],\n",
              " 130951: [16079],\n",
              " 134273: [10119],\n",
              " 137139: [16079],\n",
              " 137747: [18474],\n",
              " 138412: [10163, 5822],\n",
              " 138417: [15823, 16082, 16025, 16026, 8637],\n",
              " 141537: [16129, 16035, 16129],\n",
              " 142303: [15792],\n",
              " 144766: [16110, 16034, 16110, 16034],\n",
              " 144921: [14031],\n",
              " 145081: [955, 4894],\n",
              " 146792: [9066],\n",
              " 149698: [13852, 15548, 3927, 3931],\n",
              " 150246: [12906, 13973],\n",
              " 150567: [12724],\n",
              " 150571: [1128, 15714, 16052],\n",
              " 151086: [5874, 5874],\n",
              " 152851: [17234, 17234],\n",
              " 153399: [6538, 6590],\n",
              " 154192: [13847, 15525],\n",
              " 154284: [15446, 15539],\n",
              " 154452: [15645, 12672],\n",
              " 154518: [2567],\n",
              " 154589: [1397],\n",
              " 156792: [15824, 12481],\n",
              " 158172: [448, 4006, 4338, 18527, 2136, 4338, 448, 18527, 2136, 4006],\n",
              " 159307: [18680, 16026],\n",
              " 162448: [15783, 15667],\n",
              " 164473: [13848],\n",
              " 165179: [18892],\n",
              " 165883: [18395],\n",
              " 167734: [16026,\n",
              "  16102,\n",
              "  16103,\n",
              "  16075,\n",
              "  16129,\n",
              "  16035,\n",
              "  16035,\n",
              "  16103,\n",
              "  16075,\n",
              "  16026,\n",
              "  16102,\n",
              "  16129],\n",
              " 168091: [5804, 6799],\n",
              " 170533: [16106, 15733],\n",
              " 171901: [2557, 15660],\n",
              " 172539: [15823, 16075],\n",
              " 176701: [7262],\n",
              " 178473: [15587, 18394, 17338, 16089, 14129, 12153, 695, 17125],\n",
              " 179402: [15601, 3733],\n",
              " 180324: [17],\n",
              " 181049: [16147, 16147],\n",
              " 181247: [1519],\n",
              " 181903: [13827, 13827, 13863],\n",
              " 181956: [12198],\n",
              " 182532: [489],\n",
              " 183897: [4784],\n",
              " 184067: [8087],\n",
              " 184964: [13851],\n",
              " 185072: [15658, 15669],\n",
              " 186181: [16052, 5123, 12961],\n",
              " 188948: [3263, 2533, 4017],\n",
              " 190192: [6224, 914, 12715, 5123, 13767, 12732, 16096],\n",
              " 191042: [16050, 19531],\n",
              " 191361: [14699],\n",
              " 191846: [16362],\n",
              " 192402: [5743],\n",
              " 193379: [15823, 15826],\n",
              " 193656: [15783, 5127],\n",
              " 193919: [16152, 15830],\n",
              " 194862: [13847],\n",
              " 195702: [17594],\n",
              " 195879: [18657, 14601],\n",
              " 197229: [2495],\n",
              " 198592: [16069],\n",
              " 198623: [10386, 16165],\n",
              " 200388: [10352],\n",
              " 202996: [13862, 13862],\n",
              " 203307: [13829],\n",
              " 204636: [12672],\n",
              " 204824: [12715],\n",
              " 205628: [13863, 13863],\n",
              " 206533: [11353],\n",
              " 207317: [5446],\n",
              " 207474: [16896, 14698],\n",
              " 207726: [15530],\n",
              " 210548: [16769, 13829],\n",
              " 210747: [16052, 16026, 15733, 16075],\n",
              " 211159: [215],\n",
              " 211247: [13829, 13852],\n",
              " 211604: [10219],\n",
              " 211956: [16033, 17974, 18264, 16033, 17974, 18264, 16033, 17974, 18264],\n",
              " 212643: [15590],\n",
              " 212659: [12277, 12719],\n",
              " 216117: [16056, 16090],\n",
              " 217563: [16026, 16052],\n",
              " 221456: [30],\n",
              " 224541: [5446],\n",
              " 226372: [16026, 16052],\n",
              " 229713: [13828],\n",
              " 229921: [2568, 2561, 3177, 10093],\n",
              " 231216: [15712],\n",
              " 231408: [12925],\n",
              " 232867: [14185],\n",
              " 233008: [16440],\n",
              " 234518: [13852],\n",
              " 234644: [14739, 14738, 14687],\n",
              " 234892: [13829, 13829],\n",
              " 236396: [18620],\n",
              " 236594: [14129, 19504, 2849, 15823, 15826],\n",
              " 237323: [2244, 12174],\n",
              " 238218: [15812, 15810, 15548],\n",
              " 238548: [14129, 14678, 16097, 7162],\n",
              " 238876: [15823, 16075, 16056, 15792],\n",
              " 242079: [12490],\n",
              " 242136: [13050],\n",
              " 242316: [14601, 8753, 16159, 18395],\n",
              " 243112: [18657],\n",
              " 244526: [15823, 16075, 14213, 5422, 13522],\n",
              " 246082: [4114, 4114],\n",
              " 249331: [7208],\n",
              " 251018: [16082, 714, 16129, 16025, 16051, 15826, 16025, 16074],\n",
              " 251511: [15858],\n",
              " 251596: [15528],\n",
              " 251766: [16090, 10190, 16025, 8605, 15869, 3139, 8607],\n",
              " 252796: [13193, 13192],\n",
              " 253521: [2561],\n",
              " 254476: [15824, 16056, 16035],\n",
              " 256631: [46],\n",
              " 256888: [16026],\n",
              " 258976: [11754],\n",
              " 259308: [3382],\n",
              " 259367: [16840, 16843, 16840, 16843],\n",
              " 259448: [16034],\n",
              " 261459: [13848, 13848],\n",
              " 261488: [10163],\n",
              " 262583: [18395, 18395],\n",
              " 262886: [16117, 12904, 15490, 8872, 3265, 15715, 8874, 13992, 16866, 16874],\n",
              " 262982: [18759],\n",
              " 263577: [6757, 13853, 13853],\n",
              " 263593: [15823, 16076, 15827, 15825],\n",
              " 264424: [3759, 11966],\n",
              " 265111: [14682],\n",
              " 269976: [13862],\n",
              " 270578: [15649],\n",
              " 270901: [12381, 8364, 19232, 10619],\n",
              " 275372: [15443],\n",
              " 276693: [15669],\n",
              " 277677: [14681, 14739],\n",
              " 277917: [13863],\n",
              " 278768: [10193, 17143, 16117, 16143, 16143],\n",
              " 278893: [1475, 13932],\n",
              " 279613: [14185],\n",
              " 279876: [15490, 14554, 15606],\n",
              " 281747: [16075, 16075, 3919, 16026, 13784],\n",
              " 281889: [481, 6974, 483],\n",
              " 282629: [17132],\n",
              " 283526: [9679],\n",
              " 285879: [16106, 16106],\n",
              " 285926: [13828],\n",
              " 286098: [13485, 8565, 13486, 13488, 9500, 9428, 13487],\n",
              " 287644: [15723, 4814, 15826, 15723],\n",
              " 288194: [15821, 16152, 15821, 16152, 15821, 16152, 15821, 16152],\n",
              " 288469: [13826],\n",
              " 288598: [2811],\n",
              " 288758: [14124, 9121, 14078, 14124, 14078, 9121],\n",
              " 289939: [810],\n",
              " 290443: [15823, 18395],\n",
              " 290924: [15867],\n",
              " 292056: [16951],\n",
              " 293234: [15724, 2561],\n",
              " 294064: [16896, 3958],\n",
              " 296098: [19313,\n",
              "  10661,\n",
              "  10728,\n",
              "  10703,\n",
              "  10703,\n",
              "  10661,\n",
              "  10728,\n",
              "  19313,\n",
              "  10703,\n",
              "  19313,\n",
              "  10728,\n",
              "  10661,\n",
              "  10661,\n",
              "  19313,\n",
              "  10728,\n",
              "  10661,\n",
              "  10728,\n",
              "  10703,\n",
              "  10703,\n",
              "  19313],\n",
              " 296514: [2988],\n",
              " 299038: [10248, 16362],\n",
              " 299093: [12704],\n",
              " 299311: [5446],\n",
              " 301073: [4538, 15783],\n",
              " 301144: [11305, 15860, 15810],\n",
              " 304679: [13147],\n",
              " 304773: [15606, 15587],\n",
              " 305097: [13862, 13864, 13862],\n",
              " 307207: [13852],\n",
              " 307402: [13853, 13835, 13836],\n",
              " 310213: [13852, 16929],\n",
              " 311778: [13825],\n",
              " 312012: [16356, 15714],\n",
              " 313419: [1214, 4189],\n",
              " 313631: [16157],\n",
              " 314311: [11948, 2054, 13862, 13862],\n",
              " 315249: [16896],\n",
              " 318108: [10475],\n",
              " 319651: [16079],\n",
              " 321926: [5446, 15669],\n",
              " 322699: [13862, 13826],\n",
              " 326788: [13827, 13862],\n",
              " 328261: [16896],\n",
              " 329126: [9736],\n",
              " 329332: [16129, 16035, 8753],\n",
              " 332248: [12373, 7336, 18997, 19050],\n",
              " 333853: [13845],\n",
              " 334398: [18759],\n",
              " 335847: [4780, 4780],\n",
              " 337112: [16051, 16106, 16129],\n",
              " 337392: [12435, 16152, 15821, 12138],\n",
              " 338086: [17234, 17234],\n",
              " 338623: [13124, 13124],\n",
              " 339276: [13848],\n",
              " 339839: [15541, 13145],\n",
              " 340817: [10020],\n",
              " 341411: [15715, 15587, 4321],\n",
              " 342279: [10169, 12878, 16090],\n",
              " 343774: [13862],\n",
              " 344909: [15720],\n",
              " 344959: [5842],\n",
              " 345243: [16896],\n",
              " 346413: [15848, 15834],\n",
              " 346617: [13850],\n",
              " 347289: [15807],\n",
              " 347538: [19227],\n",
              " 348349: [8656],\n",
              " 349938: [9765, 13081],\n",
              " 350484: [6816],\n",
              " 352222: [14115, 10535, 2963],\n",
              " 352786: [5894, 5666],\n",
              " 352956: [12381],\n",
              " 353063: [15659, 15669],\n",
              " 353346: [14739, 14687, 15826, 16051, 16026],\n",
              " 358676: [16090, 16035, 16035, 16090],\n",
              " 359259: [15649, 15645, 12672],\n",
              " 359267: [13886, 4632, 14698],\n",
              " 359888: [18759, 16893],\n",
              " 360363: [14127],\n",
              " 360582: [15490, 14554, 15717, 15831, 15715],\n",
              " 362744: [18703, 4795, 16106],\n",
              " 363044: [18657],\n",
              " 363842: [14213, 15378],\n",
              " 364578: [15826, 8753],\n",
              " 365153: [18857],\n",
              " 365414: [13828, 13828],\n",
              " 365967: [15446, 2518],\n",
              " 367438: [15823, 15826],\n",
              " 367902: [15029],\n",
              " 368144: [5842, 5843],\n",
              " 368747: [13862],\n",
              " 371494: [16074],\n",
              " 372653: [12370, 12381, 15714],\n",
              " 372736: [11281],\n",
              " 372949: [15530],\n",
              " 376931: [10768, 10766, 10743, 12707, 10741],\n",
              " 377099: [13863],\n",
              " 377233: [4129],\n",
              " 379359: [1397, 1397],\n",
              " 379927: [11956],\n",
              " 382842: [13830, 13830],\n",
              " 383092: [8651],\n",
              " 383533: [15821, 16152, 15821],\n",
              " 383806: [5180],\n",
              " 385497: [8408],\n",
              " 387293: [15782, 15661, 14555],\n",
              " 388241: [12414],\n",
              " 389174: [18620],\n",
              " 389609: [5075],\n",
              " 392554: [5097],\n",
              " 397726: [15490, 14213, 15719, 16095, 16146, 14514, 15720],\n",
              " 397814: [13778],\n",
              " 398391: [12961, 3766, 17171],\n",
              " 398791: [15827, 16051, 16026],\n",
              " 400239: [11491],\n",
              " 401476: [14683],\n",
              " 402341: [15669, 15658, 15659],\n",
              " 402427: [2562],\n",
              " 402999: [13849],\n",
              " 404724: [15511],\n",
              " 406521: [13829, 13829],\n",
              " 408091: [16362, 10248],\n",
              " 408213: [873],\n",
              " 408509: [12181],\n",
              " 410546: [13831, 13831, 13831],\n",
              " 412157: [13831],\n",
              " 412679: [16331, 16088, 16103],\n",
              " 413379: [16818, 16813, 16824, 16814, 16820],\n",
              " 413856: [1397],\n",
              " 415947: [14219, 4539, 18395],\n",
              " 416779: [18657],\n",
              " 417343: [16927],\n",
              " 417844: [7516],\n",
              " 418542: [15869, 12373, 13713, 16438, 13710],\n",
              " 418774: [12370, 15814],\n",
              " 420508: [10020, 7907, 15606],\n",
              " 420612: [2568, 3301],\n",
              " 421681: [14308, 4463],\n",
              " 421939: [14698, 15588, 14184],\n",
              " 422691: [15716, 13680, 15609],\n",
              " 423222: [15723, 15723],\n",
              " 424134: [15658, 15658],\n",
              " 425214: [18657],\n",
              " 427489: [18395, 8753, 8753, 18395, 18395, 8753, 18395, 8753],\n",
              " 427792: [5122],\n",
              " 430931: [16082, 15823],\n",
              " 433862: [2560],\n",
              " 434294: [5084],\n",
              " 435912: [14684, 14740],\n",
              " 437794: [12381, 15815],\n",
              " 439189: [13854],\n",
              " 439823: [13073],\n",
              " 439856: [7459],\n",
              " 440388: [16050,\n",
              "  16075,\n",
              "  16927,\n",
              "  19504,\n",
              "  16033,\n",
              "  16025,\n",
              "  3479,\n",
              "  18370,\n",
              "  16129,\n",
              "  16056,\n",
              "  16090],\n",
              " 440741: [720, 18789, 2329],\n",
              " 443116: [18815, 18854, 15606, 15782, 6096],\n",
              " 443273: [18811, 19060, 10721],\n",
              " 444321: [16896, 15548, 15810],\n",
              " 446062: [10968],\n",
              " 446611: [10728],\n",
              " 447311: [11281, 15715],\n",
              " 447974: [18630, 18631],\n",
              " 448201: [18395],\n",
              " 452081: [16082, 16103, 16129],\n",
              " 452433: [3805],\n",
              " 454514: [13826],\n",
              " 454988: [15662, 13714],\n",
              " 455769: [13975, 12750, 12897, 15814, 8923],\n",
              " 455897: [17508],\n",
              " 456894: [14610],\n",
              " 458597: [15525],\n",
              " 458707: [215],\n",
              " 459436: [18263, 18038, 13490],\n",
              " 459796: [19288,\n",
              "  18789,\n",
              "  10660,\n",
              "  18792,\n",
              "  18786,\n",
              "  18781,\n",
              "  18789,\n",
              "  18786,\n",
              "  19288,\n",
              "  10660,\n",
              "  18792,\n",
              "  18781],\n",
              " 460161: [16129],\n",
              " 460502: [1735],\n",
              " 460531: [12791],\n",
              " 461829: [10402],\n",
              " 468754: [15830, 15792],\n",
              " 468904: [10124, 4134],\n",
              " 469487: [14699, 14740],\n",
              " 472021: [18395, 18600, 18602],\n",
              " 472233: [16025, 15825, 16075],\n",
              " 473271: [3862],\n",
              " 476339: [16120, 16029, 16119, 16118, 15831, 16142],\n",
              " 476729: [15669, 15659],\n",
              " 477824: [11258],\n",
              " 478877: [16075, 13862],\n",
              " 478947: [5051],\n",
              " 479894: [16145, 16117, 17143, 16143, 7347],\n",
              " 480899: [15446, 14061],\n",
              " 481006: [15669, 15659, 5849, 18113],\n",
              " 481982: [14109, 16033],\n",
              " 483777: [10020],\n",
              " 483836: [16103, 16034, 16092, 16034, 16092, 16103],\n",
              " 484351: [15658],\n",
              " 484992: [3808],\n",
              " 485566: [15705, 18631],\n",
              " 485833: [16929],\n",
              " 485942: [483, 18527],\n",
              " 486211: [14683, 14739],\n",
              " 487977: [14683, 14739, 14699],\n",
              " 489383: [16277],\n",
              " 489664: [18395],\n",
              " 492316: [7469, 4898, 4895],\n",
              " 492871: [1397],\n",
              " 494056: [18759],\n",
              " 494507: [15814, 15806, 15806, 15814],\n",
              " 495018: [15793],\n",
              " 496381: [4439, 16345],\n",
              " 499207: [17739],\n",
              " 500657: [15834, 4573],\n",
              " 500846: [16110, 15873],\n",
              " 504338: [16148, 4968],\n",
              " 504357: [10020, 14740],\n",
              " 505033: [7321],\n",
              " 505206: [4784, 14700],\n",
              " 506106: [18621, 18060, 15712],\n",
              " 506751: [15832, 4557, 4637, 15835, 15833],\n",
              " 507074: [7629],\n",
              " 507803: [6375, 2500],\n",
              " 507808: [15823],\n",
              " 509067: [19216, 19377, 19329],\n",
              " 509744: [18264],\n",
              " 511633: [14554, 14399, 10534, 15606],\n",
              " 511896: [16147, 10260, 12140],\n",
              " 512031: [4495, 13547, 16156, 4495, 13547, 16156],\n",
              " 512392: [17976, 17973, 17974, 18264],\n",
              " 512547: [15823, 15825],\n",
              " 514349: [5842],\n",
              " 515577: [15724, 17974, 12874, 12876, 16034, 10173, 17966],\n",
              " 516284: [12350, 15251],\n",
              " 517847: [6379],\n",
              " 518358: [2101, 2101],\n",
              " 522229: [19370],\n",
              " 522423: [14609, 14677],\n",
              " 523074: [17973, 11666, 15716, 14555],\n",
              " 523246: [17966, 17974],\n",
              " 523764: [18395],\n",
              " 523947: [13848, 13848, 17456],\n",
              " 524331: [14685],\n",
              " 525718: [6369],\n",
              " 526524: [16110],\n",
              " 526541: [14179, 14177, 4314, 5225, 12199],\n",
              " 527432: [14127, 13052],\n",
              " 529928: [18657],\n",
              " 532223: [16068, 5447],\n",
              " 532227: [17975],\n",
              " 532301: [11340, 9413, 16440],\n",
              " 532708: [17131],\n",
              " 533373: [5874],\n",
              " 534032: [15649, 16839],\n",
              " 534418: [41],\n",
              " 534628: [17783, 17815],\n",
              " 534937: [11205, 16313, 15489, 15808],\n",
              " 535658: [15832, 15833],\n",
              " 535997: [16029, 16030],\n",
              " 536277: [15823, 15827],\n",
              " 536482: [16934],\n",
              " 536579: [4644, 4644],\n",
              " 537258: [13053],\n",
              " 540604: [17975],\n",
              " 540669: [4784],\n",
              " 541392: [11105],\n",
              " 545451: [4784],\n",
              " 545711: [17389, 1774],\n",
              " 546756: [14699, 14699],\n",
              " 552893: [14687, 14739],\n",
              " 553333: [16030, 16029, 16032],\n",
              " 554193: [363],\n",
              " 556344: [10248, 16362],\n",
              " 557162: [13547, 4499],\n",
              " 558272: [16440],\n",
              " 559582: [16437],\n",
              " 561018: [13791, 13790],\n",
              " 562718: [16928, 13852],\n",
              " 563354: [15724, 16026, 2976, 4931],\n",
              " 563716: [16147, 16149, 16281, 16363, 16967, 16364, 16156],\n",
              " 564222: [4495],\n",
              " 564543: [18421, 17974],\n",
              " 565626: [15832, 15848],\n",
              " 565692: [5787],\n",
              " 567318: [14134, 15792],\n",
              " 567601: [16148],\n",
              " 568542: [7459],\n",
              " 569314: [11337, 11337],\n",
              " 573521: [2181],\n",
              " 573856: [11118],\n",
              " 578242: [13073],\n",
              " 578999: [16155, 13052, 13053, 18601],\n",
              " 579296: [6268],\n",
              " 579943: [15814],\n",
              " 580002: [16052],\n",
              " 583411: [13862],\n",
              " 585047: [5842],\n",
              " 585319: [2972, 16363],\n",
              " 585432: [16112, 15720],\n",
              " 585671: [15800, 13944, 13504, 15724],\n",
              " 587392: [10085, 2561, 2545],\n",
              " 587494: [4338],\n",
              " 587973: [3251],\n",
              " 588077: [15832, 15838, 16091, 15833, 16110],\n",
              " 589599: [17337],\n",
              " 589803: [16149],\n",
              " 590574: [19812],\n",
              " 590733: [3919, 16274, 16274, 2792],\n",
              " 591052: [15670, 15670],\n",
              " 596624: [15849],\n",
              " 597506: [14699, 12874, 12878, 12900],\n",
              " 598349: [16277, 16112, 3366, 13792, 3888, 3888, 13783, 13777, 13801],\n",
              " 599966: [7508, 16082],\n",
              " 600164: [15661, 12672],\n",
              " 601273: [12901, 12901],\n",
              " 601291: [17462, 17401],\n",
              " 601296: [15781, 15781, 15834, 15724, 13992],\n",
              " 606364: [16912],\n",
              " 607118: [15826, 16082],\n",
              " 607241: [15583],\n",
              " 608912: [15832],\n",
              " 610456: [16148],\n",
              " 611276: [4911],\n",
              " 612124: [10119],\n",
              " 614178: [5874],\n",
              " 614619: [8692, 8692],\n",
              " 614743: [12913, 12913],\n",
              " 615913: [16148, 12262, 15530],\n",
              " 616396: [15251],\n",
              " 619558: [4778],\n",
              " 620627: [6379, 4911],\n",
              " 622567: [15862, 15862],\n",
              " 622614: [17798],\n",
              " 626413: [16364, 12327, 16364, 16034],\n",
              " 627226: [18479],\n",
              " 627236: [15733, 15733, 15733, 15733],\n",
              " 628212: [16119],\n",
              " 630506: [10119],\n",
              " 631613: [15376],\n",
              " 631647: [16277, 16112],\n",
              " 631792: [16110, 16155, 15873, 16097],\n",
              " 634447: [6409],\n",
              " 636488: [17974, 17976, 16095, 15719, 16030],\n",
              " 636712: [16029],\n",
              " 637053: [12322],\n",
              " 639416: [12925, 12906, 14183, 15835],\n",
              " 639557: [15834, 16145, 15848],\n",
              " 639664: [15542],\n",
              " 641292: [16145],\n",
              " 644414: [2533, 4725],\n",
              " 646981: [15556, 2999],\n",
              " 647388: [17976, 17974, 18264],\n",
              " 647622: [15832, 15832],\n",
              " 647647: [1655, 12175],\n",
              " 651543: [15613],\n",
              " 652539: [16283, 17194, 16374],\n",
              " 652984: [5822],\n",
              " 654964: [7503, 16895, 14213],\n",
              " 656003: [12904],\n",
              " 656688: [18477],\n",
              " 660037: [96, 96],\n",
              " 660324: [8082],\n",
              " 660903: [15832, 15833, 18, 16031],\n",
              " 661101: [16230, 7164, 18657, 5333, 16155],\n",
              " 662401: [15378],\n",
              " 663599: [15834, 15833, 15835, 15832],\n",
              " 665514: [15823],\n",
              " 668204: [4439],\n",
              " 668378: [18759],\n",
              " 669973: [16361, 15721],\n",
              " 670422: [13827, 13827],\n",
              " 670452: [6962],\n",
              " 673892: [16345, 11435],\n",
              " 673996: [13147],\n",
              " 675592: [303],\n",
              " 676896: [15832],\n",
              " 677026: [14126, 15467, 15465],\n",
              " 678141: [5842],\n",
              " 678884: [6799, 6795, 6799, 6795],\n",
              " 679334: [16075, 16026],\n",
              " 680566: [10231],\n",
              " 681246: [15835, 15833],\n",
              " 681519: [15658, 7501],\n",
              " 685042: [13073],\n",
              " 685836: [16364, 16364, 16142],\n",
              " 685853: [1098],\n",
              " 689187: [15562, 15609],\n",
              " 689437: [9680, 6567],\n",
              " 691141: [13847, 13847, 13847],\n",
              " 691258: [15833],\n",
              " 693137: [15823, 15825],\n",
              " 694594: [17975,\n",
              "  13053,\n",
              "  14554,\n",
              "  16031,\n",
              "  3001,\n",
              "  16032,\n",
              "  16028,\n",
              "  13052,\n",
              "  16029,\n",
              "  16030,\n",
              "  16028,\n",
              "  16031,\n",
              "  14554,\n",
              "  17975,\n",
              "  16032,\n",
              "  13052,\n",
              "  16029,\n",
              "  16030,\n",
              "  3001,\n",
              "  13053],\n",
              " 695327: [13825],\n",
              " 698724: [15659],\n",
              " 698831: [16301, 1713, 19254, 18854],\n",
              " 699989: [14554, 15715, 14618],\n",
              " 701168: [4500, 16028, 18603, 16032, 18602],\n",
              " 702514: [150],\n",
              " 704844: [1397, 16281, 4979],\n",
              " 707079: [13502, 16144, 14518],\n",
              " 708996: [15837],\n",
              " 709946: [4521, 18603, 18601],\n",
              " 710129: [9679, 9679],\n",
              " 712441: [5822, 5822],\n",
              " 714477: [17976, 11666, 17976, 17973, 17974],\n",
              " 714578: [18550, 12311, 12314],\n",
              " 716798: [3139, 16277, 13836],\n",
              " 717916: [15823],\n",
              " 720164: [14061, 9773],\n",
              " 720237: [12935],\n",
              " 721713: [16829, 16828, 16834, 16837, 16835],\n",
              " 722209: [15827, 15823],\n",
              " 723513: [18264, 18421, 17966, 17973],\n",
              " 724086: [13830, 8379, 10130, 15717, 10082, 14633],\n",
              " 724593: [15438],\n",
              " 724928: [6409],\n",
              " 726321: [15867, 16149, 16149],\n",
              " 726348: [13832, 13833],\n",
              " 727131: [15719, 1525],\n",
              " 727516: [15779, 16109, 16108, 16108],\n",
              " 727804: [16155, 16277],\n",
              " 729984: [15811,\n",
              "  14109,\n",
              "  9314,\n",
              "  14105,\n",
              "  16364,\n",
              "  15378,\n",
              "  15811,\n",
              "  14109,\n",
              "  9314,\n",
              "  14105,\n",
              "  15378,\n",
              "  16364],\n",
              " 730713: [15832],\n",
              " 736773: [15667, 13748, 2895],\n",
              " 736911: [15835],\n",
              " 738569: [15823],\n",
              " 741408: [16110, 17966, 15873, 16097, 17975, 5039, 16091],\n",
              " 744246: [9066],\n",
              " 745382: [16052],\n",
              " 746962: [14683],\n",
              " 749009: [13992],\n",
              " 749659: [10707],\n",
              " 749741: [2219],\n",
              " 750643: [10017, 14215],\n",
              " 751232: [3888, 16112, 16277],\n",
              " 752201: [17976, 17975, 18264],\n",
              " 753936: [1230, 15808],\n",
              " 754146: [14183],\n",
              " 755537: [16146, 16030],\n",
              " 755763: [10169, 12925],\n",
              " 756253: [18395],\n",
              " 756632: [15446, 15539, 15438, 1094, 3476],\n",
              " 757204: [400],\n",
              " 758347: [16147],\n",
              " 758356: [15832, 15833],\n",
              " 760552: [13791, 13790, 16112, 3139],\n",
              " 761127: [16277, 16112],\n",
              " 761247: [14008],\n",
              " 761901: [9721, 14555, 16897],\n",
              " 762883: [14124],\n",
              " 763356: [10294, 10248],\n",
              " 764059: [13829],\n",
              " 765322: [1091],\n",
              " 766978: [4784, 14700],\n",
              " 767024: [16152, 16152],\n",
              " 767657: [4036],\n",
              " 768677: [9680, 13975],\n",
              " 769198: [6002, 17986, 17985, 8771, 4923, 14489, 16, 6001],\n",
              " 769557: [18704],\n",
              " 770168: [1044],\n",
              " 771236: [11966],\n",
              " 771317: [9680, 9680],\n",
              " 772567: [18395, 18395],\n",
              " 775396: [13992, 14419, 14698],\n",
              " 776424: [19058, 18816],\n",
              " 778941: [15833, 15848, 16032, 16029],\n",
              " 779221: [10997, 13562],\n",
              " 780859: [15669],\n",
              " 782526: [15838, 15849],\n",
              " 782899: [17976, 17974, 18424, 18264],\n",
              " 783439: [15826, 15827],\n",
              " 785888: [15662, 17966, 17974, 1660],\n",
              " 786966: [10025, 2610],\n",
              " 787367: [9528],\n",
              " 787648: [1478, 15779, 12707],\n",
              " 788496: [16291, 16291],\n",
              " 788843: [15649],\n",
              " 789148: [16148, 16149],\n",
              " 793342: [171],\n",
              " 793603: [15251],\n",
              " 795971: [16147, 16029, 16155, 15848],\n",
              " 796943: [18759],\n",
              " 798881: [15659, 15669, 15657],\n",
              " 801239: [16110, 16029, 2784, 4333, 16110, 2784, 16029, 4333],\n",
              " 801338: [5163],\n",
              " 802001: [16277, 16155, 16031, 16277, 16031, 16155],\n",
              " 802257: [18781, 10671, 16147],\n",
              " 802992: [14685],\n",
              " 803757: [15873, 16095],\n",
              " 804597: [14060],\n",
              " 806356: [16147, 13791, 16145, 13790],\n",
              " 806542: [16894, 17974, 2894],\n",
              " 811819: [15733, 12350, 16030, 16029, 12404, 17976, 17966, 17974],\n",
              " 813497: [2915],\n",
              " 816324: [7459],\n",
              " 816928: [18525],\n",
              " 818982: [15658],\n",
              " 819381: [1397, 1397],\n",
              " 822608: [16967, 16282],\n",
              " 823092: [12901, 16149],\n",
              " 823891: [4367],\n",
              " 824838: [5054, 4358],\n",
              " 825356: [8395, 16028],\n",
              " 825851: [10248, 4499, 4499, 10248],\n",
              " 825968: [7549],\n",
              " 826473: [4544],\n",
              " 828227: [11948],\n",
              " 829834: [16313, 16147, 15829],\n",
              " 830721: [2502],\n",
              " 830923: [16, 816],\n",
              " 834477: [14179, 8887, 16035],\n",
              " 836676: [15545, 15588],\n",
              " 836782: [12672],\n",
              " 837333: [1675, 16362],\n",
              " 838163: [8786],\n",
              " 838919: [16318, 16032, 12901, 16029, 13052, 2675, 16364],\n",
              " 839164: [644, 13975],\n",
              " 839983: [3382, 3382],\n",
              " 840126: [16281, 16026, 16967, 16050, 168],\n",
              " 840518: [16155, 18],\n",
              " 841463: [5136],\n",
              " 841753: [5511, 5553],\n",
              " 842138: [12925, 12906, 14185],\n",
              " 844292: [4911, 15834, 4911, 15834],\n",
              " 844364: [15495, 15594],\n",
              " 844916: [9680, 15544],\n",
              " 847236: [16147],\n",
              " 847721: [4209],\n",
              " 850087: [15649],\n",
              " 850638: [14060],\n",
              " 851234: [10619, 18779, 18996],\n",
              " 851271: [996, 14051, 9308],\n",
              " 852043: [1043],\n",
              " 852113: [375],\n",
              " 852639: [18812, 18685, 518],\n",
              " 853907: [9679],\n",
              " 854249: [15835, 15832],\n",
              " 854514: [15823],\n",
              " 855487: [14687, 2495],\n",
              " 857101: [731, 15526, 11515, 14697, 663, 8002],\n",
              " 858303: [10168],\n",
              " 858989: [5842, 5843],\n",
              " 860744: [10631, 10660],\n",
              " 861072: [4784],\n",
              " 861572: [16026],\n",
              " 861682: [16026, 16052],\n",
              " 865203: [16362, 2054],\n",
              " 865864: [6409, 16149, 16147],\n",
              " 866957: [16799],\n",
              " 867847: [15832, 15833],\n",
              " 868947: [15530],\n",
              " 869576: [12350, 14774],\n",
              " 869609: [16155, 16117, 16143, 17143],\n",
              " 874004: [1397],\n",
              " 874896: [15823],\n",
              " 878082: [10620, 714],\n",
              " 878903: [17409],\n",
              " 880854: [16026, 16052],\n",
              " 881134: [19241, 18782],\n",
              " 882121: [16277, 16112],\n",
              " 882173: [15825, 15827],\n",
              " 882219: [18997, 19248, 19372],\n",
              " 882804: [17639],\n",
              " 883553: [15823, 15826],\n",
              " 883941: [10653, 19229, 19231, 10680],\n",
              " 886262: [16117, 16145],\n",
              " 887327: [15800, 15800, 15800],\n",
              " 887523: [9189, 15029, 15230, 9185],\n",
              " 888758: [12922, 14185],\n",
              " 888983: [7517],\n",
              " 889477: [16147, 16064, 16064, 16147],\n",
              " 892556: [16052, 4784],\n",
              " 893112: [5781, 2245],\n",
              " 894392: [9680, 17130],\n",
              " 896981: [16149, 5278],\n",
              " 898271: [16311],\n",
              " 899893: [4118, 14605, 16032],\n",
              " 900303: [17974, 16147],\n",
              " 900999: [3923],\n",
              " 901178: [400],\n",
              " 901638: [12825, 12825],\n",
              " 902306: [7668],\n",
              " 902709: [1044],\n",
              " 903146: [16088, 16095, 16147, 16097, 14697],\n",
              " 903229: [15823, 15823],\n",
              " 903844: [15823],\n",
              " 903929: [16030],\n",
              " 903971: [15835],\n",
              " 904331: [15838],\n",
              " 905107: [11687, 11687],\n",
              " 905133: [2664, 19056, 19354],\n",
              " 911523: [15838],\n",
              " 912124: [11256],\n",
              " 916676: [9679, 9679],\n",
              " 916996: [16096, 14182],\n",
              " 919731: [17537],\n",
              " 920076: [12935],\n",
              " 920668: [4310, 4310],\n",
              " 921007: [13862],\n",
              " 923772: [18936, 18936],\n",
              " 923798: [7232, 18657],\n",
              " 924419: [16438, 15733, 16052],\n",
              " 924459: [5874],\n",
              " 925007: [16103, 16088, 16104, 16102],\n",
              " 925631: [14140],\n",
              " 926282: [16149, 16148, 15867],\n",
              " 928473: [19479],\n",
              " 929968: [11364],\n",
              " 930078: [13621],\n",
              " 931178: [6816],\n",
              " 931813: [16152, 15251, 16157, 16362],\n",
              " 932911: [14683],\n",
              " 933367: [13852],\n",
              " 934587: [13832],\n",
              " 935052: [15717, 15715],\n",
              " 935256: [4340, 4340],\n",
              " 936817: [13655],\n",
              " 937507: [16361],\n",
              " 937534: [13928, 13927],\n",
              " 937789: [16364, 18456],\n",
              " 938139: [4838, 3555],\n",
              " 938354: [4454],\n",
              " 939312: [14739, 15446],\n",
              " 941438: [15849, 19555, 6369, 15833],\n",
              " 941462: [15779],\n",
              " 945021: [5110],\n",
              " 945877: [15838],\n",
              " 946856: [18395],\n",
              " 947676: [4074],\n",
              " 950218: [2796],\n",
              " 950774: [16364],\n",
              " 951412: [14409, 13862],\n",
              " 952632: [58],\n",
              " 956253: [16363, 19277, 10605, 19509, 10926],\n",
              " 956526: [16443, 16281, 16442],\n",
              " 956576: [14044, 3664],\n",
              " 956894: [19232, 19057, 19058],\n",
              " 958026: [1204],\n",
              " 958464: [14609],\n",
              " 961132: [200, 16365, 17456],\n",
              " 961306: [16118, 16118],\n",
              " 961767: [8314, 4340, 15834, 7954, 15848, 7410],\n",
              " 963128: [16302, 16370, 17429, 17569],\n",
              " 963254: [19555, 6380],\n",
              " 963398: [5446],\n",
              " 963943: [5175],\n",
              " 965807: [13547, 15781, 4495, 4499, 13547, 4499, 4495, 15781],\n",
              " 966657: [9679],\n",
              " 966999: [18395, 18600, 18603, 18602],\n",
              " 967788: [13854, 13854],\n",
              " 968437: [4544],\n",
              " 970472: [16896, 16896],\n",
              " 971377: [5175],\n",
              " 971676: [13848],\n",
              " 974012: [13547, 4495],\n",
              " 975234: [15848, 10445],\n",
              " 981486: [15329, 16274, 15778, 15870],\n",
              " 984226: [16364, 18456, 15780, 15779, 16373],\n",
              " 985657: [7554, 7554],\n",
              " 986043: [18148],\n",
              " 987003: [13192, 13193, 18527],\n",
              " 987906: [19490, 12216],\n",
              " 988716: [2054, 2300],\n",
              " 989837: [2406],\n",
              " 991161: [10178, 16352, 6083],\n",
              " 992053: [16311, 14677, 19232],\n",
              " 995948: [16148, 16149],\n",
              " 997079: [11353],\n",
              " 999487: [16967, 16299, 13958, 16369],\n",
              " 1001549: [14418, 13053],\n",
              " 1003829: [16364],\n",
              " 1004047: [4793, 4795],\n",
              " 1005814: [18997, 19397],\n",
              " 1008569: [16148, 12824, 16147, 12824, 16148, 16147],\n",
              " 1009607: [15832, 15848],\n",
              " 1011039: [15835, 15848],\n",
              " 1012652: [5896, 1396],\n",
              " 1013098: [18395],\n",
              " 1014288: [16376, 5742, 17149, 17124],\n",
              " 1015566: [14928, 19611, 14928, 19611, 14928],\n",
              " 1015642: [4648, 4521, 4645],\n",
              " 1015966: [16312],\n",
              " 1016117: [4199],\n",
              " 1018137: [12300, 11592],\n",
              " 1019316: [2103],\n",
              " 1024571: [200, 10613],\n",
              " 1025914: [15832, 19561],\n",
              " 1026343: [12196, 12134, 16096],\n",
              " 1027459: [16443, 16318, 16442, 16442, 16281],\n",
              " 1027499: [15832],\n",
              " 1029092: [7500],\n",
              " 1029377: [10117, 15587, 12874, 16279],\n",
              " 1032497: [19880],\n",
              " 1032537: [11283],\n",
              " 1034551: [16149, 16148],\n",
              " 1035063: [18009, 8361, 16142],\n",
              " 1035522: [16318, 15846],\n",
              " 1038488: [4916, 16355],\n",
              " 1039187: [19563, 6379, 2502],\n",
              " 1039621: [3113],\n",
              " 1039871: [15826, 15823],\n",
              " 1040589: [7266, 16031],\n",
              " 1040711: [18395],\n",
              " 1040791: [19462],\n",
              " 1040904: [13862, 15715],\n",
              " 1043561: [7190],\n",
              " 1044062: [18778],\n",
              " 1044853: [16442, 16281],\n",
              " 1044972: [2466],\n",
              " 1047248: [6015, 9448, 12177],\n",
              " 1047341: [11055],\n",
              " 1047444: [16365],\n",
              " 1051241: [2554, 2552],\n",
              " 1051937: [14078],\n",
              " 1052293: [16283],\n",
              " 1056519: [16914],\n",
              " 1057601: [17234],\n",
              " 1058669: [16076, 5830],\n",
              " 1059554: [17966],\n",
              " 1061114: [18563, 15443],\n",
              " 1062209: [12134, 11967, 12134, 11967],\n",
              " 1062383: [17542],\n",
              " 1064421: [216],\n",
              " 1067004: [5923, 17149, 15839],\n",
              " 1067233: [15810, 15549],\n",
              " 1067744: [5039, 3265],\n",
              " 1069413: [16147, 15823],\n",
              " 1071853: [3701],\n",
              " 1072362: [16318, 16318, 17149, 15715],\n",
              " 1073517: [6901, 7846],\n",
              " 1074236: [10119],\n",
              " 1077563: [14681, 14683, 14739],\n",
              " 1078531: [15837],\n",
              " 1078674: [15849, 16148, 16148, 15849],\n",
              " 1080936: [16147],\n",
              " 1082764: [17066, 17065],\n",
              " ...}"
            ]
          },
          "metadata": {
            "tags": []
          },
          "execution_count": 29
        }
      ]
    },
    {
      "cell_type": "code",
      "metadata": {
        "id": "xrXppJWMSn14",
        "colab_type": "code",
        "colab": {}
      },
      "source": [
        "from sklearn.preprocessing import LabelEncoder\n",
        "le = LabelEncoder()\n",
        "if 467077 in buy_item_dict:\n",
        "    print(\"Hello\")\n",
        "    positive_indices = le.fit_transform(buy_item_dict[467077])\n",
        "    print(positive_indices)\n"
      ],
      "execution_count": null,
      "outputs": []
    },
    {
      "cell_type": "code",
      "metadata": {
        "id": "C5FAPyHXldgE",
        "colab_type": "code",
        "colab": {
          "base_uri": "https://localhost:8080/",
          "height": 202
        },
        "outputId": "312d863c-5266-42a2-e9a3-2055a71d66c3"
      },
      "source": [
        "df.head()"
      ],
      "execution_count": null,
      "outputs": [
        {
          "output_type": "execute_result",
          "data": {
            "text/html": [
              "<div>\n",
              "<style scoped>\n",
              "    .dataframe tbody tr th:only-of-type {\n",
              "        vertical-align: middle;\n",
              "    }\n",
              "\n",
              "    .dataframe tbody tr th {\n",
              "        vertical-align: top;\n",
              "    }\n",
              "\n",
              "    .dataframe thead th {\n",
              "        text-align: right;\n",
              "    }\n",
              "</style>\n",
              "<table border=\"1\" class=\"dataframe\">\n",
              "  <thead>\n",
              "    <tr style=\"text-align: right;\">\n",
              "      <th></th>\n",
              "      <th>session_id</th>\n",
              "      <th>timestamp</th>\n",
              "      <th>item_id</th>\n",
              "      <th>category</th>\n",
              "    </tr>\n",
              "  </thead>\n",
              "  <tbody>\n",
              "    <tr>\n",
              "      <th>341</th>\n",
              "      <td>108</td>\n",
              "      <td>2014-04-03T11:29:34.491Z</td>\n",
              "      <td>5446</td>\n",
              "      <td>0</td>\n",
              "    </tr>\n",
              "    <tr>\n",
              "      <th>342</th>\n",
              "      <td>108</td>\n",
              "      <td>2014-04-03T11:30:31.064Z</td>\n",
              "      <td>5447</td>\n",
              "      <td>0</td>\n",
              "    </tr>\n",
              "    <tr>\n",
              "      <th>343</th>\n",
              "      <td>108</td>\n",
              "      <td>2014-04-03T11:31:36.145Z</td>\n",
              "      <td>5447</td>\n",
              "      <td>0</td>\n",
              "    </tr>\n",
              "    <tr>\n",
              "      <th>616</th>\n",
              "      <td>194</td>\n",
              "      <td>2014-04-04T14:29:16.071Z</td>\n",
              "      <td>15871</td>\n",
              "      <td>0</td>\n",
              "    </tr>\n",
              "    <tr>\n",
              "      <th>617</th>\n",
              "      <td>194</td>\n",
              "      <td>2014-04-04T14:29:47.845Z</td>\n",
              "      <td>15871</td>\n",
              "      <td>0</td>\n",
              "    </tr>\n",
              "  </tbody>\n",
              "</table>\n",
              "</div>"
            ],
            "text/plain": [
              "     session_id                 timestamp  item_id  category\n",
              "341         108  2014-04-03T11:29:34.491Z     5446         0\n",
              "342         108  2014-04-03T11:30:31.064Z     5447         0\n",
              "343         108  2014-04-03T11:31:36.145Z     5447         0\n",
              "616         194  2014-04-04T14:29:16.071Z    15871         0\n",
              "617         194  2014-04-04T14:29:47.845Z    15871         0"
            ]
          },
          "metadata": {
            "tags": []
          },
          "execution_count": 31
        }
      ]
    },
    {
      "cell_type": "code",
      "metadata": {
        "id": "AhYRUTVNldgI",
        "colab_type": "code",
        "colab": {}
      },
      "source": [
        "import torch\n",
        "from torch_geometric.data import InMemoryDataset\n",
        "from tqdm import tqdm\n",
        "\n",
        "class YooChooseDataset(InMemoryDataset):\n",
        "    def __init__(self, root, transform=None, pre_transform=None):\n",
        "        super(YooChooseDataset, self).__init__(root, transform, pre_transform)\n",
        "        self.data, self.slices = torch.load(self.processed_paths[0])\n",
        "\n",
        "    @property\n",
        "    def raw_file_names(self):\n",
        "        return []\n",
        "    @property\n",
        "    def processed_file_names(self):\n",
        "        return ['/content/drive/My Drive/1_RecSys/yoochoose_click_binary_100000_sess.dataset']\n",
        "\n",
        "    def download(self):\n",
        "        pass\n",
        "    \n",
        "    def process(self):\n",
        "        \n",
        "        data_list = []\n",
        "\n",
        "        # process by session_id\n",
        "        grouped = df.groupby('session_id')\n",
        "        for session_id, group in tqdm(grouped):\n",
        "            le = LabelEncoder()\n",
        "            sess_item_id = le.fit_transform(group.item_id)\n",
        "            group = group.reset_index(drop=True)\n",
        "            group['sess_item_id'] = sess_item_id\n",
        "            node_features = group.loc[group.session_id==session_id,['sess_item_id','item_id','category']].sort_values('sess_item_id')[['item_id','category']].drop_duplicates().values\n",
        "\n",
        "            node_features = torch.LongTensor(node_features).unsqueeze(1)\n",
        "            target_nodes = group.sess_item_id.values[1:]\n",
        "            source_nodes = group.sess_item_id.values[:-1]\n",
        "\n",
        "            edge_index = torch.tensor([source_nodes,\n",
        "                                   target_nodes], dtype=torch.long)\n",
        "            x = node_features\n",
        "\n",
        "            if session_id in buy_item_dict:\n",
        "                positive_indices = le.transform(buy_item_dict[session_id])\n",
        "                # print(positive_indices)\n",
        "                label = np.zeros(len(node_features))\n",
        "                label[positive_indices] = 1\n",
        "            else:\n",
        "                # print(\"Hello\")\n",
        "                label = [0] * len(node_features)\n",
        "\n",
        "\n",
        "            y = torch.FloatTensor(label)\n",
        "\n",
        "            data = Data(x=x, edge_index=edge_index, y=y)\n",
        "\n",
        "            data_list.append(data)\n",
        "        \n",
        "        data, slices = self.collate(data_list)\n",
        "        torch.save((data, slices), self.processed_paths[0])\n",
        "        "
      ],
      "execution_count": null,
      "outputs": []
    },
    {
      "cell_type": "code",
      "metadata": {
        "scrolled": true,
        "id": "xe-cUwJildgL",
        "colab_type": "code",
        "colab": {}
      },
      "source": [
        "dataset = YooChooseDataset('../')"
      ],
      "execution_count": null,
      "outputs": []
    },
    {
      "cell_type": "code",
      "metadata": {
        "id": "_3h2TTcIPtoy",
        "colab_type": "code",
        "colab": {
          "base_uri": "https://localhost:8080/",
          "height": 35
        },
        "outputId": "de44946c-224a-49f2-8e9e-ee2d4eb5a92b"
      },
      "source": [
        "dataset"
      ],
      "execution_count": null,
      "outputs": [
        {
          "output_type": "execute_result",
          "data": {
            "text/plain": [
              "YooChooseDataset(100000)"
            ]
          },
          "metadata": {
            "tags": []
          },
          "execution_count": 36
        }
      ]
    },
    {
      "cell_type": "code",
      "metadata": {
        "scrolled": true,
        "id": "TwN7aDAAldgP",
        "colab_type": "code",
        "colab": {}
      },
      "source": [
        "# grouped = df.groupby('session_id')\n",
        "# data_list= []\n",
        "# for session_id, group in tqdm(grouped):\n",
        "#     le = LabelEncoder()\n",
        "#     sess_item_id = le.fit_transform(group.item_id)\n",
        "#     group = group.reset_index(drop=True)\n",
        "#     group['sess_item_id'] = sess_item_id\n",
        "#     node_features = group.loc[group.session_id==session_id,['sess_item_id','item_id']].sort_values('sess_item_id').item_id.drop_duplicates().values\n",
        "\n",
        "#     node_features = torch.LongTensor(node_features).unsqueeze(1)\n",
        "#     target_nodes = group.sess_item_id.values[1:]\n",
        "#     source_nodes = group.sess_item_id.values[:-1]\n",
        "\n",
        "#     edge_index = torch.tensor([source_nodes,\n",
        "#                            target_nodes], dtype=torch.long)\n",
        "#     x = node_features\n",
        "    \n",
        "#     if session_id in buy_item_dict:\n",
        "#         positive_indices = le.transform(buy_item_dict[session_id])\n",
        "#         label = np.zeros(len(node_features))\n",
        "#         label[positive_indices] = 1\n",
        "#     else:\n",
        "#         label = [0] * len(node_features)\n",
        "#     y = torch.FloatTensor(label)\n",
        "#     data = Data(x=x, edge_index=edge_index, y=y)\n",
        "#     data_list.append(data)\n",
        "\n",
        "#\n"
      ],
      "execution_count": null,
      "outputs": []
    },
    {
      "cell_type": "code",
      "metadata": {
        "id": "xKLVWYvFldgS",
        "colab_type": "code",
        "colab": {
          "base_uri": "https://localhost:8080/",
          "height": 35
        },
        "outputId": "63959a19-08e2-4c22-b0f9-ff7c01bd6d68"
      },
      "source": [
        "dataset = dataset.shuffle()\n",
        "one_tenth_length = int(len(dataset) * 0.1)\n",
        "train_dataset = dataset[:one_tenth_length * 8]\n",
        "val_dataset = dataset[one_tenth_length*8:one_tenth_length * 9]\n",
        "test_dataset = dataset[one_tenth_length*9:]\n",
        "len(train_dataset), len(val_dataset), len(test_dataset)"
      ],
      "execution_count": null,
      "outputs": [
        {
          "output_type": "execute_result",
          "data": {
            "text/plain": [
              "(80000, 10000, 10000)"
            ]
          },
          "metadata": {
            "tags": []
          },
          "execution_count": 38
        }
      ]
    },
    {
      "cell_type": "code",
      "metadata": {
        "id": "iRuAASu6ldgY",
        "colab_type": "code",
        "colab": {}
      },
      "source": [
        "from torch_geometric.data import DataLoader\n",
        "batch_size= 512\n",
        "train_loader = DataLoader(train_dataset, batch_size=batch_size)\n",
        "val_loader = DataLoader(val_dataset, batch_size=batch_size)\n",
        "test_loader = DataLoader(test_dataset, batch_size=batch_size)"
      ],
      "execution_count": null,
      "outputs": []
    },
    {
      "cell_type": "code",
      "metadata": {
        "id": "NfQu6rqtldgb",
        "colab_type": "code",
        "colab": {
          "base_uri": "https://localhost:8080/",
          "height": 35
        },
        "outputId": "fbeb244f-6f4e-4c43-e578-8cd706503bd8"
      },
      "source": [
        "num_items = df.item_id.max() +1\n",
        "num_categories = df.category.max()+1\n",
        "num_items , num_categories"
      ],
      "execution_count": null,
      "outputs": [
        {
          "output_type": "execute_result",
          "data": {
            "text/plain": [
              "(22875, 135)"
            ]
          },
          "metadata": {
            "tags": []
          },
          "execution_count": 40
        }
      ]
    },
    {
      "cell_type": "code",
      "metadata": {
        "id": "FmUSG1dJldgf",
        "colab_type": "code",
        "colab": {}
      },
      "source": [
        "embed_dim = 128\n",
        "from torch_geometric.nn import GraphConv, TopKPooling, GatedGraphConv, SAGEConv, SGConv\n",
        "from torch_geometric.nn import global_mean_pool as gap, global_max_pool as gmp\n",
        "import torch.nn.functional as F\n",
        "class Net(torch.nn.Module):\n",
        "    def __init__(self):\n",
        "        super(Net, self).__init__()\n",
        "\n",
        "        self.conv1 = GraphConv(embed_dim * 2, 128)\n",
        "        self.pool1 = TopKPooling(128, ratio=0.9)\n",
        "        self.conv2 = GraphConv(128, 128)\n",
        "        self.pool2 = TopKPooling(128, ratio=0.9)\n",
        "        self.conv3 = GraphConv(128, 128)\n",
        "        self.pool3 = TopKPooling(128, ratio=0.9)\n",
        "        self.item_embedding = torch.nn.Embedding(num_embeddings=num_items, embedding_dim=embed_dim)\n",
        "        self.category_embedding = torch.nn.Embedding(num_embeddings=num_categories, embedding_dim=embed_dim)        \n",
        "        self.lin1 = torch.nn.Linear(256, 256)\n",
        "        self.lin2 = torch.nn.Linear(256, 128)\n",
        "        self.bn1 = torch.nn.BatchNorm1d(128)\n",
        "        self.bn2 = torch.nn.BatchNorm1d(64)\n",
        "        self.act1 = torch.nn.ReLU()\n",
        "        self.act2 = torch.nn.ReLU()        \n",
        "  \n",
        "    def forward(self, data):\n",
        "        x, edge_index, batch = data.x, data.edge_index, data.batch\n",
        "        \n",
        "        item_id = x[:,:,0]\n",
        "        category = x[:,:,1]\n",
        "        \n",
        "\n",
        "        emb_item = self.item_embedding(item_id).squeeze(1)\n",
        "        emb_category = self.category_embedding(category).squeeze(1)\n",
        "        \n",
        "#         emb_item = emb_item.squeeze(1)\n",
        "#         emb_cat\n",
        "        x = torch.cat([emb_item, emb_category], dim=1)  \n",
        "#         print(x.shape)\n",
        "        x = F.relu(self.conv1(x, edge_index))\n",
        "#                 print(x.shape)\n",
        "        x, edge_index, _, batch, _, _ = self.pool1(x, edge_index, None, batch)\n",
        "        x1 = torch.cat([gmp(x, batch), gap(x, batch)], dim=1)\n",
        "\n",
        "        x = F.relu(self.conv2(x, edge_index))\n",
        "     \n",
        "        x, edge_index, _, batch, _, _= self.pool2(x, edge_index, None, batch)\n",
        "        x2 = torch.cat([gmp(x, batch), gap(x, batch)], dim=1)\n",
        "\n",
        "        x = F.relu(self.conv3(x, edge_index))\n",
        "\n",
        "        x, edge_index, _, batch, _, _= self.pool3(x, edge_index, None, batch)\n",
        "        x3 = torch.cat([gmp(x, batch), gap(x, batch)], dim=1)\n",
        "\n",
        "        x = x1 + x2 + x3\n",
        "\n",
        "        x = self.lin1(x)\n",
        "        x = self.act1(x)\n",
        "        x = self.lin2(x)\n",
        "        x = F.dropout(x, p=0.5, training=self.training)\n",
        "        x = self.act2(x)      \n",
        "        \n",
        "        outputs = []\n",
        "        for i in range(x.size(0)):\n",
        "            output = torch.matmul(emb_item[data.batch == i], x[i,:])\n",
        "\n",
        "            outputs.append(output)\n",
        "              \n",
        "        x = torch.cat(outputs, dim=0)\n",
        "        x = torch.sigmoid(x)\n",
        "        \n",
        "        return x"
      ],
      "execution_count": null,
      "outputs": []
    },
    {
      "cell_type": "code",
      "metadata": {
        "id": "auRLu2R_ldgl",
        "colab_type": "code",
        "colab": {}
      },
      "source": [
        "device = torch.device('cuda')\n",
        "model = Net().to(device)\n",
        "optimizer = torch.optim.Adam(model.parameters(), lr=0.001)\n",
        "crit = torch.nn.BCELoss()"
      ],
      "execution_count": null,
      "outputs": []
    },
    {
      "cell_type": "code",
      "metadata": {
        "id": "-tLnxhgKldgp",
        "colab_type": "code",
        "colab": {}
      },
      "source": [
        "def train():\n",
        "    model.train()\n",
        "\n",
        "    loss_all = 0\n",
        "    for data in train_loader:\n",
        "        data = data.to(device)\n",
        "        optimizer.zero_grad()\n",
        "        output = model(data)\n",
        "\n",
        "        label = data.y.to(device)\n",
        "        loss = crit(output, label)\n",
        "        loss.backward()\n",
        "        loss_all += data.num_graphs * loss.item()\n",
        "        optimizer.step()\n",
        "    return loss_all / len(train_dataset)"
      ],
      "execution_count": null,
      "outputs": []
    },
    {
      "cell_type": "code",
      "metadata": {
        "id": "nsZh2i20ldgs",
        "colab_type": "code",
        "colab": {}
      },
      "source": [
        "from sklearn.metrics import roc_auc_score\n",
        "def evaluate(loader):\n",
        "    model.eval()\n",
        "\n",
        "    predictions = []\n",
        "    labels = []\n",
        "\n",
        "    with torch.no_grad():\n",
        "        for data in loader:\n",
        "\n",
        "            data = data.to(device)\n",
        "            pred = model(data).detach().cpu().numpy()\n",
        "\n",
        "            label = data.y.detach().cpu().numpy()\n",
        "            predictions.append(pred)\n",
        "            labels.append(label)\n",
        "\n",
        "    predictions = np.hstack(predictions)\n",
        "    print(predictions)\n",
        "    labels = np.hstack(labels)\n",
        "    print(labels)\n",
        "    \n",
        "    return roc_auc_score(labels, predictions)"
      ],
      "execution_count": null,
      "outputs": []
    },
    {
      "cell_type": "code",
      "metadata": {
        "id": "ZN186EbYozML",
        "colab_type": "code",
        "colab": {}
      },
      "source": [
        "# print(predictions)"
      ],
      "execution_count": null,
      "outputs": []
    },
    {
      "cell_type": "code",
      "metadata": {
        "scrolled": true,
        "id": "G53YbOTHldgw",
        "colab_type": "code",
        "colab": {
          "base_uri": "https://localhost:8080/",
          "height": 1000
        },
        "outputId": "97d6635c-9db3-4170-a2be-8fd0ded5d700"
      },
      "source": [
        "for epoch in range(1, 10):\n",
        "    loss = train()\n",
        "    # val_loader = DataLoader(val_dataset, batch_size=batch_size)\n",
        "    # test_loader = DataLoader(test_dataset, batch_size=batch_size)   \n",
        "    train_acc = evaluate(train_loader)\n",
        "    val_acc = evaluate(val_loader)    \n",
        "    test_acc = evaluate(test_loader)\n",
        "    print('Epoch: {:03d}, Loss: {:.5f}, Train Auc: {:.5f}, Val Auc: {:.5f}, Test Auc: {:.5f}'.\n",
        "          format(epoch, loss, train_acc, val_acc, test_acc))"
      ],
      "execution_count": null,
      "outputs": [
        {
          "output_type": "stream",
          "text": [
            "[0.16560917 0.07790209 0.10135177 ... 0.01971406 0.06365018 0.00840537]\n",
            "[0. 0. 0. ... 0. 0. 0.]\n",
            "[0.01152095 0.2196879  0.10610659 ... 0.10082365 0.22960475 0.53786516]\n",
            "[0. 0. 0. ... 0. 0. 0.]\n",
            "[0.11317858 0.21758445 0.43429485 ... 0.5368034  0.22449881 0.6288844 ]\n",
            "[0. 0. 0. ... 0. 0. 0.]\n",
            "Epoch: 001, Loss: 0.58492, Train Auc: 0.55158, Val Auc: 0.53324, Test Auc: 0.53015\n",
            "[0.05321203 0.02448004 0.03867444 ... 0.00037027 0.07113855 0.00156219]\n",
            "[0. 0. 0. ... 0. 0. 0.]\n",
            "[0.02891396 0.03593655 0.01710921 ... 0.03900605 0.09587044 0.6950277 ]\n",
            "[0. 0. 0. ... 0. 0. 0.]\n",
            "[0.01669218 0.11511355 0.27758098 ... 0.35670117 0.08262093 0.5606728 ]\n",
            "[0. 0. 0. ... 0. 0. 0.]\n",
            "Epoch: 002, Loss: 0.39018, Train Auc: 0.59858, Val Auc: 0.56173, Test Auc: 0.56133\n",
            "[0.04527156 0.02506711 0.02063427 ... 0.00037896 0.01275631 0.00030528]\n",
            "[0. 0. 0. ... 0. 0. 0.]\n",
            "[0.0260963  0.01100675 0.02184006 ... 0.01873104 0.09212289 0.6193007 ]\n",
            "[0. 0. 0. ... 0. 0. 0.]\n",
            "[0.00225774 0.12654947 0.09139088 ... 0.27062407 0.05024446 0.49603155]\n",
            "[0. 0. 0. ... 0. 0. 0.]\n",
            "Epoch: 003, Loss: 0.34598, Train Auc: 0.64113, Val Auc: 0.59204, Test Auc: 0.58877\n",
            "[0.04085607 0.01208046 0.01939135 ... 0.00018627 0.00229645 0.00014317]\n",
            "[0. 0. 0. ... 0. 0. 0.]\n",
            "[0.00502331 0.01601925 0.01703497 ... 0.00755438 0.07024761 0.67682934]\n",
            "[0. 0. 0. ... 0. 0. 0.]\n",
            "[0.00156792 0.03627367 0.07522774 ... 0.09316547 0.00721168 0.7541309 ]\n",
            "[0. 0. 0. ... 0. 0. 0.]\n",
            "Epoch: 004, Loss: 0.31696, Train Auc: 0.67613, Val Auc: 0.60869, Test Auc: 0.60688\n",
            "[2.1908149e-02 5.4150373e-03 1.4802414e-02 ... 1.8955793e-04 6.0392258e-04\n",
            " 7.9142716e-05]\n",
            "[0. 0. 0. ... 0. 0. 0.]\n",
            "[0.00553799 0.00389568 0.00364731 ... 0.01880075 0.09754822 0.44926435]\n",
            "[0. 0. 0. ... 0. 0. 0.]\n",
            "[0.00077741 0.04535518 0.02079883 ... 0.21455005 0.00993993 0.5239692 ]\n",
            "[0. 0. 0. ... 0. 0. 0.]\n",
            "Epoch: 005, Loss: 0.30150, Train Auc: 0.70318, Val Auc: 0.61553, Test Auc: 0.61735\n",
            "[1.6069477e-02 5.9256265e-03 2.6112834e-02 ... 6.8498797e-05 2.8108968e-04\n",
            " 2.7314536e-05]\n",
            "[0. 0. 0. ... 0. 0. 0.]\n",
            "[0.00280838 0.00285702 0.0022598  ... 0.00951817 0.05674408 0.50059587]\n",
            "[0. 0. 0. ... 0. 0. 0.]\n",
            "[2.7070518e-04 2.8748754e-02 1.9605381e-02 ... 2.6057979e-01 3.6202058e-02\n",
            " 3.4710893e-01]\n",
            "[0. 0. 0. ... 0. 0. 0.]\n",
            "Epoch: 006, Loss: 0.28627, Train Auc: 0.73508, Val Auc: 0.62730, Test Auc: 0.63124\n",
            "[3.8128279e-02 1.2434502e-02 4.7538687e-02 ... 1.2249517e-05 1.2437707e-04\n",
            " 7.3755814e-06]\n",
            "[0. 0. 0. ... 0. 0. 0.]\n",
            "[0.00670396 0.00144691 0.00515871 ... 0.0092766  0.04382066 0.4752676 ]\n",
            "[0. 0. 0. ... 0. 0. 0.]\n",
            "[8.3598570e-05 3.2954279e-02 9.6056368e-03 ... 8.8490546e-02 1.8791292e-02\n",
            " 2.1742935e-01]\n",
            "[0. 0. 0. ... 0. 0. 0.]\n",
            "Epoch: 007, Loss: 0.27333, Train Auc: 0.76898, Val Auc: 0.63738, Test Auc: 0.63833\n",
            "[2.0781975e-02 5.9768078e-03 2.3984389e-02 ... 7.1626432e-06 6.9291913e-05\n",
            " 7.1298214e-06]\n",
            "[0. 0. 0. ... 0. 0. 0.]\n",
            "[0.00291492 0.00604588 0.0016122  ... 0.01212433 0.03374087 0.44276294]\n",
            "[0. 0. 0. ... 0. 0. 0.]\n",
            "[3.5586581e-05 1.2101788e-02 9.5337033e-03 ... 2.0095509e-01 4.9598183e-02\n",
            " 3.1945768e-01]\n",
            "[0. 0. 0. ... 0. 0. 0.]\n",
            "Epoch: 008, Loss: 0.25916, Train Auc: 0.78520, Val Auc: 0.63786, Test Auc: 0.64248\n",
            "[3.6582835e-02 3.2435022e-02 7.4035160e-02 ... 2.5719025e-06 6.2717860e-05\n",
            " 1.5077809e-06]\n",
            "[0. 0. 0. ... 0. 0. 0.]\n",
            "[0.00206345 0.00223227 0.00354489 ... 0.00245597 0.04697856 0.4136511 ]\n",
            "[0. 0. 0. ... 0. 0. 0.]\n",
            "[8.2175484e-06 3.3186451e-03 1.2412377e-02 ... 1.2718962e-01 6.9444296e-03\n",
            " 2.8128859e-01]\n",
            "[0. 0. 0. ... 0. 0. 0.]\n",
            "Epoch: 009, Loss: 0.24670, Train Auc: 0.82708, Val Auc: 0.65216, Test Auc: 0.65206\n"
          ],
          "name": "stdout"
        }
      ]
    },
    {
      "cell_type": "code",
      "metadata": {
        "id": "LcWEBuhOqdEL",
        "colab_type": "code",
        "colab": {}
      },
      "source": [
        ""
      ],
      "execution_count": null,
      "outputs": []
    }
  ]
}