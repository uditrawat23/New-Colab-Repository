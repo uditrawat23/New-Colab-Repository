{
  "nbformat": 4,
  "nbformat_minor": 0,
  "metadata": {
    "kernelspec": {
      "display_name": "Python 3",
      "language": "python",
      "name": "python3"
    },
    "language_info": {
      "codemirror_mode": {
        "name": "ipython",
        "version": 3
      },
      "file_extension": ".py",
      "mimetype": "text/x-python",
      "name": "python",
      "nbconvert_exporter": "python",
      "pygments_lexer": "ipython3",
      "version": "3.6.6"
    },
    "colab": {
      "name": "YooChooseBuy.ipynb",
      "provenance": []
    },
    "accelerator": "GPU"
  },
  "cells": [
    {
      "cell_type": "code",
      "metadata": {
        "id": "6H7xeIkQm0sf",
        "colab_type": "code",
        "outputId": "3893171b-b674-4873-a8b2-a1f56aeadf83",
        "colab": {
          "base_uri": "https://localhost:8080/",
          "height": 124
        }
      },
      "source": [
        "from google.colab import drive\n",
        "drive.mount('/content/drive')"
      ],
      "execution_count": 1,
      "outputs": [
        {
          "output_type": "stream",
          "text": [
            "Go to this URL in a browser: https://accounts.google.com/o/oauth2/auth?client_id=947318989803-6bn6qk8qdgf4n4g3pfee6491hc0brc4i.apps.googleusercontent.com&redirect_uri=urn%3aietf%3awg%3aoauth%3a2.0%3aoob&response_type=code&scope=email%20https%3a%2f%2fwww.googleapis.com%2fauth%2fdocs.test%20https%3a%2f%2fwww.googleapis.com%2fauth%2fdrive%20https%3a%2f%2fwww.googleapis.com%2fauth%2fdrive.photos.readonly%20https%3a%2f%2fwww.googleapis.com%2fauth%2fpeopleapi.readonly\n",
            "\n",
            "Enter your authorization code:\n",
            "··········\n",
            "Mounted at /content/drive\n"
          ],
          "name": "stdout"
        }
      ]
    },
    {
      "cell_type": "code",
      "metadata": {
        "id": "uXTAK2BEnHeo",
        "colab_type": "code",
        "colab": {}
      },
      "source": [
        "# !pip install torch-geometric \\\n",
        "#   torch-sparse==latest+cu101 \\\n",
        "#   torch-scatter==latest+cu101 \\\n",
        "#   torch-cluster==latest+cu101 \\\n",
        "#   -f https://pytorch-geometric.com/whl/torch-1.5.0.html"
      ],
      "execution_count": 0,
      "outputs": []
    },
    {
      "cell_type": "code",
      "metadata": {
        "id": "Q6_yYEbolde7",
        "colab_type": "code",
        "colab": {}
      },
      "source": [
        "import numpy as np\n",
        "import pandas as pd\n",
        "import pickle\n",
        "import csv\n",
        "import os\n",
        "import torch\n",
        "from torch_geometric.data import Data\n",
        "from tqdm import tqdm\n",
        "np.random.seed(42)"
      ],
      "execution_count": 0,
      "outputs": []
    },
    {
      "cell_type": "code",
      "metadata": {
        "id": "w7UFCJjqnSO7",
        "colab_type": "code",
        "colab": {}
      },
      "source": [
        "import os\n",
        "os.chdir('/content/drive/My Drive/RecSys')"
      ],
      "execution_count": 0,
      "outputs": []
    },
    {
      "cell_type": "code",
      "metadata": {
        "id": "EbuFpFwTnShy",
        "colab_type": "code",
        "outputId": "983af285-ea7a-47f9-d2df-5188ede619af",
        "colab": {
          "base_uri": "https://localhost:8080/",
          "height": 104
        }
      },
      "source": [
        "os.listdir('/content/drive/My Drive/RecSys')"
      ],
      "execution_count": 0,
      "outputs": [
        {
          "output_type": "execute_result",
          "data": {
            "text/plain": [
              "['yoochoose-buys.dat',\n",
              " 'yoochoose-test.dat',\n",
              " 'yoochoose-clicks.dat',\n",
              " 'yoochoose_click_binary_100000_sess.dataset',\n",
              " 'raw']"
            ]
          },
          "metadata": {
            "tags": []
          },
          "execution_count": 53
        }
      ]
    },
    {
      "cell_type": "code",
      "metadata": {
        "id": "NIEj2YVMnSsK",
        "colab_type": "code",
        "colab": {}
      },
      "source": [
        "# df = pd.read_csv('/content/drive/My Drive/RecSys/yoochoose_click_binary_100000_sess.dataset', header=None)\n",
        "# df\n",
        "# df.columns=['session_id','timestamp','item_id','category']"
      ],
      "execution_count": 0,
      "outputs": []
    },
    {
      "cell_type": "code",
      "metadata": {
        "id": "peEY1j6b6Kt-",
        "colab_type": "code",
        "colab": {}
      },
      "source": [
        "df = pd.read_csv('/content/drive/My Drive/RecSys/yoochoose-clicks.dat', header=None)\n",
        "# df\n",
        "df.columns=['session_id','timestamp','item_id','category']"
      ],
      "execution_count": 0,
      "outputs": []
    },
    {
      "cell_type": "code",
      "metadata": {
        "id": "BRtLLV7zldfM",
        "colab_type": "code",
        "outputId": "892d2e6b-1aec-429c-9cf3-e0af60c5d658",
        "colab": {
          "base_uri": "https://localhost:8080/",
          "height": 202
        }
      },
      "source": [
        "df.head()"
      ],
      "execution_count": 0,
      "outputs": [
        {
          "output_type": "execute_result",
          "data": {
            "text/html": [
              "<div>\n",
              "<style scoped>\n",
              "    .dataframe tbody tr th:only-of-type {\n",
              "        vertical-align: middle;\n",
              "    }\n",
              "\n",
              "    .dataframe tbody tr th {\n",
              "        vertical-align: top;\n",
              "    }\n",
              "\n",
              "    .dataframe thead th {\n",
              "        text-align: right;\n",
              "    }\n",
              "</style>\n",
              "<table border=\"1\" class=\"dataframe\">\n",
              "  <thead>\n",
              "    <tr style=\"text-align: right;\">\n",
              "      <th></th>\n",
              "      <th>session_id</th>\n",
              "      <th>timestamp</th>\n",
              "      <th>item_id</th>\n",
              "      <th>category</th>\n",
              "    </tr>\n",
              "  </thead>\n",
              "  <tbody>\n",
              "    <tr>\n",
              "      <th>0</th>\n",
              "      <td>1</td>\n",
              "      <td>2014-04-07T10:51:09.277Z</td>\n",
              "      <td>214536502.0</td>\n",
              "      <td>0.0</td>\n",
              "    </tr>\n",
              "    <tr>\n",
              "      <th>1</th>\n",
              "      <td>1</td>\n",
              "      <td>2014-04-07T10:54:09.868Z</td>\n",
              "      <td>214536500.0</td>\n",
              "      <td>0.0</td>\n",
              "    </tr>\n",
              "    <tr>\n",
              "      <th>2</th>\n",
              "      <td>1</td>\n",
              "      <td>2014-04-07T10:54:46.998Z</td>\n",
              "      <td>214536506.0</td>\n",
              "      <td>0.0</td>\n",
              "    </tr>\n",
              "    <tr>\n",
              "      <th>3</th>\n",
              "      <td>1</td>\n",
              "      <td>2014-04-07T10:57:00.306Z</td>\n",
              "      <td>214577561.0</td>\n",
              "      <td>0.0</td>\n",
              "    </tr>\n",
              "    <tr>\n",
              "      <th>4</th>\n",
              "      <td>2</td>\n",
              "      <td>2014-04-07T13:56:37.614Z</td>\n",
              "      <td>214662742.0</td>\n",
              "      <td>0.0</td>\n",
              "    </tr>\n",
              "  </tbody>\n",
              "</table>\n",
              "</div>"
            ],
            "text/plain": [
              "   session_id                 timestamp      item_id  category\n",
              "0           1  2014-04-07T10:51:09.277Z  214536502.0       0.0\n",
              "1           1  2014-04-07T10:54:09.868Z  214536500.0       0.0\n",
              "2           1  2014-04-07T10:54:46.998Z  214536506.0       0.0\n",
              "3           1  2014-04-07T10:57:00.306Z  214577561.0       0.0\n",
              "4           2  2014-04-07T13:56:37.614Z  214662742.0       0.0"
            ]
          },
          "metadata": {
            "tags": []
          },
          "execution_count": 55
        }
      ]
    },
    {
      "cell_type": "code",
      "metadata": {
        "id": "Ed8yDvaQaxHR",
        "colab_type": "code",
        "outputId": "24967958-a034-43ca-e14d-d2d721e80404",
        "colab": {
          "base_uri": "https://localhost:8080/",
          "height": 35
        }
      },
      "source": [
        "df['session_id'].min(),df['session_id'].max()"
      ],
      "execution_count": 0,
      "outputs": [
        {
          "output_type": "execute_result",
          "data": {
            "text/plain": [
              "(1, 4726783)"
            ]
          },
          "metadata": {
            "tags": []
          },
          "execution_count": 56
        }
      ]
    },
    {
      "cell_type": "code",
      "metadata": {
        "id": "J_BWSD9pnlk1",
        "colab_type": "code",
        "outputId": "3b61c261-2bcc-4dd6-9724-6c5abc5123d7",
        "colab": {
          "base_uri": "https://localhost:8080/",
          "height": 35
        }
      },
      "source": [
        "df.shape"
      ],
      "execution_count": 0,
      "outputs": [
        {
          "output_type": "execute_result",
          "data": {
            "text/plain": [
              "(14012414, 4)"
            ]
          },
          "metadata": {
            "tags": []
          },
          "execution_count": 57
        }
      ]
    },
    {
      "cell_type": "code",
      "metadata": {
        "id": "0bQ0N5lXldfT",
        "colab_type": "code",
        "outputId": "78d57c03-d807-4ee5-a952-f83fc4c432f2",
        "colab": {
          "base_uri": "https://localhost:8080/",
          "height": 202
        }
      },
      "source": [
        "buy_df = pd.read_csv('/content/drive/My Drive/RecSys/yoochoose-buys.dat', header=None)\n",
        "buy_df.columns=['session_id','timestamp','item_id','price','quantity']\n",
        "buy_df.head()"
      ],
      "execution_count": 0,
      "outputs": [
        {
          "output_type": "execute_result",
          "data": {
            "text/html": [
              "<div>\n",
              "<style scoped>\n",
              "    .dataframe tbody tr th:only-of-type {\n",
              "        vertical-align: middle;\n",
              "    }\n",
              "\n",
              "    .dataframe tbody tr th {\n",
              "        vertical-align: top;\n",
              "    }\n",
              "\n",
              "    .dataframe thead th {\n",
              "        text-align: right;\n",
              "    }\n",
              "</style>\n",
              "<table border=\"1\" class=\"dataframe\">\n",
              "  <thead>\n",
              "    <tr style=\"text-align: right;\">\n",
              "      <th></th>\n",
              "      <th>session_id</th>\n",
              "      <th>timestamp</th>\n",
              "      <th>item_id</th>\n",
              "      <th>price</th>\n",
              "      <th>quantity</th>\n",
              "    </tr>\n",
              "  </thead>\n",
              "  <tbody>\n",
              "    <tr>\n",
              "      <th>0</th>\n",
              "      <td>420374</td>\n",
              "      <td>2014-04-06T18:44:58.314Z</td>\n",
              "      <td>214537888</td>\n",
              "      <td>12462</td>\n",
              "      <td>1</td>\n",
              "    </tr>\n",
              "    <tr>\n",
              "      <th>1</th>\n",
              "      <td>420374</td>\n",
              "      <td>2014-04-06T18:44:58.325Z</td>\n",
              "      <td>214537850</td>\n",
              "      <td>10471</td>\n",
              "      <td>1</td>\n",
              "    </tr>\n",
              "    <tr>\n",
              "      <th>2</th>\n",
              "      <td>281626</td>\n",
              "      <td>2014-04-06T09:40:13.032Z</td>\n",
              "      <td>214535653</td>\n",
              "      <td>1883</td>\n",
              "      <td>1</td>\n",
              "    </tr>\n",
              "    <tr>\n",
              "      <th>3</th>\n",
              "      <td>420368</td>\n",
              "      <td>2014-04-04T06:13:28.848Z</td>\n",
              "      <td>214530572</td>\n",
              "      <td>6073</td>\n",
              "      <td>1</td>\n",
              "    </tr>\n",
              "    <tr>\n",
              "      <th>4</th>\n",
              "      <td>420368</td>\n",
              "      <td>2014-04-04T06:13:28.858Z</td>\n",
              "      <td>214835025</td>\n",
              "      <td>2617</td>\n",
              "      <td>1</td>\n",
              "    </tr>\n",
              "  </tbody>\n",
              "</table>\n",
              "</div>"
            ],
            "text/plain": [
              "   session_id                 timestamp    item_id  price  quantity\n",
              "0      420374  2014-04-06T18:44:58.314Z  214537888  12462         1\n",
              "1      420374  2014-04-06T18:44:58.325Z  214537850  10471         1\n",
              "2      281626  2014-04-06T09:40:13.032Z  214535653   1883         1\n",
              "3      420368  2014-04-04T06:13:28.848Z  214530572   6073         1\n",
              "4      420368  2014-04-04T06:13:28.858Z  214835025   2617         1"
            ]
          },
          "metadata": {
            "tags": []
          },
          "execution_count": 58
        }
      ]
    },
    {
      "cell_type": "code",
      "metadata": {
        "id": "cMPbYDaInziB",
        "colab_type": "code",
        "outputId": "b1e73bf9-c5da-48ec-ee5c-e49faf2b4571",
        "colab": {
          "base_uri": "https://localhost:8080/",
          "height": 35
        }
      },
      "source": [
        "buy_df.shape"
      ],
      "execution_count": 0,
      "outputs": [
        {
          "output_type": "execute_result",
          "data": {
            "text/plain": [
              "(1150753, 5)"
            ]
          },
          "metadata": {
            "tags": []
          },
          "execution_count": 59
        }
      ]
    },
    {
      "cell_type": "code",
      "metadata": {
        "id": "b6x9Ofnan4_7",
        "colab_type": "code",
        "outputId": "b0d94ff8-c0f9-4b13-f5f9-6cf4782b8d92",
        "colab": {
          "base_uri": "https://localhost:8080/",
          "height": 35
        }
      },
      "source": [
        "buy_df['session_id'].min(),buy_df['session_id'].max()"
      ],
      "execution_count": 0,
      "outputs": [
        {
          "output_type": "execute_result",
          "data": {
            "text/plain": [
              "(11, 11562121)"
            ]
          },
          "metadata": {
            "tags": []
          },
          "execution_count": 60
        }
      ]
    },
    {
      "cell_type": "code",
      "metadata": {
        "id": "Q5-YZB6In-Oq",
        "colab_type": "code",
        "outputId": "0beb5a2b-1949-4802-9586-0163e10e928f",
        "colab": {
          "base_uri": "https://localhost:8080/",
          "height": 325
        }
      },
      "source": [
        "df [df['session_id'] == 281626]"
      ],
      "execution_count": 0,
      "outputs": [
        {
          "output_type": "execute_result",
          "data": {
            "text/html": [
              "<div>\n",
              "<style scoped>\n",
              "    .dataframe tbody tr th:only-of-type {\n",
              "        vertical-align: middle;\n",
              "    }\n",
              "\n",
              "    .dataframe tbody tr th {\n",
              "        vertical-align: top;\n",
              "    }\n",
              "\n",
              "    .dataframe thead th {\n",
              "        text-align: right;\n",
              "    }\n",
              "</style>\n",
              "<table border=\"1\" class=\"dataframe\">\n",
              "  <thead>\n",
              "    <tr style=\"text-align: right;\">\n",
              "      <th></th>\n",
              "      <th>session_id</th>\n",
              "      <th>timestamp</th>\n",
              "      <th>item_id</th>\n",
              "      <th>category</th>\n",
              "    </tr>\n",
              "  </thead>\n",
              "  <tbody>\n",
              "    <tr>\n",
              "      <th>824193</th>\n",
              "      <td>281626</td>\n",
              "      <td>2014-04-06T09:20:42.331Z</td>\n",
              "      <td>214535653.0</td>\n",
              "      <td>0.0</td>\n",
              "    </tr>\n",
              "    <tr>\n",
              "      <th>824194</th>\n",
              "      <td>281626</td>\n",
              "      <td>2014-04-06T09:22:05.402Z</td>\n",
              "      <td>214819357.0</td>\n",
              "      <td>0.0</td>\n",
              "    </tr>\n",
              "    <tr>\n",
              "      <th>824195</th>\n",
              "      <td>281626</td>\n",
              "      <td>2014-04-06T09:22:58.720Z</td>\n",
              "      <td>214535653.0</td>\n",
              "      <td>0.0</td>\n",
              "    </tr>\n",
              "    <tr>\n",
              "      <th>824196</th>\n",
              "      <td>281626</td>\n",
              "      <td>2014-04-06T09:23:15.534Z</td>\n",
              "      <td>214535653.0</td>\n",
              "      <td>0.0</td>\n",
              "    </tr>\n",
              "    <tr>\n",
              "      <th>824197</th>\n",
              "      <td>281626</td>\n",
              "      <td>2014-04-06T09:24:16.421Z</td>\n",
              "      <td>214821277.0</td>\n",
              "      <td>0.0</td>\n",
              "    </tr>\n",
              "    <tr>\n",
              "      <th>824198</th>\n",
              "      <td>281626</td>\n",
              "      <td>2014-04-06T09:26:07.764Z</td>\n",
              "      <td>214684513.0</td>\n",
              "      <td>0.0</td>\n",
              "    </tr>\n",
              "    <tr>\n",
              "      <th>824199</th>\n",
              "      <td>281626</td>\n",
              "      <td>2014-04-06T09:28:15.255Z</td>\n",
              "      <td>214535681.0</td>\n",
              "      <td>0.0</td>\n",
              "    </tr>\n",
              "    <tr>\n",
              "      <th>824200</th>\n",
              "      <td>281626</td>\n",
              "      <td>2014-04-06T09:29:00.938Z</td>\n",
              "      <td>214552370.0</td>\n",
              "      <td>0.0</td>\n",
              "    </tr>\n",
              "    <tr>\n",
              "      <th>824201</th>\n",
              "      <td>281626</td>\n",
              "      <td>2014-04-06T09:31:52.830Z</td>\n",
              "      <td>214698577.0</td>\n",
              "      <td>0.0</td>\n",
              "    </tr>\n",
              "  </tbody>\n",
              "</table>\n",
              "</div>"
            ],
            "text/plain": [
              "        session_id                 timestamp      item_id  category\n",
              "824193      281626  2014-04-06T09:20:42.331Z  214535653.0       0.0\n",
              "824194      281626  2014-04-06T09:22:05.402Z  214819357.0       0.0\n",
              "824195      281626  2014-04-06T09:22:58.720Z  214535653.0       0.0\n",
              "824196      281626  2014-04-06T09:23:15.534Z  214535653.0       0.0\n",
              "824197      281626  2014-04-06T09:24:16.421Z  214821277.0       0.0\n",
              "824198      281626  2014-04-06T09:26:07.764Z  214684513.0       0.0\n",
              "824199      281626  2014-04-06T09:28:15.255Z  214535681.0       0.0\n",
              "824200      281626  2014-04-06T09:29:00.938Z  214552370.0       0.0\n",
              "824201      281626  2014-04-06T09:31:52.830Z  214698577.0       0.0"
            ]
          },
          "metadata": {
            "tags": []
          },
          "execution_count": 61
        }
      ]
    },
    {
      "cell_type": "code",
      "metadata": {
        "id": "KPqG_00MZmuG",
        "colab_type": "code",
        "outputId": "21a45387-c63a-4827-b582-04ee80381652",
        "colab": {
          "base_uri": "https://localhost:8080/",
          "height": 243
        }
      },
      "source": [
        "df.groupby('session_id')['item_id'].size()"
      ],
      "execution_count": 0,
      "outputs": [
        {
          "output_type": "execute_result",
          "data": {
            "text/plain": [
              "session_id\n",
              "1           4\n",
              "2           6\n",
              "3           3\n",
              "4           2\n",
              "6           2\n",
              "           ..\n",
              "4726778     2\n",
              "4726779    10\n",
              "4726781     2\n",
              "4726782     3\n",
              "4726783     3\n",
              "Name: item_id, Length: 3728934, dtype: int64"
            ]
          },
          "metadata": {
            "tags": []
          },
          "execution_count": 62
        }
      ]
    },
    {
      "cell_type": "code",
      "metadata": {
        "id": "n8sDtwJuoFOJ",
        "colab_type": "code",
        "outputId": "ee10788f-d906-48df-d7d7-9fe27653ece5",
        "colab": {
          "base_uri": "https://localhost:8080/",
          "height": 69
        }
      },
      "source": [
        "df['valid_session'] = df.session_id.map(df.groupby('session_id')['item_id'].size() > 2)\n",
        "df['valid_session'].value_counts()"
      ],
      "execution_count": 0,
      "outputs": [
        {
          "output_type": "execute_result",
          "data": {
            "text/plain": [
              "True     10659921\n",
              "False     3352493\n",
              "Name: valid_session, dtype: int64"
            ]
          },
          "metadata": {
            "tags": []
          },
          "execution_count": 63
        }
      ]
    },
    {
      "cell_type": "code",
      "metadata": {
        "id": "PDDVkMBxnlSk",
        "colab_type": "code",
        "outputId": "9d897069-fca0-4093-bc9d-ad5c621748d8",
        "colab": {
          "base_uri": "https://localhost:8080/",
          "height": 35
        }
      },
      "source": [
        "df.loc[df.valid_session].shape"
      ],
      "execution_count": 0,
      "outputs": [
        {
          "output_type": "execute_result",
          "data": {
            "text/plain": [
              "(10659921, 5)"
            ]
          },
          "metadata": {
            "tags": []
          },
          "execution_count": 64
        }
      ]
    },
    {
      "cell_type": "code",
      "metadata": {
        "id": "cgYodg0HldfZ",
        "colab_type": "code",
        "outputId": "d9c9b97c-2b57-4584-96e7-93d971b8173b",
        "colab": {
          "base_uri": "https://localhost:8080/",
          "height": 35
        }
      },
      "source": [
        "# filter out item session with length > 2\n",
        "df['valid_session'] = df.session_id.map(df.groupby('session_id')['item_id'].size() > 2)\n",
        "df = df.loc[df.valid_session].drop('valid_session',axis=1)\n",
        "df.shape"
      ],
      "execution_count": 0,
      "outputs": [
        {
          "output_type": "execute_result",
          "data": {
            "text/plain": [
              "(10659921, 4)"
            ]
          },
          "metadata": {
            "tags": []
          },
          "execution_count": 65
        }
      ]
    },
    {
      "cell_type": "code",
      "metadata": {
        "id": "WsiFfZ8Qic-e",
        "colab_type": "code",
        "outputId": "8ab8fbe5-8791-49da-9182-92406c2a583f",
        "colab": {
          "base_uri": "https://localhost:8080/",
          "height": 49
        }
      },
      "source": [
        "df [df['session_id'] == 4726778]"
      ],
      "execution_count": 0,
      "outputs": [
        {
          "output_type": "execute_result",
          "data": {
            "text/html": [
              "<div>\n",
              "<style scoped>\n",
              "    .dataframe tbody tr th:only-of-type {\n",
              "        vertical-align: middle;\n",
              "    }\n",
              "\n",
              "    .dataframe tbody tr th {\n",
              "        vertical-align: top;\n",
              "    }\n",
              "\n",
              "    .dataframe thead th {\n",
              "        text-align: right;\n",
              "    }\n",
              "</style>\n",
              "<table border=\"1\" class=\"dataframe\">\n",
              "  <thead>\n",
              "    <tr style=\"text-align: right;\">\n",
              "      <th></th>\n",
              "      <th>session_id</th>\n",
              "      <th>timestamp</th>\n",
              "      <th>item_id</th>\n",
              "      <th>category</th>\n",
              "    </tr>\n",
              "  </thead>\n",
              "  <tbody>\n",
              "  </tbody>\n",
              "</table>\n",
              "</div>"
            ],
            "text/plain": [
              "Empty DataFrame\n",
              "Columns: [session_id, timestamp, item_id, category]\n",
              "Index: []"
            ]
          },
          "metadata": {
            "tags": []
          },
          "execution_count": 66
        }
      ]
    },
    {
      "cell_type": "code",
      "metadata": {
        "id": "7_gO0VMU1TGb",
        "colab_type": "code",
        "outputId": "72b04ecd-b232-4314-f028-70ffcd05c283",
        "colab": {
          "base_uri": "https://localhost:8080/",
          "height": 104
        }
      },
      "source": [
        "df.nunique()"
      ],
      "execution_count": 0,
      "outputs": [
        {
          "output_type": "execute_result",
          "data": {
            "text/plain": [
              "session_id     1919301\n",
              "timestamp     10644076\n",
              "item_id          38546\n",
              "category             1\n",
              "dtype: int64"
            ]
          },
          "metadata": {
            "tags": []
          },
          "execution_count": 67
        }
      ]
    },
    {
      "cell_type": "code",
      "metadata": {
        "scrolled": true,
        "id": "EZnEzDCgldfe",
        "colab_type": "code",
        "outputId": "92f7750b-af95-46a1-a38b-1b9cd2e88a6c",
        "colab": {
          "base_uri": "https://localhost:8080/",
          "height": 104
        }
      },
      "source": [
        "# #randomly sample a couple of them\n",
        "sampled_session_id = np.random.choice(df.session_id.unique(), 100000, replace=False)\n",
        "df = df.loc[df.session_id.isin(sampled_session_id)]\n",
        "df.nunique()"
      ],
      "execution_count": 0,
      "outputs": [
        {
          "output_type": "execute_result",
          "data": {
            "text/plain": [
              "session_id    100000\n",
              "timestamp     555885\n",
              "item_id        20464\n",
              "category           1\n",
              "dtype: int64"
            ]
          },
          "metadata": {
            "tags": []
          },
          "execution_count": 68
        }
      ]
    },
    {
      "cell_type": "code",
      "metadata": {
        "id": "ZUNPuKXtldfj",
        "colab_type": "code",
        "outputId": "ab557d21-feec-4848-b6ed-5d2d1abb34d8",
        "colab": {
          "base_uri": "https://localhost:8080/",
          "height": 35
        }
      },
      "source": [
        "# average length of session \n",
        "df.groupby('session_id')['item_id'].size().mean()"
      ],
      "execution_count": 0,
      "outputs": [
        {
          "output_type": "execute_result",
          "data": {
            "text/plain": [
              "5.55948"
            ]
          },
          "metadata": {
            "tags": []
          },
          "execution_count": 69
        }
      ]
    },
    {
      "cell_type": "code",
      "metadata": {
        "id": "OoCbk-rlldfp",
        "colab_type": "code",
        "outputId": "1cc5c9ce-e147-4d23-c8e6-c4c6f1f612ca",
        "colab": {
          "base_uri": "https://localhost:8080/",
          "height": 202
        }
      },
      "source": [
        "from sklearn.preprocessing import LabelEncoder\n",
        "\n",
        "item_encoder = LabelEncoder()\n",
        "category_encoder = LabelEncoder()\n",
        "df['item_id'] = item_encoder.fit_transform(df.item_id )\n",
        "df['category']= category_encoder.fit_transform(df.category.apply(str))\n",
        "df.head()"
      ],
      "execution_count": 0,
      "outputs": [
        {
          "output_type": "execute_result",
          "data": {
            "text/html": [
              "<div>\n",
              "<style scoped>\n",
              "    .dataframe tbody tr th:only-of-type {\n",
              "        vertical-align: middle;\n",
              "    }\n",
              "\n",
              "    .dataframe tbody tr th {\n",
              "        vertical-align: top;\n",
              "    }\n",
              "\n",
              "    .dataframe thead th {\n",
              "        text-align: right;\n",
              "    }\n",
              "</style>\n",
              "<table border=\"1\" class=\"dataframe\">\n",
              "  <thead>\n",
              "    <tr style=\"text-align: right;\">\n",
              "      <th></th>\n",
              "      <th>session_id</th>\n",
              "      <th>timestamp</th>\n",
              "      <th>item_id</th>\n",
              "      <th>category</th>\n",
              "    </tr>\n",
              "  </thead>\n",
              "  <tbody>\n",
              "    <tr>\n",
              "      <th>208</th>\n",
              "      <td>61</td>\n",
              "      <td>2014-04-02T07:00:13.748Z</td>\n",
              "      <td>12932</td>\n",
              "      <td>0</td>\n",
              "    </tr>\n",
              "    <tr>\n",
              "      <th>209</th>\n",
              "      <td>61</td>\n",
              "      <td>2014-04-02T07:00:17.209Z</td>\n",
              "      <td>12932</td>\n",
              "      <td>0</td>\n",
              "    </tr>\n",
              "    <tr>\n",
              "      <th>210</th>\n",
              "      <td>61</td>\n",
              "      <td>2014-04-02T07:01:26.344Z</td>\n",
              "      <td>12932</td>\n",
              "      <td>0</td>\n",
              "    </tr>\n",
              "    <tr>\n",
              "      <th>211</th>\n",
              "      <td>61</td>\n",
              "      <td>2014-04-02T07:02:02.150Z</td>\n",
              "      <td>12932</td>\n",
              "      <td>0</td>\n",
              "    </tr>\n",
              "    <tr>\n",
              "      <th>212</th>\n",
              "      <td>61</td>\n",
              "      <td>2014-04-02T07:02:05.171Z</td>\n",
              "      <td>12932</td>\n",
              "      <td>0</td>\n",
              "    </tr>\n",
              "  </tbody>\n",
              "</table>\n",
              "</div>"
            ],
            "text/plain": [
              "     session_id                 timestamp  item_id  category\n",
              "208          61  2014-04-02T07:00:13.748Z    12932         0\n",
              "209          61  2014-04-02T07:00:17.209Z    12932         0\n",
              "210          61  2014-04-02T07:01:26.344Z    12932         0\n",
              "211          61  2014-04-02T07:02:02.150Z    12932         0\n",
              "212          61  2014-04-02T07:02:05.171Z    12932         0"
            ]
          },
          "metadata": {
            "tags": []
          },
          "execution_count": 70
        }
      ]
    },
    {
      "cell_type": "code",
      "metadata": {
        "id": "L7fB0UZq1kvR",
        "colab_type": "code",
        "outputId": "c758731b-4a73-4111-f9ae-7f2ad113ec2f",
        "colab": {
          "base_uri": "https://localhost:8080/",
          "height": 35
        }
      },
      "source": [
        "df['item_id'].min(),df['item_id'].max()"
      ],
      "execution_count": 0,
      "outputs": [
        {
          "output_type": "execute_result",
          "data": {
            "text/plain": [
              "(0, 20463)"
            ]
          },
          "metadata": {
            "tags": []
          },
          "execution_count": 71
        }
      ]
    },
    {
      "cell_type": "code",
      "metadata": {
        "scrolled": true,
        "id": "TMPJkr-1ldft",
        "colab_type": "code",
        "outputId": "d468e494-5f5f-4c01-9e43-764e983d0502",
        "colab": {
          "base_uri": "https://localhost:8080/",
          "height": 202
        }
      },
      "source": [
        "#  check there is any buy event for a given session\n",
        "buy_df = buy_df.loc[buy_df.session_id.isin(df.session_id)]\n",
        "buy_df['item_id'] = item_encoder.transform(buy_df.item_id)\n",
        "buy_df.head()"
      ],
      "execution_count": 0,
      "outputs": [
        {
          "output_type": "execute_result",
          "data": {
            "text/html": [
              "<div>\n",
              "<style scoped>\n",
              "    .dataframe tbody tr th:only-of-type {\n",
              "        vertical-align: middle;\n",
              "    }\n",
              "\n",
              "    .dataframe tbody tr th {\n",
              "        vertical-align: top;\n",
              "    }\n",
              "\n",
              "    .dataframe thead th {\n",
              "        text-align: right;\n",
              "    }\n",
              "</style>\n",
              "<table border=\"1\" class=\"dataframe\">\n",
              "  <thead>\n",
              "    <tr style=\"text-align: right;\">\n",
              "      <th></th>\n",
              "      <th>session_id</th>\n",
              "      <th>timestamp</th>\n",
              "      <th>item_id</th>\n",
              "      <th>price</th>\n",
              "      <th>quantity</th>\n",
              "    </tr>\n",
              "  </thead>\n",
              "  <tbody>\n",
              "    <tr>\n",
              "      <th>96</th>\n",
              "      <td>420457</td>\n",
              "      <td>2014-04-01T09:58:16.652Z</td>\n",
              "      <td>12566</td>\n",
              "      <td>7328</td>\n",
              "      <td>1</td>\n",
              "    </tr>\n",
              "    <tr>\n",
              "      <th>139</th>\n",
              "      <td>281789</td>\n",
              "      <td>2014-04-04T18:43:07.127Z</td>\n",
              "      <td>14177</td>\n",
              "      <td>2617</td>\n",
              "      <td>2</td>\n",
              "    </tr>\n",
              "    <tr>\n",
              "      <th>140</th>\n",
              "      <td>281789</td>\n",
              "      <td>2014-04-04T18:43:07.292Z</td>\n",
              "      <td>14178</td>\n",
              "      <td>2408</td>\n",
              "      <td>1</td>\n",
              "    </tr>\n",
              "    <tr>\n",
              "      <th>171</th>\n",
              "      <td>141007</td>\n",
              "      <td>2014-04-01T17:36:22.260Z</td>\n",
              "      <td>16089</td>\n",
              "      <td>941</td>\n",
              "      <td>1</td>\n",
              "    </tr>\n",
              "    <tr>\n",
              "      <th>172</th>\n",
              "      <td>141007</td>\n",
              "      <td>2014-04-01T17:36:22.277Z</td>\n",
              "      <td>4235</td>\n",
              "      <td>523</td>\n",
              "      <td>1</td>\n",
              "    </tr>\n",
              "  </tbody>\n",
              "</table>\n",
              "</div>"
            ],
            "text/plain": [
              "     session_id                 timestamp  item_id  price  quantity\n",
              "96       420457  2014-04-01T09:58:16.652Z    12566   7328         1\n",
              "139      281789  2014-04-04T18:43:07.127Z    14177   2617         2\n",
              "140      281789  2014-04-04T18:43:07.292Z    14178   2408         1\n",
              "171      141007  2014-04-01T17:36:22.260Z    16089    941         1\n",
              "172      141007  2014-04-01T17:36:22.277Z     4235    523         1"
            ]
          },
          "metadata": {
            "tags": []
          },
          "execution_count": 72
        }
      ]
    },
    {
      "cell_type": "code",
      "metadata": {
        "id": "k8tFXtTF1vjx",
        "colab_type": "code",
        "outputId": "3d77cfd8-2502-4e20-ff7e-3639bf206c74",
        "colab": {
          "base_uri": "https://localhost:8080/",
          "height": 35
        }
      },
      "source": [
        "buy_df['session_id'].min(),buy_df['session_id'].max()"
      ],
      "execution_count": 0,
      "outputs": [
        {
          "output_type": "execute_result",
          "data": {
            "text/plain": [
              "(737, 4726273)"
            ]
          },
          "metadata": {
            "tags": []
          },
          "execution_count": 73
        }
      ]
    },
    {
      "cell_type": "code",
      "metadata": {
        "id": "IHy3kDyW10Et",
        "colab_type": "code",
        "outputId": "608af8bb-a400-491d-9025-c90ea3a2ce2c",
        "colab": {
          "base_uri": "https://localhost:8080/",
          "height": 35
        }
      },
      "source": [
        "buy_df['item_id'].min(),buy_df['item_id'].max()"
      ],
      "execution_count": 0,
      "outputs": [
        {
          "output_type": "execute_result",
          "data": {
            "text/plain": [
              "(0, 20459)"
            ]
          },
          "metadata": {
            "tags": []
          },
          "execution_count": 74
        }
      ]
    },
    {
      "cell_type": "code",
      "metadata": {
        "id": "LIp0aY4EldgA",
        "colab_type": "code",
        "outputId": "ca824e20-f914-43f3-b055-1f634fdb5b94",
        "colab": {
          "base_uri": "https://localhost:8080/",
          "height": 1000
        }
      },
      "source": [
        "buy_item_dict = dict(buy_df.groupby('session_id')['item_id'].apply(list))\n",
        "buy_item_dict"
      ],
      "execution_count": 0,
      "outputs": [
        {
          "output_type": "execute_result",
          "data": {
            "text/plain": [
              "{737: [17340],\n",
              " 1046: [16321, 16322, 2987],\n",
              " 1446: [15899, 15900, 15899],\n",
              " 2398: [1009, 15975, 14830, 16032],\n",
              " 2666: [12833, 12386],\n",
              " 2998: [4828],\n",
              " 3323: [5846, 19011, 19014, 19013],\n",
              " 4873: [14168],\n",
              " 4993: [17445],\n",
              " 5496: [15910, 1095, 48, 15897],\n",
              " 6447: [16045, 16049],\n",
              " 6662: [14939, 15015],\n",
              " 7717: [17060],\n",
              " 7968: [11336, 6072, 6060],\n",
              " 9568: [18173, 18477, 3560, 10476],\n",
              " 10863: [16323, 16288, 8996, 13162],\n",
              " 10906: [18973],\n",
              " 11644: [14778, 2839, 15899, 7466],\n",
              " 11833: [14162],\n",
              " 12101: [15883, 16392],\n",
              " 12714: [10400, 16084, 10400, 16084],\n",
              " 13132: [16050, 16049],\n",
              " 13297: [14443],\n",
              " 13314: [16284, 16261, 14163, 14163],\n",
              " 14819: [15957, 15755],\n",
              " 14862: [16345, 16346, 16344],\n",
              " 14883: [5490],\n",
              " 14982: [325],\n",
              " 16914: [15897, 15896, 15894],\n",
              " 16949: [16038],\n",
              " 17892: [10400],\n",
              " 17938: [4944],\n",
              " 18014: [15619, 15958],\n",
              " 18191: [15884],\n",
              " 18741: [3590],\n",
              " 18774: [16045, 16309, 16047],\n",
              " 19171: [4792],\n",
              " 19349: [12622, 12622],\n",
              " 19909: [3862],\n",
              " 19983: [16365, 16365],\n",
              " 21734: [15950, 16047, 16047, 15950],\n",
              " 22818: [17092, 17092],\n",
              " 23054: [15825, 15755],\n",
              " 23154: [751, 752],\n",
              " 23391: [1528, 15695],\n",
              " 24478: [16533, 16054, 16354, 16355],\n",
              " 24742: [11547],\n",
              " 24894: [9347, 14209],\n",
              " 25311: [15576, 14057, 12685, 12654, 6214, 12653, 14936, 15846],\n",
              " 25333: [2615],\n",
              " 25388: [2386],\n",
              " 25774: [7466, 15786],\n",
              " 25892: [299, 298],\n",
              " 26099: [15950, 16315],\n",
              " 26399: [16353, 16390, 16348, 16380, 16533, 16378, 18173],\n",
              " 26561: [11549],\n",
              " 27356: [16045, 16050],\n",
              " 27591: [1445],\n",
              " 27682: [13135, 16323, 16323, 13135],\n",
              " 27726: [16321, 13289, 16288],\n",
              " 28668: [16309],\n",
              " 28807: [16268, 16364, 16046],\n",
              " 30118: [14895],\n",
              " 30136: [12426, 13182, 13162, 14501],\n",
              " 30207: [17409],\n",
              " 30368: [15689, 15820, 2850, 8186],\n",
              " 30507: [5490, 16293],\n",
              " 31451: [18537, 18487],\n",
              " 32722: [16323, 18979],\n",
              " 33306: [16340, 1829],\n",
              " 34272: [16046, 4575, 16381],\n",
              " 35499: [16381, 16378],\n",
              " 35912: [14779],\n",
              " 36017: [6424, 16054, 16307, 14780, 16266],\n",
              " 36032: [11335, 7085, 5516, 5507],\n",
              " 36252: [7493],\n",
              " 36614: [18629],\n",
              " 36743: [16288, 15838],\n",
              " 37188: [15014],\n",
              " 37437: [15845, 15958, 16032, 15953, 14829, 15955, 14954, 15957, 16266],\n",
              " 38242: [15773],\n",
              " 38437: [18611, 18813],\n",
              " 38603: [245],\n",
              " 38793: [14179, 14179],\n",
              " 38853: [17093],\n",
              " 41239: [5932],\n",
              " 41473: [18842, 7466],\n",
              " 42008: [5490, 5490],\n",
              " 42456: [16086, 15910],\n",
              " 42673: [5932],\n",
              " 42872: [6259],\n",
              " 43662: [16043, 16387],\n",
              " 44278: [15795, 5932],\n",
              " 44314: [2386, 2386],\n",
              " 44484: [14165],\n",
              " 44563: [12627],\n",
              " 45074: [2615],\n",
              " 45927: [15842, 12781],\n",
              " 47127: [11268],\n",
              " 47808: [16614],\n",
              " 48761: [6294, 16034],\n",
              " 49081: [12744],\n",
              " 49287: [10542],\n",
              " 50044: [15845, 15846],\n",
              " 50698: [18736, 18738],\n",
              " 51154: [16046, 16270, 3560, 16364, 16364],\n",
              " 51304: [16309, 16308, 16261, 16283, 16261, 16283, 16308, 16309],\n",
              " 51361: [16308, 16308, 16308, 16308],\n",
              " 52133: [372],\n",
              " 52297: [14167, 14167],\n",
              " 52737: [15904, 15906, 15962],\n",
              " 52983: [14954, 15794, 15828],\n",
              " 53511: [18173, 16264, 16321, 17334, 16266, 17349, 16071],\n",
              " 54753: [4796],\n",
              " 55293: [9648, 9650],\n",
              " 55337: [14166],\n",
              " 55814: [14162],\n",
              " 55993: [12670, 16613],\n",
              " 56202: [16045, 16047],\n",
              " 56414: [14208],\n",
              " 56633: [14829, 15953],\n",
              " 56683: [16288, 16308, 16308, 16288],\n",
              " 56982: [17504, 17503],\n",
              " 57723: [10726],\n",
              " 57746: [18172, 18173, 3560],\n",
              " 57771: [16045, 16045, 16050, 16045, 16045, 16050],\n",
              " 58968: [12571, 4328, 16054, 16533],\n",
              " 59452: [14443],\n",
              " 59731: [15897],\n",
              " 60958: [4700],\n",
              " 61134: [10416, 2640, 10415, 16956, 10361],\n",
              " 61148: [17664],\n",
              " 61886: [13163],\n",
              " 63027: [6644],\n",
              " 63079: [2606],\n",
              " 63278: [16284, 16261],\n",
              " 63664: [236, 16339, 16050],\n",
              " 63731: [199],\n",
              " 64337: [14167],\n",
              " 65027: [19709, 15899, 7466],\n",
              " 65667: [12551],\n",
              " 66187: [12630],\n",
              " 66331: [14272],\n",
              " 66647: [16303],\n",
              " 68052: [16364, 16270, 15900],\n",
              " 68148: [1557, 5068],\n",
              " 69917: [16045, 16049, 16047, 16283],\n",
              " 70061: [10944, 16260, 8996],\n",
              " 70139: [14165],\n",
              " 70677: [11518],\n",
              " 70724: [18611],\n",
              " 70829: [16308, 15910, 15897],\n",
              " 70994: [17551, 7292, 16346],\n",
              " 71631: [11392],\n",
              " 71937: [14135, 16031, 16034],\n",
              " 72194: [14829, 15955, 15955, 14829, 14829, 15955, 15955, 14829],\n",
              " 72928: [5932],\n",
              " 74062: [490, 19580],\n",
              " 74207: [18329],\n",
              " 74517: [17354, 16353, 16380, 16378, 16054],\n",
              " 74531: [751, 16045],\n",
              " 75101: [17060, 9701, 9701, 17060],\n",
              " 75151: [16261, 16308, 16283, 16308, 16614, 14383],\n",
              " 75254: [18867, 12622],\n",
              " 75259: [16315, 16283],\n",
              " 75769: [14779, 14779],\n",
              " 76183: [4819, 10860],\n",
              " 76289: [1445, 14168],\n",
              " 76403: [14164],\n",
              " 76939: [10400],\n",
              " 76969: [12915, 12914, 11049],\n",
              " 77239: [1159, 1169, 2441, 5162, 2743],\n",
              " 77786: [9813],\n",
              " 78272: [18844, 18842],\n",
              " 78277: [13281],\n",
              " 79806: [10885, 16049, 10944, 10453, 17004],\n",
              " 80404: [398],\n",
              " 80437: [16045, 16049, 16050],\n",
              " 80654: [519],\n",
              " 81396: [17578],\n",
              " 82004: [15970, 16049, 16045],\n",
              " 82906: [16045, 16045, 16047, 16050, 19602],\n",
              " 83309: [14868, 16283, 16288, 16284, 8996],\n",
              " 83433: [15783],\n",
              " 83462: [16283, 16283],\n",
              " 84008: [499, 18738, 7118, 524, 491, 512, 9673, 13422, 7119, 508],\n",
              " 84542: [13189],\n",
              " 84556: [2616],\n",
              " 85596: [19090],\n",
              " 85778: [11598],\n",
              " 85939: [17091],\n",
              " 86238: [15957, 15752],\n",
              " 87044: [16038],\n",
              " 87197: [15961, 16050, 14177],\n",
              " 87817: [11929],\n",
              " 87894: [16054, 14254],\n",
              " 88009: [12930, 16390],\n",
              " 88723: [14177, 14177],\n",
              " 89006: [9515],\n",
              " 89247: [16050, 16045, 16261],\n",
              " 89393: [14177],\n",
              " 89621: [14141, 14141],\n",
              " 90243: [14443],\n",
              " 90569: [15803, 15854, 15577, 15751],\n",
              " 90757: [3459],\n",
              " 91043: [15014, 14937, 18597, 15308],\n",
              " 91614: [12225],\n",
              " 91836: [2297, 2904],\n",
              " 91878: [12225],\n",
              " 92132: [18973, 18973],\n",
              " 92417: [18611],\n",
              " 94994: [4315],\n",
              " 95323: [14142],\n",
              " 96603: [9535, 9729, 3839],\n",
              " 96711: [16309, 16047],\n",
              " 96756: [849, 13041],\n",
              " 97246: [14165],\n",
              " 97259: [17885, 17885],\n",
              " 97479: [18454,\n",
              "  11031,\n",
              "  19090,\n",
              "  18454,\n",
              "  11031,\n",
              "  19090,\n",
              "  18454,\n",
              "  19090,\n",
              "  11031,\n",
              "  18454,\n",
              "  11031,\n",
              "  19090],\n",
              " 97891: [14177, 14177],\n",
              " 98953: [6079],\n",
              " 99288: [5140, 16045, 16045, 5140],\n",
              " 99793: [16045, 16283],\n",
              " 99946: [4993],\n",
              " 100138: [16392, 16041, 9286],\n",
              " 100386: [5068, 5068, 14450],\n",
              " 100443: [16047, 16282, 16049, 18611, 16261],\n",
              " 100528: [2567, 14600, 67, 1232],\n",
              " 101384: [12957],\n",
              " 101657: [16364, 16270],\n",
              " 101788: [6481, 16083],\n",
              " 101857: [10964],\n",
              " 102012: [14762],\n",
              " 102694: [5899, 16269, 16388],\n",
              " 102733: [2622, 2622],\n",
              " 103204: [16308, 16308],\n",
              " 103599: [14147, 14148],\n",
              " 103876: [16309, 16047],\n",
              " 105014: [13804, 16088],\n",
              " 105892: [1427, 18652],\n",
              " 106561: [10897, 16614, 19496, 16364],\n",
              " 107342: [16283],\n",
              " 107818: [16381, 16353],\n",
              " 108522: [16339, 16288, 16321],\n",
              " 108929: [14167, 14167],\n",
              " 109242: [18684, 6882],\n",
              " 109403: [4926, 16058, 16056, 16382, 2107],\n",
              " 110154: [3886],\n",
              " 110716: [14931],\n",
              " 111087: [17060, 14443, 13763],\n",
              " 111557: [6026, 6026],\n",
              " 111948: [5898],\n",
              " 112341: [17504],\n",
              " 112617: [16269, 19451, 19197],\n",
              " 113043: [14954, 15954, 16283, 16050],\n",
              " 113128: [2678, 2669],\n",
              " 113261: [15770, 15746, 15771],\n",
              " 113712: [18610, 16363, 18610, 16363],\n",
              " 114014: [14941, 14935],\n",
              " 114239: [16047, 16045],\n",
              " 115996: [16353, 16353, 16378, 16380, 17354, 18173],\n",
              " 116058: [14144],\n",
              " 116479: [14935],\n",
              " 117419: [2142],\n",
              " 117448: [18610, 15836, 15783],\n",
              " 118411: [15752],\n",
              " 119076: [14162],\n",
              " 119148: [16343, 16343, 16261],\n",
              " 119996: [19442, 19490, 18987, 19184],\n",
              " 120784: [16047],\n",
              " 120871: [16685],\n",
              " 124086: [6467],\n",
              " 124717: [18347, 16309, 16047, 4506],\n",
              " 125219: [18486, 18487],\n",
              " 125353: [15910, 3529, 16394],\n",
              " 126229: [12566],\n",
              " 126417: [15471, 16392, 9286, 9301, 3459, 3459],\n",
              " 126786: [10932],\n",
              " 126828: [19090, 7635],\n",
              " 127311: [16331, 15957, 16346, 15752, 16266, 16267],\n",
              " 127327: [15897],\n",
              " 128024: [16284],\n",
              " 128391: [14428, 14424],\n",
              " 128787: [10316, 10525],\n",
              " 129547: [14443],\n",
              " 129686: [574],\n",
              " 130282: [1095],\n",
              " 130283: [18170],\n",
              " 132594: [2615],\n",
              " 134024: [2871, 16261],\n",
              " 134216: [17557],\n",
              " 134654: [14162],\n",
              " 135393: [16049, 16045, 16050],\n",
              " 135398: [4828],\n",
              " 135732: [15910, 15897],\n",
              " 136101: [4795, 14343],\n",
              " 136228: [13189],\n",
              " 136288: [18611],\n",
              " 136669: [9417, 16353, 17354, 16381],\n",
              " 137011: [17504],\n",
              " 137122: [16264, 16687, 14501],\n",
              " 137533: [6481, 1004],\n",
              " 137879: [16283, 16050, 16047, 16090, 16045],\n",
              " 138198: [1685],\n",
              " 138313: [4926, 16056],\n",
              " 138501: [14163],\n",
              " 138738: [13787, 3825, 3825, 13787],\n",
              " 138796: [14939, 15014],\n",
              " 139518: [16049, 16045],\n",
              " 139664: [17092, 15907],\n",
              " 139666: [15906],\n",
              " 141007: [16089, 4235],\n",
              " 141188: [16331],\n",
              " 141341: [864],\n",
              " 141439: [230],\n",
              " 142269: [10897, 10998],\n",
              " 142303: [16017],\n",
              " 142339: [15752],\n",
              " 143042: [18611, 17340],\n",
              " 143424: [18611, 18815],\n",
              " 143508: [6122, 1477],\n",
              " 144336: [1095],\n",
              " 144344: [14177, 12579, 9777],\n",
              " 144766: [16346, 16269, 16346, 16269],\n",
              " 145072: [16045, 16049, 16047],\n",
              " 146696: [3340],\n",
              " 146792: [9294],\n",
              " 146818: [16045, 16282, 16049],\n",
              " 147678: [14167],\n",
              " 147703: [4926, 4926],\n",
              " 148287: [4616],\n",
              " 149339: [15906, 10556],\n",
              " 149463: [9977],\n",
              " 149484: [12667],\n",
              " 149517: [2871],\n",
              " 150638: [14495],\n",
              " 151706: [6947],\n",
              " 151817: [15810, 15820, 2850, 15689, 15795, 7797],\n",
              " 153399: [6618, 6674],\n",
              " 154761: [9374, 16055],\n",
              " 155412: [61],\n",
              " 156781: [16075, 16074, 1208, 4527, 4949, 19701],\n",
              " 156873: [15961],\n",
              " 157157: [14163],\n",
              " 157231: [16312],\n",
              " 157764: [15690],\n",
              " 159169: [10869, 10987, 19020, 10868],\n",
              " 159307: [18894, 16261],\n",
              " 161039: [15786, 16991],\n",
              " 161836: [14272],\n",
              " 162036: [13154, 16322],\n",
              " 162549: [6811, 4922],\n",
              " 162559: [8097, 6137],\n",
              " 162727: [6491, 16270, 16390, 17354, 16381, 10478],\n",
              " 163943: [14424, 16034, 15799, 16300, 16613],\n",
              " 164801: [19601, 15968],\n",
              " 165043: [15887, 12930, 16686, 12948],\n",
              " 165191: [17093, 17092],\n",
              " 165883: [18611],\n",
              " 166001: [19443, 18342, 19443, 18342],\n",
              " 166278: [4828, 16045, 3859],\n",
              " 166514: [16614, 10929],\n",
              " 167037: [15896],\n",
              " 168129: [2544, 10400],\n",
              " 168832: [14166, 14145],\n",
              " 169142: [248],\n",
              " 169878: [16050, 19194],\n",
              " 170379: [9456, 14931],\n",
              " 172156: [2360],\n",
              " 172711: [14177],\n",
              " 172798: [4089],\n",
              " 172877: [14167, 17092],\n",
              " 173532: [14702, 15581, 11613, 15579, 14829, 14285],\n",
              " 173988: [16090, 15806, 15974, 16090, 15974, 15806],\n",
              " 174141: [4775],\n",
              " 174222: [13304],\n",
              " 174618: [16364, 16364, 16364, 16364, 16364, 16364],\n",
              " 175097: [5047],\n",
              " 176701: [7390],\n",
              " 176883: [5489],\n",
              " 177099: [9980],\n",
              " 177682: [11001],\n",
              " 177933: [5898],\n",
              " 178877: [16381, 17354, 13802, 16533],\n",
              " 179007: [6458, 15817],\n",
              " 182293: [16322, 16260],\n",
              " 184047: [14936],\n",
              " 184244: [15910, 15910, 15910, 15910],\n",
              " 184401: [17060],\n",
              " 185949: [16323, 16260, 16268],\n",
              " 186084: [5932],\n",
              " 186213: [4068, 1, 15845, 14605, 5783],\n",
              " 187091: [15896],\n",
              " 187143: [16011, 10323],\n",
              " 187187: [15752],\n",
              " 187448: [15897, 15910, 16284],\n",
              " 187968: [17119, 1042],\n",
              " 188023: [12630],\n",
              " 188177: [16321, 16340],\n",
              " 188441: [18867],\n",
              " 188651: [16061, 16057, 13775, 16056, 16058],\n",
              " 189254: [15783, 10489, 13131],\n",
              " 189464: [12462, 18486],\n",
              " 189762: [5119],\n",
              " 190148: [5963, 19596, 19462, 14098, 8302, 9417, 422],\n",
              " 190646: [17022, 17108, 13310, 3356],\n",
              " 190834: [3185],\n",
              " 191354: [15909],\n",
              " 191843: [15897, 15910],\n",
              " 191911: [10859, 16312, 16050, 16260, 16323],\n",
              " 192347: [18738, 4038, 2296],\n",
              " 192439: [17445, 18611],\n",
              " 193122: [15014],\n",
              " 193681: [15855],\n",
              " 193699: [16364, 6811, 4922],\n",
              " 193979: [16323, 16270, 16614, 16686],\n",
              " 194008: [5202],\n",
              " 194862: [14162],\n",
              " 195702: [17811],\n",
              " 195942: [7385],\n",
              " 196532: [15619],\n",
              " 196828: [16321, 16340],\n",
              " 196901: [18611],\n",
              " 197276: [14146, 14165],\n",
              " 197287: [16382],\n",
              " 197779: [7641, 2978, 17352],\n",
              " 198147: [14162],\n",
              " 198244: [14845, 1728],\n",
              " 200206: [18611, 18812],\n",
              " 200537: [4829],\n",
              " 200631: [16315],\n",
              " 200636: [16309],\n",
              " 200807: [5898, 5899, 5898, 5899],\n",
              " 201464: [14166, 14167, 14141],\n",
              " 202174: [4655, 1422],\n",
              " 202503: [3664],\n",
              " 202579: [14399],\n",
              " 202734: [15770],\n",
              " 203124: [16364, 16288, 16268, 16312, 16266, 14884],\n",
              " 203286: [16353, 17354, 16381, 16353, 17354, 16381],\n",
              " 204076: [2386, 2386],\n",
              " 205107: [14147],\n",
              " 206346: [16038, 4372],\n",
              " 206676: [16332, 2871],\n",
              " 206966: [2547, 16061],\n",
              " 207044: [4546],\n",
              " 207141: [15575, 12985, 14430, 15574, 4730, 5905, 9121, 16613],\n",
              " 207726: [15786],\n",
              " 207827: [5489],\n",
              " 207948: [18611],\n",
              " 208259: [18973],\n",
              " 208372: [10312],\n",
              " 208664: [16045],\n",
              " 208827: [12960, 15014],\n",
              " 209333: [18684],\n",
              " 209936: [845],\n",
              " 210058: [16045],\n",
              " 210697: [15013, 15014, 14941],\n",
              " 211142: [14954, 6927],\n",
              " 211437: [16321],\n",
              " 212724: [15910, 15897],\n",
              " 213126: [18754, 7316, 7316, 18744, 16045, 16049],\n",
              " 213627: [5539],\n",
              " 214274: [9109, 18610, 14143],\n",
              " 214553: [12180],\n",
              " 214562: [4829],\n",
              " 214833: [15960],\n",
              " 214838: [14708],\n",
              " 215014: [17060, 3651],\n",
              " 215881: [14495, 2848, 14243],\n",
              " 217599: [16323, 16270],\n",
              " 217891: [16364],\n",
              " 218024: [14168],\n",
              " 218777: [14304, 14304],\n",
              " 219358: [16282, 16308, 16308],\n",
              " 219567: [14148, 14148],\n",
              " 220527: [3934, 15238],\n",
              " 220853: [5052],\n",
              " 220862: [4795, 14956, 4795, 14956],\n",
              " 221127: [17060, 16053],\n",
              " 221507: [14177, 14167],\n",
              " 221747: [16269, 16338, 16270, 16364, 16364, 16338, 16270, 16269],\n",
              " 222146: [18364],\n",
              " 223339: [14167],\n",
              " 223818: [16382, 6467, 16618],\n",
              " 224164: [14686],\n",
              " 224202: [14864, 15971, 16087],\n",
              " 224713: [14937, 15014, 15015],\n",
              " 225833: [1085],\n",
              " 226423: [5102],\n",
              " 228069: [15767, 12496, 7493],\n",
              " 228174: [18277, 18277],\n",
              " 229554: [12398, 13131],\n",
              " 229713: [14143],\n",
              " 230366: [751, 16269, 6294, 16093],\n",
              " 230832: [13164, 13162],\n",
              " 231063: [10400],\n",
              " 231922: [1240],\n",
              " 232234: [674],\n",
              " 233304: [18681, 9122],\n",
              " 233564: [486, 4038],\n",
              " 234791: [4829, 18277],\n",
              " 234834: [15794, 10945],\n",
              " 234932: [18777],\n",
              " 234991: [18167],\n",
              " 236331: [14167],\n",
              " 237473: [16083, 3859, 18994],\n",
              " 237788: [16288, 16338, 14294, 16339],\n",
              " 237838: [16353, 14681],\n",
              " 238146: [1529],\n",
              " 238898: [16613, 1121],\n",
              " 239101: [16284, 16261],\n",
              " 239112: [16266, 16354],\n",
              " 239123: [16093, 16047],\n",
              " 239524: [14779, 15752],\n",
              " 239576: [5899, 5898],\n",
              " 239729: [15910, 15897],\n",
              " 240319: [13038],\n",
              " 240939: [16263, 16267, 16379],\n",
              " 242432: [18611, 18812, 18813],\n",
              " 242462: [15797, 15955, 10825, 15955],\n",
              " 242682: [16342, 10531, 8996, 16057],\n",
              " 244089: [17060],\n",
              " 244563: [4064, 15799, 15751, 3558],\n",
              " 244622: [18477, 12930, 16390],\n",
              " 244674: [15617],\n",
              " 246082: [4141, 4141],\n",
              " 246469: [4829],\n",
              " 246662: [10003],\n",
              " 246916: [3600],\n",
              " 246952: [14177, 14162],\n",
              " 247102: [14142],\n",
              " 247842: [14169, 17092, 14148],\n",
              " 247888: [14148, 14162, 14178],\n",
              " 248014: [2670],\n",
              " 248508: [16284, 16261, 16308, 16308, 15950],\n",
              " 248608: [18812, 18611, 18813, 18815],\n",
              " 248831: [15828, 14954, 15955, 15752, 15825, 15755, 15845, 15846, 21, 15837],\n",
              " 249331: [7336],\n",
              " 249378: [11518],\n",
              " 249857: [18611],\n",
              " 249974: [16261, 16308],\n",
              " 251596: [15784],\n",
              " 251969: [1182],\n",
              " 252211: [7619, 10699, 9991, 14366, 12966],\n",
              " 252252: [14149],\n",
              " 252924: [1445, 1445],\n",
              " 253149: [14163, 14163, 17368],\n",
              " 253242: [14145, 5202],\n",
              " 253543: [18611, 15883, 5780],\n",
              " 253886: [12966],\n",
              " 254124: [2622, 2615],\n",
              " 254356: [16058, 16055, 346],\n",
              " 254834: [15910, 16047],\n",
              " 255123: [16308, 16308, 16282, 16261],\n",
              " 256626: [12688],\n",
              " 256746: [16284],\n",
              " 258021: [13423, 6072, 13421, 13759, 13421, 13423, 13759, 6072],\n",
              " 258299: [1009],\n",
              " 258554: [14447],\n",
              " 258709: [16332],\n",
              " 259367: [17006, 17009, 17006, 17009],\n",
              " 259992: [5489],\n",
              " 260409: [16343, 16307],\n",
              " 260456: [2540],\n",
              " 260656: [20],\n",
              " 261132: [14936],\n",
              " 261488: [10447],\n",
              " 262301: [15961, 4828],\n",
              " 262489: [18973, 51],\n",
              " 262594: [14178, 14148, 11879, 1321, 4542, 14179],\n",
              " 263577: [6839, 14168, 14168],\n",
              " 264063: [15883, 19709, 16588],\n",
              " 264092: [14955, 14938],\n",
              " 264192: [6463],\n",
              " 265263: [17354, 16380, 16324, 16378],\n",
              " 265324: [2505, 2501, 13421, 2505, 2501, 13421],\n",
              " 265616: [15910, 17563, 16308],\n",
              " 265686: [16308, 16364, 16260],\n",
              " 266551: [13441, 11931, 13434, 11919, 5505],\n",
              " 267108: [15906],\n",
              " 267113: [15953],\n",
              " 267463: [18611, 18812, 18813, 18814],\n",
              " 267901: [16282,\n",
              "  4829,\n",
              "  16265,\n",
              "  16045,\n",
              "  16264,\n",
              "  4829,\n",
              "  16045,\n",
              "  16282,\n",
              "  16265,\n",
              "  16264,\n",
              "  4829,\n",
              "  16045,\n",
              "  16282,\n",
              "  16265,\n",
              "  16264],\n",
              " 268478: [15786],\n",
              " 269758: [15961, 16049, 15961, 16049, 15961, 15961],\n",
              " 269997: [14206, 16034],\n",
              " 270134: [17570],\n",
              " 270271: [14762],\n",
              " 270414: [10476, 16533, 10481],\n",
              " 270696: [9294, 1356, 9294, 1356],\n",
              " 270872: [14143, 14143],\n",
              " 270901: [12630, 8602, 19442, 10902],\n",
              " 271074: [14937, 15014],\n",
              " 271331: [14177, 14177],\n",
              " 271451: [18611],\n",
              " 271988: [16308, 16308],\n",
              " 272056: [14167],\n",
              " 272088: [14146],\n",
              " 274771: [4828, 1460],\n",
              " 275494: [16323, 16288, 16056],\n",
              " 275703: [2608],\n",
              " 275711: [15014, 4487],\n",
              " 275852: [16045],\n",
              " 275988: [7938],\n",
              " 277733: [11518],\n",
              " 278474: [6132],\n",
              " 279006: [7582, 17764],\n",
              " 279068: [16030],\n",
              " 279599: [16054, 16382],\n",
              " 280027: [16364, 16270],\n",
              " 280153: [16308, 16308, 16260, 16050],\n",
              " 280558: [5612, 733, 9987, 8981, 14174, 13153],\n",
              " 281206: [14142],\n",
              " 281789: [14177, 14178],\n",
              " 283238: [16047, 16045, 16050, 16047, 16045, 16050, 16045, 16047, 16050],\n",
              " 283557: [18336],\n",
              " 283843: [1170, 2871, 15897],\n",
              " 283863: [16045],\n",
              " 284047: [15782],\n",
              " 284677: [4387],\n",
              " 285851: [16288],\n",
              " 286203: [14938, 15015],\n",
              " 287644: [15961, 4828, 16049, 15961],\n",
              " 287706: [2172],\n",
              " 287907: [16264, 16266, 16265, 14397],\n",
              " 288423: [15772],\n",
              " 288644: [519],\n",
              " 288872: [16045, 3040],\n",
              " 288936: [16283, 16283, 16283],\n",
              " 289054: [11518],\n",
              " 289413: [1445],\n",
              " 290284: [16010, 16312, 15958, 16268],\n",
              " 290967: [1178, 1178],\n",
              " 291459: [17341, 16045],\n",
              " 291807: [4506],\n",
              " 291948: [17098],\n",
              " 292067: [16315, 16050],\n",
              " 292209: [7422, 11546, 3673],\n",
              " 292252: [11596],\n",
              " 292994: [18611],\n",
              " 293048: [16015],\n",
              " 293331: [2616],\n",
              " 293399: [14179, 14168, 4792],\n",
              " 293878: [16323, 16270, 16619],\n",
              " 294434: [15775, 15775],\n",
              " 296098: [19522,\n",
              "  10945,\n",
              "  11010,\n",
              "  10986,\n",
              "  10986,\n",
              "  10945,\n",
              "  11010,\n",
              "  19522,\n",
              "  10986,\n",
              "  19522,\n",
              "  11010,\n",
              "  10945,\n",
              "  10945,\n",
              "  19522,\n",
              "  11010,\n",
              "  10945,\n",
              "  11010,\n",
              "  10986,\n",
              "  10986,\n",
              "  19522],\n",
              " 297231: [16308, 16283, 16283, 16047],\n",
              " 297367: [15910],\n",
              " 297632: [15898, 15898, 14931, 4679],\n",
              " 298583: [10576, 10531, 10504],\n",
              " 298796: [16333, 14549, 16090, 16054, 15958],\n",
              " 298874: [16260],\n",
              " 299251: [4038, 18736],\n",
              " 299311: [5489],\n",
              " 299331: [16049],\n",
              " 299421: [17060, 17061],\n",
              " 299977: [13305],\n",
              " 300262: [9648, 9648],\n",
              " 301032: [17119, 16045, 16282],\n",
              " 302318: [19709],\n",
              " 302989: [9577],\n",
              " 303839: [13304],\n",
              " 303904: [10312],\n",
              " 303981: [12630, 14686, 14954, 350],\n",
              " 303999: [16056, 16071],\n",
              " 304682: [14505, 14501],\n",
              " 305589: [15896],\n",
              " 305742: [15619, 16010, 18867],\n",
              " 306107: [2117],\n",
              " 306736: [16050, 16364, 16260, 16321, 13305],\n",
              " 306892: [19182, 19245],\n",
              " 307798: [14848, 14848],\n",
              " 309452: [16308, 16282],\n",
              " 309594: [16533, 18477],\n",
              " 310123: [13304],\n",
              " 310146: [18867],\n",
              " 310612: [18611, 18611],\n",
              " 311576: [10903, 10947],\n",
              " 311651: [18335],\n",
              " 311751: [14382],\n",
              " 312012: [16613, 15952],\n",
              " 313434: [9563],\n",
              " 313554: [15900],\n",
              " 314403: [4972, 18611],\n",
              " 315166: [2904, 10400, 2904, 10400],\n",
              " 315852: [15906],\n",
              " 316672: [13992, 14549, 14884, 15955],\n",
              " 317572: [16049],\n",
              " 317837: [7575],\n",
              " 318696: [18364],\n",
              " 318886: [16260],\n",
              " 319651: [16312],\n",
              " 320314: [18877],\n",
              " 320377: [14829, 15752, 15941, 15958, 9776],\n",
              " 320744: [15845, 15846],\n",
              " 321396: [18611],\n",
              " 321926: [5489, 15910],\n",
              " 321967: [16388, 12594],\n",
              " 322288: [17434, 17286],\n",
              " 323009: [13355, 13355],\n",
              " 324526: [10531],\n",
              " 324743: [18611, 18611],\n",
              " 324906: [1033],\n",
              " 325373: [10808, 16282],\n",
              " 325988: [17093],\n",
              " 326119: [3584, 14884, 16269, 14112],\n",
              " 326391: [12914, 446],\n",
              " 326534: [17624, 16089],\n",
              " 329402: [14937, 14939, 15014],\n",
              " 329518: [15954],\n",
              " 329726: [283],\n",
              " 329826: [16269],\n",
              " 329832: [16353, 17354, 16390, 16378, 13804, 16380, 16378],\n",
              " 330199: [13313, 13777],\n",
              " 330206: [974, 14504],\n",
              " 331236: [312],\n",
              " 331576: [17060],\n",
              " 331612: [15827, 15579],\n",
              " 331731: [1445],\n",
              " 333337: [14145],\n",
              " 334599: [14169, 14169],\n",
              " 335847: [4792, 4792],\n",
              " 336724: [16344, 9007, 16345, 15783],\n",
              " 337029: [10526, 17747],\n",
              " 337118: [14168, 14168],\n",
              " 337139: [18611],\n",
              " 337836: [7575],\n",
              " 338172: [14163, 14163],\n",
              " 338506: [14145],\n",
              " 338893: [4444, 16270, 16269, 16265, 16266, 16054],\n",
              " 338971: [16073, 16073],\n",
              " 340827: [7791, 16323, 18867, 16326, 16288],\n",
              " 341501: [6452],\n",
              " 341646: [16322, 14954, 5946, 15847, 5944, 15579, 15957, 6140, 4872, 6460],\n",
              " 341966: [16267, 16263, 16266, 16264],\n",
              " 342063: [12930],\n",
              " 342399: [1528],\n",
              " 342513: [15896],\n",
              " 342666: [16046, 15900],\n",
              " 344068: [18490, 18487],\n",
              " 344669: [15910],\n",
              " 346006: [16284, 16047, 16309, 16261, 16308],\n",
              " 346014: [9980, 12621],\n",
              " 346147: [15804],\n",
              " 346832: [16284, 16268, 16270, 16261],\n",
              " 346874: [4503],\n",
              " 347407: [9893, 16041],\n",
              " 347427: [5290],\n",
              " 347596: [17061],\n",
              " 348676: [15955, 15845, 15953],\n",
              " 348852: [15883],\n",
              " 349144: [18611, 18611, 18611],\n",
              " 349158: [16270],\n",
              " 349668: [4675],\n",
              " 349823: [16045, 16050],\n",
              " 350024: [17036, 17036],\n",
              " 351539: [16353, 17354, 18867],\n",
              " 352402: [6927],\n",
              " 352492: [13355, 4972],\n",
              " 353169: [16388, 13777, 16388, 13777, 13777, 16388],\n",
              " 353346: [15014, 14941, 16049, 16283, 16261],\n",
              " 354032: [18629],\n",
              " 354688: [18477, 16321, 16339],\n",
              " 354962: [15695, 15778],\n",
              " 355948: [10945],\n",
              " 356494: [16533, 15786],\n",
              " 357208: [16045],\n",
              " 357234: [14167, 14167],\n",
              " 357282: [15689, 15747],\n",
              " 357573: [14169],\n",
              " 357601: [17961],\n",
              " 357678: [5047, 8903],\n",
              " 358533: [16284, 16308],\n",
              " 358611: [18364],\n",
              " 358832: [15799, 3695],\n",
              " 359267: [14203, 4635, 14954],\n",
              " 359661: [5489],\n",
              " 360697: [16045, 4828],\n",
              " 361494: [5693],\n",
              " 362194: [1720],\n",
              " 362528: [2606, 16270, 13133],\n",
              " 362693: [14146],\n",
              " 363859: [17093],\n",
              " 365744: [14143],\n",
              " 365963: [10885, 16284, 10897, 16261, 10929],\n",
              " 365967: [15698, 2567],\n",
              " 366183: [16261, 10400, 8996],\n",
              " 366592: [15950],\n",
              " 366988: [5489],\n",
              " 367721: [14955],\n",
              " 368797: [10658, 6441],\n",
              " 369128: [16340, 16321, 15970, 11051],\n",
              " 369294: [15828],\n",
              " 369641: [1445],\n",
              " 370098: [16052, 16052],\n",
              " 370646: [16382],\n",
              " 370894: [353, 349, 353, 349],\n",
              " 371284: [14602, 4527],\n",
              " 371307: [16054, 19478],\n",
              " 371323: [4828, 15961],\n",
              " 371447: [18973],\n",
              " 373432: [16282, 16308, 16614],\n",
              " 374034: [2261],\n",
              " 374203: [7384],\n",
              " 374911: [7362, 864, 18738, 14686],\n",
              " 375012: [16045, 16308, 16283],\n",
              " 375284: [16031],\n",
              " 375814: [14178],\n",
              " 375883: [9316, 14204, 2886, 16093],\n",
              " 375986: [5898, 5899],\n",
              " 376023: [18916],\n",
              " 376346: [16380, 16378, 16353, 17354],\n",
              " 376759: [16038],\n",
              " 377141: [16364, 16288],\n",
              " 377464: [16613, 14443, 5068],\n",
              " 379053: [5932],\n",
              " 379202: [16050, 16045],\n",
              " 379239: [12966],\n",
              " 379259: [10932, 16282, 10944],\n",
              " 379581: [7291, 7291, 7291],\n",
              " 379769: [15957],\n",
              " 379857: [4372],\n",
              " 379927: [12214],\n",
              " 380548: [2122],\n",
              " 380588: [15850],\n",
              " 381399: [17432],\n",
              " 383617: [543],\n",
              " 383879: [16308, 752, 10726],\n",
              " 383893: [15910, 15897],\n",
              " 384663: [12930],\n",
              " 385141: [15803, 14178],\n",
              " 385286: [18867],\n",
              " 385363: [1685],\n",
              " 386254: [15795],\n",
              " 387388: [17091, 17091, 9737, 7313],\n",
              " 387663: [15897, 15910],\n",
              " 388286: [18611, 18611],\n",
              " 388557: [14854, 1064, 8339],\n",
              " 390352: [5899, 5898, 16971, 3197],\n",
              " 390537: [11141, 14687, 12940, 2606, 14686, 2612, 7489],\n",
              " 390942: [310],\n",
              " 393482: [10447, 16264, 16377, 15953],\n",
              " 393532: [17677],\n",
              " 393563: [2156],\n",
              " 394134: [16315, 10318, 16057],\n",
              " 394888: [15887],\n",
              " 395033: [16353, 17354],\n",
              " 395243: [17762, 8866, 5114],\n",
              " 395307: [16049, 15961],\n",
              " 395843: [13133, 16260, 13131, 16364, 2317],\n",
              " 395903: [12928],\n",
              " 395927: [7464],\n",
              " 396301: [1383],\n",
              " 396669: [2386, 14060],\n",
              " 396764: [18611],\n",
              " 396886: [16309, 16047],\n",
              " 397498: [11600, 16260],\n",
              " 397882: [5052],\n",
              " 398433: [14504, 7384],\n",
              " 398609: [4508, 4508],\n",
              " 399158: [17093],\n",
              " 401294: [5932],\n",
              " 401494: [5898],\n",
              " 402577: [10944, 19418],\n",
              " 403304: [15910, 15897],\n",
              " 403914: [14141, 1186, 10332, 14141, 10332, 1186],\n",
              " 404987: [16387],\n",
              " 406071: [14178, 14178],\n",
              " 406787: [14098],\n",
              " 407363: [16049, 16045],\n",
              " 407816: [14875, 10576, 2174],\n",
              " 407958: [16307],\n",
              " 409756: [16533, 10478, 8856, 3211, 423, 8302],\n",
              " 409949: [752, 16288],\n",
              " 410071: [5095],\n",
              " 410546: [14146, 14146, 14146],\n",
              " 411486: [17445],\n",
              " 411833: [235],\n",
              " 412039: [10576, 10531],\n",
              " 412491: [18842, 18843, 3283, 18842, 18843, 3283, 18843, 3283, 18842],\n",
              " 412539: [16049, 16050],\n",
              " 413417: [17354, 16381],\n",
              " 413451: [14163],\n",
              " 413489: [6697],\n",
              " 413872: [7466, 16355, 16312, 16353, 16270, 17354, 118],\n",
              " 414128: [2548, 16055],\n",
              " 414367: [12108, 16322, 756, 15954, 6442],\n",
              " 414453: [16049],\n",
              " 414706: [8532],\n",
              " 415097: [17445],\n",
              " 415438: [14162],\n",
              " 416058: [14884, 16050],\n",
              " 416559: [6337, 17551],\n",
              " 416833: [14447],\n",
              " 416897: [4167],\n",
              " 416986: [1095],\n",
              " 417982: [14937, 14937],\n",
              " 418542: [16090, 12622, 14021, 16686, 14018],\n",
              " 418692: [1166, 13779],\n",
              " 419292: [17061],\n",
              " 419329: [12571, 15575, 14954, 14702, 5946, 14703, 8529, 16093, 16332],\n",
              " 420287: [16045, 16045],\n",
              " 420457: [12566],\n",
              " 421108: [12337],\n",
              " 421247: [18173, 14370],\n",
              " 421304: [10576, 2174],\n",
              " 421554: [14143, 14093],\n",
              " 421606: [16050, 16614],\n",
              " 421893: [18842, 13162, 14272, 18843],\n",
              " 422069: [45],\n",
              " 422301: [14936],\n",
              " 422398: [16011],\n",
              " 423328: [17091, 16261, 16282, 16308, 12548, 18477],\n",
              " 423522: [6897],\n",
              " 424022: [14168],\n",
              " 424521: [11517],\n",
              " 425403: [15830],\n",
              " 426257: [18815, 16260, 18813, 18611, 16340, 16364],\n",
              " 426347: [17425, 14954],\n",
              " 426372: [17354, 16380, 16378, 16381],\n",
              " 427234: [5489, 10958],\n",
              " 427489: [18611, 8996, 8996, 18611, 18611, 8996, 18611, 8996],\n",
              " 427674: [14163],\n",
              " 429426: [5879],\n",
              " 429951: [11065],\n",
              " 430096: [16087],\n",
              " 430264: [15768, 4321],\n",
              " 431424: [16364, 16323, 16364, 16270],\n",
              " 432636: [2614],\n",
              " 433161: [865],\n",
              " 433792: [12620, 15321, 16308],\n",
              " 434888: [10726],\n",
              " 434946: [16269, 16268, 16269, 16268],\n",
              " 435258: [2545],\n",
              " 435278: [16387, 16043, 16053, 16043, 16392],\n",
              " 435367: [16614],\n",
              " 436108: [10650, 10043, 12978],\n",
              " 436687: [17060, 16265],\n",
              " 436809: [2996, 4634],\n",
              " 436952: [14177],\n",
              " 437478: [15910, 15897],\n",
              " 438002: [5886, 5885],\n",
              " 438401: [17340],\n",
              " 438536: [5898, 5899],\n",
              " 439392: [14939, 14940],\n",
              " 441332: [14554, 19522],\n",
              " 441528: [1887],\n",
              " 442112: [15810, 15689],\n",
              " 442886: [16056, 16055, 8651, 16392],\n",
              " 443603: [18611],\n",
              " 443751: [14166],\n",
              " 443846: [14830, 14110],\n",
              " 444996: [16315, 15970],\n",
              " 445218: [15896, 16308, 5132, 4828],\n",
              " 445636: [15783, 10949],\n",
              " 445754: [16044, 10400],\n",
              " 445952: [16011, 16024],\n",
              " 446299: [14262],\n",
              " 447256: [2398],\n",
              " 448001: [7600],\n",
              " 448511: [4503],\n",
              " 448832: [16057, 16071],\n",
              " 449642: [16381, 16380, 16353, 16378, 17354],\n",
              " 449953: [19200,\n",
              "  19704,\n",
              "  19054,\n",
              "  19024,\n",
              "  19190,\n",
              "  19025,\n",
              "  10998,\n",
              "  19039,\n",
              "  11018,\n",
              "  19196,\n",
              "  19475,\n",
              "  19466],\n",
              " 450071: [13760, 18681],\n",
              " 450103: [14162],\n",
              " 450156: [18019, 282, 1437, 1441],\n",
              " 450213: [5290],\n",
              " 450279: [13428, 13431],\n",
              " 450313: [16261, 16284, 16261],\n",
              " 450803: [16057, 18166],\n",
              " 452051: [4972],\n",
              " 452081: [16315, 16339, 16364],\n",
              " 453654: [19070],\n",
              " 453762: [16613, 15799],\n",
              " 454754: [15846, 16264],\n",
              " 455389: [4926],\n",
              " 455773: [16282, 16308, 16380, 17354],\n",
              " 455824: [16322],\n",
              " 456114: [15788, 17058],\n",
              " 456287: [12930, 14057],\n",
              " 456477: [18611],\n",
              " 457166: [16533, 16348],\n",
              " 457698: [16269, 16343],\n",
              " 457907: [14144],\n",
              " 459534: [1095],\n",
              " 459583: [16284, 16261],\n",
              " 459882: [16050],\n",
              " 461569: [10516, 2727],\n",
              " 462121: [15695, 15816, 15697],\n",
              " 462848: [61],\n",
              " 462941: [18973],\n",
              " 463814: [16322, 16283],\n",
              " 464836: [16038],\n",
              " 465887: [10478, 15846],\n",
              " 466053: [16270, 16364],\n",
              " 466506: [15887, 16260, 16268],\n",
              " 467077: [16533, 15752, 15958, 15957, 15953, 16324],\n",
              " 467711: [2099, 16345, 2099, 16345],\n",
              " ...}"
            ]
          },
          "metadata": {
            "tags": []
          },
          "execution_count": 75
        }
      ]
    },
    {
      "cell_type": "code",
      "metadata": {
        "id": "xrXppJWMSn14",
        "colab_type": "code",
        "outputId": "9c5df90f-ad87-4b79-e0f3-c03952029251",
        "colab": {
          "base_uri": "https://localhost:8080/",
          "height": 52
        }
      },
      "source": [
        "from sklearn.preprocessing import LabelEncoder\n",
        "le = LabelEncoder()\n",
        "if 467077 in buy_item_dict:\n",
        "    print(\"Hello\")\n",
        "    positive_indices = le.fit_transform(buy_item_dict[467077])\n",
        "    print(positive_indices)\n"
      ],
      "execution_count": 0,
      "outputs": [
        {
          "output_type": "stream",
          "text": [
            "Hello\n",
            "[5 0 3 2 1 4]\n"
          ],
          "name": "stdout"
        }
      ]
    },
    {
      "cell_type": "code",
      "metadata": {
        "id": "C5FAPyHXldgE",
        "colab_type": "code",
        "outputId": "22798580-b3ec-433a-f9c0-4cdd1173c216",
        "colab": {
          "base_uri": "https://localhost:8080/",
          "height": 202
        }
      },
      "source": [
        "df.head()"
      ],
      "execution_count": 0,
      "outputs": [
        {
          "output_type": "execute_result",
          "data": {
            "text/html": [
              "<div>\n",
              "<style scoped>\n",
              "    .dataframe tbody tr th:only-of-type {\n",
              "        vertical-align: middle;\n",
              "    }\n",
              "\n",
              "    .dataframe tbody tr th {\n",
              "        vertical-align: top;\n",
              "    }\n",
              "\n",
              "    .dataframe thead th {\n",
              "        text-align: right;\n",
              "    }\n",
              "</style>\n",
              "<table border=\"1\" class=\"dataframe\">\n",
              "  <thead>\n",
              "    <tr style=\"text-align: right;\">\n",
              "      <th></th>\n",
              "      <th>session_id</th>\n",
              "      <th>timestamp</th>\n",
              "      <th>item_id</th>\n",
              "      <th>category</th>\n",
              "    </tr>\n",
              "  </thead>\n",
              "  <tbody>\n",
              "    <tr>\n",
              "      <th>208</th>\n",
              "      <td>61</td>\n",
              "      <td>2014-04-02T07:00:13.748Z</td>\n",
              "      <td>12932</td>\n",
              "      <td>0</td>\n",
              "    </tr>\n",
              "    <tr>\n",
              "      <th>209</th>\n",
              "      <td>61</td>\n",
              "      <td>2014-04-02T07:00:17.209Z</td>\n",
              "      <td>12932</td>\n",
              "      <td>0</td>\n",
              "    </tr>\n",
              "    <tr>\n",
              "      <th>210</th>\n",
              "      <td>61</td>\n",
              "      <td>2014-04-02T07:01:26.344Z</td>\n",
              "      <td>12932</td>\n",
              "      <td>0</td>\n",
              "    </tr>\n",
              "    <tr>\n",
              "      <th>211</th>\n",
              "      <td>61</td>\n",
              "      <td>2014-04-02T07:02:02.150Z</td>\n",
              "      <td>12932</td>\n",
              "      <td>0</td>\n",
              "    </tr>\n",
              "    <tr>\n",
              "      <th>212</th>\n",
              "      <td>61</td>\n",
              "      <td>2014-04-02T07:02:05.171Z</td>\n",
              "      <td>12932</td>\n",
              "      <td>0</td>\n",
              "    </tr>\n",
              "  </tbody>\n",
              "</table>\n",
              "</div>"
            ],
            "text/plain": [
              "     session_id                 timestamp  item_id  category\n",
              "208          61  2014-04-02T07:00:13.748Z    12932         0\n",
              "209          61  2014-04-02T07:00:17.209Z    12932         0\n",
              "210          61  2014-04-02T07:01:26.344Z    12932         0\n",
              "211          61  2014-04-02T07:02:02.150Z    12932         0\n",
              "212          61  2014-04-02T07:02:05.171Z    12932         0"
            ]
          },
          "metadata": {
            "tags": []
          },
          "execution_count": 77
        }
      ]
    },
    {
      "cell_type": "code",
      "metadata": {
        "id": "AhYRUTVNldgI",
        "colab_type": "code",
        "colab": {}
      },
      "source": [
        "import torch\n",
        "from torch_geometric.data import InMemoryDataset\n",
        "from tqdm import tqdm\n",
        "\n",
        "class YooChooseDataset(InMemoryDataset):\n",
        "    def __init__(self, root, transform=None, pre_transform=None):\n",
        "        super(YooChooseDataset, self).__init__(root, transform, pre_transform)\n",
        "        self.data, self.slices = torch.load(self.processed_paths[0])\n",
        "\n",
        "    @property\n",
        "    def raw_file_names(self):\n",
        "        return []\n",
        "    @property\n",
        "    def processed_file_names(self):\n",
        "        return ['/content/drive/My Drive/RecSys/yoochoose_click_binary_100000_sess.dataset']\n",
        "\n",
        "    def download(self):\n",
        "        pass\n",
        "    \n",
        "    def process(self):\n",
        "        \n",
        "        data_list = []\n",
        "\n",
        "        # process by session_id\n",
        "        grouped = df.groupby('session_id')\n",
        "        for session_id, group in tqdm(grouped):\n",
        "            le = LabelEncoder()\n",
        "            sess_item_id = le.fit_transform(group.item_id)\n",
        "            group = group.reset_index(drop=True)\n",
        "            group['sess_item_id'] = sess_item_id\n",
        "            node_features = group.loc[group.session_id==session_id,['sess_item_id','item_id','category']].sort_values('sess_item_id')[['item_id','category']].drop_duplicates().values\n",
        "\n",
        "            node_features = torch.LongTensor(node_features).unsqueeze(1)\n",
        "            target_nodes = group.sess_item_id.values[1:]\n",
        "            source_nodes = group.sess_item_id.values[:-1]\n",
        "\n",
        "            edge_index = torch.tensor([source_nodes,\n",
        "                                   target_nodes], dtype=torch.long)\n",
        "            x = node_features\n",
        "\n",
        "            if session_id in buy_item_dict:\n",
        "                positive_indices = le.transform(buy_item_dict[session_id])\n",
        "                # print(positive_indices)\n",
        "                label = np.zeros(len(node_features))\n",
        "                label[positive_indices] = 1\n",
        "            else:\n",
        "                # print(\"Hello\")\n",
        "                label = [0] * len(node_features)\n",
        "\n",
        "\n",
        "             = torch.FloatTensor(label)\n",
        "\n",
        "            data = Data(x=x, edge_index=edge_index, y=y)\n",
        "y\n",
        "            data_list.append(data)\n",
        "        \n",
        "        data, slices = self.collate(data_list)\n",
        "        torch.save((data, slices), self.processed_paths[0])\n",
        "        "
      ],
      "execution_count": 0,
      "outputs": []
    },
    {
      "cell_type": "code",
      "metadata": {
        "scrolled": true,
        "id": "xe-cUwJildgL",
        "colab_type": "code",
        "colab": {}
      },
      "source": [
        "dataset = YooChooseDataset('../')"
      ],
      "execution_count": 0,
      "outputs": []
    },
    {
      "cell_type": "code",
      "metadata": {
        "id": "_3h2TTcIPtoy",
        "colab_type": "code",
        "outputId": "e92df5e8-8ca3-4a84-8546-58ecefaab788",
        "colab": {
          "base_uri": "https://localhost:8080/",
          "height": 35
        }
      },
      "source": [
        "dataset"
      ],
      "execution_count": 0,
      "outputs": [
        {
          "output_type": "execute_result",
          "data": {
            "text/plain": [
              "YooChooseDataset(100000)"
            ]
          },
          "metadata": {
            "tags": []
          },
          "execution_count": 80
        }
      ]
    },
    {
      "cell_type": "code",
      "metadata": {
        "scrolled": true,
        "id": "TwN7aDAAldgP",
        "colab_type": "code",
        "colab": {}
      },
      "source": [
        "# grouped = df.groupby('session_id')\n",
        "# data_list= []\n",
        "# for session_id, group in tqdm(grouped):\n",
        "#     le = LabelEncoder()\n",
        "#     sess_item_id = le.fit_transform(group.item_id)\n",
        "#     group = group.reset_index(drop=True)\n",
        "#     group['sess_item_id'] = sess_item_id\n",
        "#     node_features = group.loc[group.session_id==session_id,['sess_item_id','item_id']].sort_values('sess_item_id').item_id.drop_duplicates().values\n",
        "\n",
        "#     node_features = torch.LongTensor(node_features).unsqueeze(1)\n",
        "#     target_nodes = group.sess_item_id.values[1:]\n",
        "#     source_nodes = group.sess_item_id.values[:-1]\n",
        "\n",
        "#     edge_index = torch.tensor([source_nodes,\n",
        "#                            target_nodes], dtype=torch.long)\n",
        "#     x = node_features\n",
        "    \n",
        "#     if session_id in buy_item_dict:\n",
        "#         positive_indices = le.transform(buy_item_dict[session_id])\n",
        "#         label = np.zeros(len(node_features))\n",
        "#         label[positive_indices] = 1\n",
        "#     else:\n",
        "#         label = [0] * len(node_features)\n",
        "\n",
        "    \n",
        "#     y = torch.FloatTensor(label)\n",
        "    \n",
        "#     data = Data(x=x, edge_index=edge_index, y=y)\n",
        "    \n",
        "#     data_list.append(data)"
      ],
      "execution_count": 0,
      "outputs": []
    },
    {
      "cell_type": "code",
      "metadata": {
        "id": "xKLVWYvFldgS",
        "colab_type": "code",
        "outputId": "6c83e540-c0b2-432b-a3c6-6935900542d9",
        "colab": {
          "base_uri": "https://localhost:8080/",
          "height": 35
        }
      },
      "source": [
        "dataset = dataset.shuffle()\n",
        "one_tenth_length = int(len(dataset) * 0.1)\n",
        "train_dataset = dataset[:one_tenth_length * 8]\n",
        "val_dataset = dataset[one_tenth_length*8:one_tenth_length * 9]\n",
        "test_dataset = dataset[one_tenth_length*9:]\n",
        "len(train_dataset), len(val_dataset), len(test_dataset)"
      ],
      "execution_count": 0,
      "outputs": [
        {
          "output_type": "execute_result",
          "data": {
            "text/plain": [
              "(80000, 10000, 10000)"
            ]
          },
          "metadata": {
            "tags": []
          },
          "execution_count": 82
        }
      ]
    },
    {
      "cell_type": "code",
      "metadata": {
        "id": "iRuAASu6ldgY",
        "colab_type": "code",
        "colab": {}
      },
      "source": [
        "from torch_geometric.data import DataLoader\n",
        "batch_size= 512\n",
        "train_loader = DataLoader(train_dataset, batch_size=batch_size)\n",
        "val_loader = DataLoader(val_dataset, batch_size=batch_size)\n",
        "test_loader = DataLoader(test_dataset, batch_size=batch_size)"
      ],
      "execution_count": 0,
      "outputs": []
    },
    {
      "cell_type": "code",
      "metadata": {
        "id": "NfQu6rqtldgb",
        "colab_type": "code",
        "outputId": "b213e943-befe-4291-82dc-201351834441",
        "colab": {
          "base_uri": "https://localhost:8080/",
          "height": 35
        }
      },
      "source": [
        "num_items = df.item_id.max() +1\n",
        "num_categories = df.category.max()+1\n",
        "num_items , num_categories"
      ],
      "execution_count": 0,
      "outputs": [
        {
          "output_type": "execute_result",
          "data": {
            "text/plain": [
              "(20464, 1)"
            ]
          },
          "metadata": {
            "tags": []
          },
          "execution_count": 84
        }
      ]
    },
    {
      "cell_type": "code",
      "metadata": {
        "id": "FmUSG1dJldgf",
        "colab_type": "code",
        "colab": {}
      },
      "source": [
        "embed_dim = 128\n",
        "from torch_geometric.nn import GraphConv, TopKPooling, GatedGraphConv, SAGEConv, SGConv\n",
        "from torch_geometric.nn import global_mean_pool as gap, global_max_pool as gmp\n",
        "import torch.nn.functional as F\n",
        "class Net(torch.nn.Module):\n",
        "    def __init__(self):\n",
        "        super(Net, self).__init__()\n",
        "\n",
        "        self.conv1 = GraphConv(embed_dim * 2, 128)\n",
        "        self.pool1 = TopKPooling(128, ratio=0.9)\n",
        "        self.conv2 = GraphConv(128, 128)\n",
        "        self.pool2 = TopKPooling(128, ratio=0.9)\n",
        "        self.conv3 = GraphConv(128, 128)\n",
        "        self.pool3 = TopKPooling(128, ratio=0.9)\n",
        "        self.item_embedding = torch.nn.Embedding(num_embeddings=num_items, embedding_dim=embed_dim)\n",
        "        self.category_embedding = torch.nn.Embedding(num_embeddings=num_categories, embedding_dim=embed_dim)        \n",
        "        self.lin1 = torch.nn.Linear(256, 256)\n",
        "        self.lin2 = torch.nn.Linear(256, 128)\n",
        "        self.bn1 = torch.nn.BatchNorm1d(128)\n",
        "        self.bn2 = torch.nn.BatchNorm1d(64)\n",
        "        self.act1 = torch.nn.ReLU()\n",
        "        self.act2 = torch.nn.ReLU()        \n",
        "  \n",
        "    def forward(self, data):\n",
        "        x, edge_index, batch = data.x, data.edge_index, data.batch\n",
        "        \n",
        "        item_id = x[:,:,0]\n",
        "        category = x[:,:,1]\n",
        "        \n",
        "\n",
        "        emb_item = self.item_embedding(item_id).squeeze(1)\n",
        "        emb_category = self.category_embedding(category).squeeze(1)\n",
        "        \n",
        "#         emb_item = emb_item.squeeze(1)\n",
        "#         emb_cat\n",
        "        x = torch.cat([emb_item, emb_category], dim=1)  \n",
        "#         print(x.shape)\n",
        "        x = F.relu(self.conv1(x, edge_index))\n",
        "#                 print(x.shape)\n",
        "        x, edge_index, _, batch, _, _ = self.pool1(x, edge_index, None, batch)\n",
        "        x1 = torch.cat([gmp(x, batch), gap(x, batch)], dim=1)\n",
        "\n",
        "        x = F.relu(self.conv2(x, edge_index))\n",
        "     \n",
        "        x, edge_index, _, batch, _, _= self.pool2(x, edge_index, None, batch)\n",
        "        x2 = torch.cat([gmp(x, batch), gap(x, batch)], dim=1)\n",
        "\n",
        "        x = F.relu(self.conv3(x, edge_index))\n",
        "\n",
        "        x, edge_index, _, batch, _, _= self.pool3(x, edge_index, None, batch)\n",
        "        x3 = torch.cat([gmp(x, batch), gap(x, batch)], dim=1)\n",
        "\n",
        "        x = x1 + x2 + x3\n",
        "\n",
        "        x = self.lin1(x)\n",
        "        x = self.act1(x)\n",
        "        x = self.lin2(x)\n",
        "        x = F.dropout(x, p=0.5, training=self.training)\n",
        "        x = self.act2(x)      \n",
        "        \n",
        "        outputs = []\n",
        "        for i in range(x.size(0)):\n",
        "            output = torch.matmul(emb_item[data.batch == i], x[i,:])\n",
        "\n",
        "            outputs.append(output)\n",
        "              \n",
        "        x = torch.cat(outputs, dim=0)\n",
        "        x = torch.sigmoid(x)\n",
        "        \n",
        "        return x"
      ],
      "execution_count": 0,
      "outputs": []
    },
    {
      "cell_type": "code",
      "metadata": {
        "id": "auRLu2R_ldgl",
        "colab_type": "code",
        "colab": {}
      },
      "source": [
        "device = torch.device('cuda')\n",
        "model = Net().to(device)\n",
        "optimizer = torch.optim.Adam(model.parameters(), lr=0.001)\n",
        "crit = torch.nn.BCELoss()"
      ],
      "execution_count": 0,
      "outputs": []
    },
    {
      "cell_type": "code",
      "metadata": {
        "id": "-tLnxhgKldgp",
        "colab_type": "code",
        "colab": {}
      },
      "source": [
        "def train():\n",
        "    model.train()\n",
        "\n",
        "    loss_all = 0\n",
        "    for data in train_loader:\n",
        "        data = data.to(device)\n",
        "        optimizer.zero_grad()\n",
        "        output = model(data)\n",
        "\n",
        "        label = data.y.to(device)\n",
        "        loss = crit(output, label)\n",
        "        loss.backward()\n",
        "        loss_all += data.num_graphs * loss.item()\n",
        "        optimizer.step()\n",
        "    return loss_all / len(train_dataset)"
      ],
      "execution_count": 0,
      "outputs": []
    },
    {
      "cell_type": "code",
      "metadata": {
        "id": "nsZh2i20ldgs",
        "colab_type": "code",
        "colab": {}
      },
      "source": [
        "from sklearn.metrics import roc_auc_score\n",
        "def evaluate(loader):\n",
        "    model.eval()\n",
        "\n",
        "    predictions = []\n",
        "    labels = []\n",
        "\n",
        "    with torch.no_grad():\n",
        "        for data in loader:\n",
        "\n",
        "            data = data.to(device)\n",
        "            pred = model(data).detach().cpu().numpy()\n",
        "\n",
        "            label = data.y.detach().cpu().numpy()\n",
        "            predictions.append(pred)\n",
        "            labels.append(label)\n",
        "\n",
        "    predictions = np.hstack(predictions)\n",
        "    print(predictions)\n",
        "    labels = np.hstack(labels)\n",
        "    print(labels)\n",
        "    \n",
        "    return roc_auc_score(labels, predictions)"
      ],
      "execution_count": 0,
      "outputs": []
    },
    {
      "cell_type": "code",
      "metadata": {
        "id": "ZN186EbYozML",
        "colab_type": "code",
        "colab": {}
      },
      "source": [
        "# print(predictions)"
      ],
      "execution_count": 0,
      "outputs": []
    },
    {
      "cell_type": "code",
      "metadata": {
        "scrolled": true,
        "id": "G53YbOTHldgw",
        "colab_type": "code",
        "outputId": "c826d640-9990-4c51-fac7-84e3ef3ad4d9",
        "colab": {
          "base_uri": "https://localhost:8080/",
          "height": 1000
        }
      },
      "source": [
        "for epoch in range(1, 10):\n",
        "    loss = train()\n",
        "    # val_loader = DataLoader(val_dataset, batch_size=batch_size)\n",
        "    # test_loader = DataLoader(test_dataset, batch_size=batch_size)   \n",
        "    train_acc = evaluate(train_loader)\n",
        "    val_acc = evaluate(val_loader)    \n",
        "    test_acc = evaluate(test_loader)\n",
        "    print('Epoch: {:03d}, Loss: {:.5f}, Train Auc: {:.5f}, Val Auc: {:.5f}, Test Auc: {:.5f}'.\n",
        "          format(epoch, loss, train_acc, val_acc, test_acc))"
      ],
      "execution_count": 0,
      "outputs": [
        {
          "output_type": "stream",
          "text": [
            "[0.00122026 0.00585383 0.00050285 ... 0.05147558 0.00476769 0.01528503]\n",
            "[0. 0. 0. ... 0. 0. 0.]\n",
            "[5.4287102e-07 6.2577038e-07 2.7658456e-07 ... 7.2161420e-03 1.9137913e-05\n",
            " 1.8409908e-05]\n",
            "[0. 0. 0. ... 0. 0. 0.]\n",
            "[0.05524515 0.28086868 0.04109479 ... 0.00393238 0.00151296 0.00211929]\n",
            "[0. 0. 0. ... 0. 0. 0.]\n",
            "Epoch: 001, Loss: 0.21372, Train Auc: 0.85757, Val Auc: 0.70654, Test Auc: 0.67754\n",
            "[0.00040449 0.0053303  0.00022467 ... 0.01589412 0.00594789 0.00514106]\n",
            "[0. 0. 0. ... 0. 0. 0.]\n",
            "[6.8075046e-08 2.5775009e-07 6.6751603e-08 ... 3.0802111e-03 4.4780933e-05\n",
            " 4.9193932e-05]\n",
            "[0. 0. 0. ... 0. 0. 0.]\n",
            "[0.07775791 0.14691028 0.11910281 ... 0.002631   0.00578548 0.00079163]\n",
            "[0. 0. 0. ... 0. 0. 0.]\n",
            "Epoch: 002, Loss: 0.20220, Train Auc: 0.87646, Val Auc: 0.71124, Test Auc: 0.68147\n",
            "[5.9863261e-05 4.3468166e-04 3.3313008e-05 ... 1.9121578e-02 3.6570567e-03\n",
            " 1.0476404e-02]\n",
            "[0. 0. 0. ... 0. 0. 0.]\n",
            "[6.3545915e-09 2.9846561e-08 8.7068281e-09 ... 2.2912987e-03 2.8538002e-06\n",
            " 7.7541408e-06]\n",
            "[0. 0. 0. ... 0. 0. 0.]\n",
            "[2.7873281e-02 2.6038882e-01 1.2526423e-02 ... 1.8570710e-04 1.5692579e-04\n",
            " 4.0704719e-04]\n",
            "[0. 0. 0. ... 0. 0. 0.]\n",
            "Epoch: 003, Loss: 0.19361, Train Auc: 0.88583, Val Auc: 0.71215, Test Auc: 0.68232\n",
            "[1.3549895e-04 8.6994411e-04 6.1747451e-05 ... 8.8540772e-03 1.6369980e-03\n",
            " 2.7501683e-03]\n",
            "[0. 0. 0. ... 0. 0. 0.]\n",
            "[2.3014639e-08 7.2197999e-08 1.1181494e-08 ... 3.0811678e-04 3.1573227e-06\n",
            " 1.6460286e-05]\n",
            "[0. 0. 0. ... 0. 0. 0.]\n",
            "[5.3556930e-02 4.1343093e-01 2.2594554e-02 ... 3.5049490e-04 7.3496182e-04\n",
            " 3.0175518e-04]\n",
            "[0. 0. 0. ... 0. 0. 0.]\n",
            "Epoch: 004, Loss: 0.18493, Train Auc: 0.91024, Val Auc: 0.71421, Test Auc: 0.68901\n",
            "[3.2967023e-04 6.7372259e-04 5.8326015e-05 ... 8.7883631e-03 9.0913096e-04\n",
            " 1.2290177e-03]\n",
            "[0. 0. 0. ... 0. 0. 0.]\n",
            "[1.9165984e-09 1.9558815e-08 2.7245863e-09 ... 1.4277969e-03 3.5875264e-06\n",
            " 5.3013032e-06]\n",
            "[0. 0. 0. ... 0. 0. 0.]\n",
            "[1.9596103e-01 5.4160404e-01 7.3709033e-02 ... 1.5335514e-03 1.1395199e-04\n",
            " 1.9120601e-04]\n",
            "[0. 0. 0. ... 0. 0. 0.]\n",
            "Epoch: 005, Loss: 0.17633, Train Auc: 0.91785, Val Auc: 0.71235, Test Auc: 0.68323\n",
            "[0.00025098 0.00167609 0.00027129 ... 0.01065135 0.00105701 0.00217474]\n",
            "[0. 0. 0. ... 0. 0. 0.]\n",
            "[3.2734535e-09 2.7731055e-08 1.3908430e-08 ... 7.3525123e-05 2.5445224e-06\n",
            " 1.4102546e-06]\n",
            "[0. 0. 0. ... 0. 0. 0.]\n",
            "[6.1917555e-02 4.6610379e-01 3.1789348e-02 ... 8.1484061e-04 8.9557684e-04\n",
            " 3.1901375e-04]\n",
            "[0. 0. 0. ... 0. 0. 0.]\n",
            "Epoch: 006, Loss: 0.16763, Train Auc: 0.93223, Val Auc: 0.71313, Test Auc: 0.68882\n",
            "[7.0504000e-05 4.0650548e-04 2.2946121e-04 ... 3.7832066e-02 1.7417993e-02\n",
            " 3.3531688e-02]\n",
            "[0. 0. 0. ... 0. 0. 0.]\n",
            "[3.1585763e-08 8.5158740e-07 2.6195210e-08 ... 6.8359810e-04 8.6774535e-06\n",
            " 3.4429129e-05]\n",
            "[0. 0. 0. ... 0. 0. 0.]\n",
            "[0.11312212 0.3541988  0.08345748 ... 0.00228499 0.00069374 0.00036194]\n",
            "[0. 0. 0. ... 0. 0. 0.]\n",
            "Epoch: 007, Loss: 0.18191, Train Auc: 0.91914, Val Auc: 0.71364, Test Auc: 0.68377\n",
            "[5.4422326e-05 7.4270740e-04 4.7167618e-05 ... 8.1486953e-03 1.2128067e-03\n",
            " 3.4765617e-03]\n",
            "[0. 0. 0. ... 0. 0. 0.]\n",
            "[4.3075024e-10 6.5834897e-08 3.5844152e-09 ... 7.6000293e-04 1.6046853e-05\n",
            " 2.8234828e-05]\n",
            "[0. 0. 0. ... 0. 0. 0.]\n",
            "[5.4543074e-02 2.9039273e-01 1.2469766e-02 ... 2.0716661e-04 4.2443283e-04\n",
            " 2.6067483e-04]\n",
            "[0. 0. 0. ... 0. 0. 0.]\n",
            "Epoch: 008, Loss: 0.16712, Train Auc: 0.93859, Val Auc: 0.71237, Test Auc: 0.68283\n",
            "[2.7153641e-05 2.7931476e-04 3.9213504e-05 ... 6.9412282e-03 1.0707021e-03\n",
            " 8.5625058e-04]\n",
            "[0. 0. 0. ... 0. 0. 0.]\n",
            "[3.3339936e-10 1.3656023e-08 5.3137450e-09 ... 4.6635025e-05 1.7063412e-07\n",
            " 1.0194312e-06]\n",
            "[0. 0. 0. ... 0. 0. 0.]\n",
            "[3.8509056e-02 3.3013624e-01 2.7607540e-02 ... 6.3107640e-05 3.3376398e-04\n",
            " 6.8301357e-05]\n",
            "[0. 0. 0. ... 0. 0. 0.]\n",
            "Epoch: 009, Loss: 0.15283, Train Auc: 0.94855, Val Auc: 0.71401, Test Auc: 0.68586\n"
          ],
          "name": "stdout"
        }
      ]
    },
    {
      "cell_type": "code",
      "metadata": {
        "id": "LcWEBuhOqdEL",
        "colab_type": "code",
        "colab": {}
      },
      "source": [
        ""
      ],
      "execution_count": 0,
      "outputs": []
    }
  ]
}